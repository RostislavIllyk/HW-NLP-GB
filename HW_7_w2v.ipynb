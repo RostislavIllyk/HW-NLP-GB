{
 "cells": [
  {
   "cell_type": "markdown",
   "id": "4807254a",
   "metadata": {},
   "source": [
    "# HW 7  w2v"
   ]
  },
  {
   "cell_type": "code",
   "execution_count": 1,
   "id": "1f654128",
   "metadata": {},
   "outputs": [
    {
     "name": "stdout",
     "output_type": "stream",
     "text": [
      "2.5.0\n"
     ]
    }
   ],
   "source": [
    "import os\n",
    "import pandas as pd\n",
    "from pymorphy2 import MorphAnalyzer\n",
    "import re\n",
    "import nltk\n",
    "from nltk.corpus import stopwords\n",
    "\n",
    "from collections import Counter\n",
    "from gensim.models import KeyedVectors\n",
    "\n",
    "import numpy as np\n",
    "from sklearn.model_selection import train_test_split\n",
    "\n",
    "\n",
    "import tensorflow as tf\n",
    "import tensorflow.keras.layers as L\n",
    "from tensorflow.keras import Model, Sequential\n",
    "\n",
    "import matplotlib.pyplot as plt\n",
    "\n",
    "\n",
    "print(tf.__version__)\n",
    "\n",
    "\n",
    "#os.environ['CUDA_VISIBLE_DEVICES'] = '-1'\n",
    "ru_emb = KeyedVectors.load_word2vec_format(\"./cc.ru.300.vec/cc.ru.300.vec\")"
   ]
  },
  {
   "cell_type": "code",
   "execution_count": 2,
   "id": "59f45467",
   "metadata": {},
   "outputs": [
    {
     "data": {
      "text/html": [
       "<div>\n",
       "<style scoped>\n",
       "    .dataframe tbody tr th:only-of-type {\n",
       "        vertical-align: middle;\n",
       "    }\n",
       "\n",
       "    .dataframe tbody tr th {\n",
       "        vertical-align: top;\n",
       "    }\n",
       "\n",
       "    .dataframe thead th {\n",
       "        text-align: right;\n",
       "    }\n",
       "</style>\n",
       "<table border=\"1\" class=\"dataframe\">\n",
       "  <thead>\n",
       "    <tr style=\"text-align: right;\">\n",
       "      <th></th>\n",
       "      <th>Rating</th>\n",
       "      <th>Content</th>\n",
       "      <th>Date</th>\n",
       "    </tr>\n",
       "  </thead>\n",
       "  <tbody>\n",
       "    <tr>\n",
       "      <th>0</th>\n",
       "      <td>5</td>\n",
       "      <td>It just works!</td>\n",
       "      <td>2017-08-14</td>\n",
       "    </tr>\n",
       "    <tr>\n",
       "      <th>1</th>\n",
       "      <td>4</td>\n",
       "      <td>В целом удобноное приложение...из минусов хотя...</td>\n",
       "      <td>2017-08-14</td>\n",
       "    </tr>\n",
       "    <tr>\n",
       "      <th>2</th>\n",
       "      <td>5</td>\n",
       "      <td>Отлично все</td>\n",
       "      <td>2017-08-14</td>\n",
       "    </tr>\n",
       "    <tr>\n",
       "      <th>3</th>\n",
       "      <td>5</td>\n",
       "      <td>Стал зависать на 1% работы антивируса. Дальше ...</td>\n",
       "      <td>2017-08-14</td>\n",
       "    </tr>\n",
       "    <tr>\n",
       "      <th>4</th>\n",
       "      <td>5</td>\n",
       "      <td>Очень удобно, работает быстро.</td>\n",
       "      <td>2017-08-14</td>\n",
       "    </tr>\n",
       "    <tr>\n",
       "      <th>...</th>\n",
       "      <td>...</td>\n",
       "      <td>...</td>\n",
       "      <td>...</td>\n",
       "    </tr>\n",
       "    <tr>\n",
       "      <th>20654</th>\n",
       "      <td>1</td>\n",
       "      <td>Ну и шляпа,с роот правами бесполезная прога,ра...</td>\n",
       "      <td>2017-06-01</td>\n",
       "    </tr>\n",
       "    <tr>\n",
       "      <th>20655</th>\n",
       "      <td>5</td>\n",
       "      <td>Ок</td>\n",
       "      <td>2017-06-01</td>\n",
       "    </tr>\n",
       "    <tr>\n",
       "      <th>20656</th>\n",
       "      <td>4</td>\n",
       "      <td>Доволен</td>\n",
       "      <td>2017-06-01</td>\n",
       "    </tr>\n",
       "    <tr>\n",
       "      <th>20657</th>\n",
       "      <td>1</td>\n",
       "      <td>Песопаснасть, рут ни нужын</td>\n",
       "      <td>2017-06-01</td>\n",
       "    </tr>\n",
       "    <tr>\n",
       "      <th>20658</th>\n",
       "      <td>5</td>\n",
       "      <td>Сбербанк бомбовая компания на сегодняшний день...</td>\n",
       "      <td>2017-06-01</td>\n",
       "    </tr>\n",
       "  </tbody>\n",
       "</table>\n",
       "<p>20659 rows × 3 columns</p>\n",
       "</div>"
      ],
      "text/plain": [
       "       Rating                                            Content        Date\n",
       "0           5                                     It just works!  2017-08-14\n",
       "1           4  В целом удобноное приложение...из минусов хотя...  2017-08-14\n",
       "2           5                                        Отлично все  2017-08-14\n",
       "3           5  Стал зависать на 1% работы антивируса. Дальше ...  2017-08-14\n",
       "4           5                     Очень удобно, работает быстро.  2017-08-14\n",
       "...       ...                                                ...         ...\n",
       "20654       1  Ну и шляпа,с роот правами бесполезная прога,ра...  2017-06-01\n",
       "20655       5                                                 Ок  2017-06-01\n",
       "20656       4                                            Доволен  2017-06-01\n",
       "20657       1                         Песопаснасть, рут ни нужын  2017-06-01\n",
       "20658       5  Сбербанк бомбовая компания на сегодняшний день...  2017-06-01\n",
       "\n",
       "[20659 rows x 3 columns]"
      ]
     },
     "execution_count": 2,
     "metadata": {},
     "output_type": "execute_result"
    }
   ],
   "source": [
    "data =pd.read_excel('отзывы за лето.xls')\n",
    "data"
   ]
  },
  {
   "cell_type": "code",
   "execution_count": 3,
   "id": "9820bb89",
   "metadata": {},
   "outputs": [
    {
     "data": {
      "text/html": [
       "<div>\n",
       "<style scoped>\n",
       "    .dataframe tbody tr th:only-of-type {\n",
       "        vertical-align: middle;\n",
       "    }\n",
       "\n",
       "    .dataframe tbody tr th {\n",
       "        vertical-align: top;\n",
       "    }\n",
       "\n",
       "    .dataframe thead th {\n",
       "        text-align: right;\n",
       "    }\n",
       "</style>\n",
       "<table border=\"1\" class=\"dataframe\">\n",
       "  <thead>\n",
       "    <tr style=\"text-align: right;\">\n",
       "      <th></th>\n",
       "      <th>Rating</th>\n",
       "      <th>Content</th>\n",
       "      <th>Date</th>\n",
       "      <th>Content_1</th>\n",
       "    </tr>\n",
       "  </thead>\n",
       "  <tbody>\n",
       "    <tr>\n",
       "      <th>0</th>\n",
       "      <td>5</td>\n",
       "      <td>It just works!</td>\n",
       "      <td>2017-08-14</td>\n",
       "      <td>it just works</td>\n",
       "    </tr>\n",
       "    <tr>\n",
       "      <th>1</th>\n",
       "      <td>4</td>\n",
       "      <td>В целом удобноное приложение...из минусов хотя...</td>\n",
       "      <td>2017-08-14</td>\n",
       "      <td>целое удобноной приложение минус хотеть слишко...</td>\n",
       "    </tr>\n",
       "    <tr>\n",
       "      <th>2</th>\n",
       "      <td>5</td>\n",
       "      <td>Отлично все</td>\n",
       "      <td>2017-08-14</td>\n",
       "      <td>отлично</td>\n",
       "    </tr>\n",
       "    <tr>\n",
       "      <th>3</th>\n",
       "      <td>5</td>\n",
       "      <td>Стал зависать на 1% работы антивируса. Дальше ...</td>\n",
       "      <td>2017-08-14</td>\n",
       "      <td>стать зависать 1 работа антивирус далёкий нику...</td>\n",
       "    </tr>\n",
       "    <tr>\n",
       "      <th>4</th>\n",
       "      <td>5</td>\n",
       "      <td>Очень удобно, работает быстро.</td>\n",
       "      <td>2017-08-14</td>\n",
       "      <td>очень удобно работать быстро</td>\n",
       "    </tr>\n",
       "    <tr>\n",
       "      <th>...</th>\n",
       "      <td>...</td>\n",
       "      <td>...</td>\n",
       "      <td>...</td>\n",
       "      <td>...</td>\n",
       "    </tr>\n",
       "    <tr>\n",
       "      <th>20654</th>\n",
       "      <td>1</td>\n",
       "      <td>Ну и шляпа,с роот правами бесполезная прога,ра...</td>\n",
       "      <td>2017-06-01</td>\n",
       "      <td>шляпа роот право бесполезный прога разраб охре...</td>\n",
       "    </tr>\n",
       "    <tr>\n",
       "      <th>20655</th>\n",
       "      <td>5</td>\n",
       "      <td>Ок</td>\n",
       "      <td>2017-06-01</td>\n",
       "      <td>около</td>\n",
       "    </tr>\n",
       "    <tr>\n",
       "      <th>20656</th>\n",
       "      <td>4</td>\n",
       "      <td>Доволен</td>\n",
       "      <td>2017-06-01</td>\n",
       "      <td>довольный</td>\n",
       "    </tr>\n",
       "    <tr>\n",
       "      <th>20657</th>\n",
       "      <td>1</td>\n",
       "      <td>Песопаснасть, рут ни нужын</td>\n",
       "      <td>2017-06-01</td>\n",
       "      <td>песопаснастя рута нужын</td>\n",
       "    </tr>\n",
       "    <tr>\n",
       "      <th>20658</th>\n",
       "      <td>5</td>\n",
       "      <td>Сбербанк бомбовая компания на сегодняшний день...</td>\n",
       "      <td>2017-06-01</td>\n",
       "      <td>сбербанк бомбовый компания сегодняшний день ли...</td>\n",
       "    </tr>\n",
       "  </tbody>\n",
       "</table>\n",
       "<p>20659 rows × 4 columns</p>\n",
       "</div>"
      ],
      "text/plain": [
       "       Rating                                            Content        Date  \\\n",
       "0           5                                     It just works!  2017-08-14   \n",
       "1           4  В целом удобноное приложение...из минусов хотя...  2017-08-14   \n",
       "2           5                                        Отлично все  2017-08-14   \n",
       "3           5  Стал зависать на 1% работы антивируса. Дальше ...  2017-08-14   \n",
       "4           5                     Очень удобно, работает быстро.  2017-08-14   \n",
       "...       ...                                                ...         ...   \n",
       "20654       1  Ну и шляпа,с роот правами бесполезная прога,ра...  2017-06-01   \n",
       "20655       5                                                 Ок  2017-06-01   \n",
       "20656       4                                            Доволен  2017-06-01   \n",
       "20657       1                         Песопаснасть, рут ни нужын  2017-06-01   \n",
       "20658       5  Сбербанк бомбовая компания на сегодняшний день...  2017-06-01   \n",
       "\n",
       "                                               Content_1  \n",
       "0                                          it just works  \n",
       "1      целое удобноной приложение минус хотеть слишко...  \n",
       "2                                                отлично  \n",
       "3      стать зависать 1 работа антивирус далёкий нику...  \n",
       "4                           очень удобно работать быстро  \n",
       "...                                                  ...  \n",
       "20654  шляпа роот право бесполезный прога разраб охре...  \n",
       "20655                                              около  \n",
       "20656                                          довольный  \n",
       "20657                            песопаснастя рута нужын  \n",
       "20658  сбербанк бомбовый компания сегодняшний день ли...  \n",
       "\n",
       "[20659 rows x 4 columns]"
      ]
     },
     "execution_count": 3,
     "metadata": {},
     "output_type": "execute_result"
    }
   ],
   "source": [
    "mystopwords = stopwords.words(\"russian\")\n",
    "morpher = MorphAnalyzer()\n",
    "\n",
    "\n",
    "def words_only(text):\n",
    "    text =str(text)\n",
    "    return text.lower()   \n",
    "\n",
    "def remove_punkt(text, ptrn):\n",
    "    return re.sub(ptrn, ' ', text)\n",
    "\n",
    "def to_token(text):\n",
    "    return nltk.tokenize.word_tokenize(text)\n",
    "\n",
    "def remove_stopwords(text, stop_words = mystopwords):\n",
    "    return [w for w in text if w not in stop_words]\n",
    "\n",
    "def join_to_str(text_list):\n",
    "    return ' '.join(word for word in text_list)\n",
    "\n",
    "def morphe_text(txt):\n",
    "    txt = [morpher.parse(word)[0].normal_form for word in txt.split() if word not in mystopwords]\n",
    "    return \" \".join(txt)\n",
    "\n",
    "\n",
    "\n",
    "\n",
    "data['Content_1'] = data['Content'].apply(words_only)\n",
    "data['Content_1'] = data['Content_1'].apply(remove_punkt, ptrn=r'[^a-zA-Zа-яА-Я0-9]')\n",
    "data['Content_1'] = data['Content_1'].apply(to_token)\n",
    "data['Content_1'] = data['Content_1'].apply(remove_stopwords)\n",
    "data['Content_1'] = data['Content_1'].apply(join_to_str)\n",
    "data['Content_1'] = data['Content_1'].apply(morphe_text)\n",
    "\n",
    "data"
   ]
  },
  {
   "cell_type": "code",
   "execution_count": 4,
   "id": "ff815f61",
   "metadata": {},
   "outputs": [],
   "source": [
    "def code_w2v_txt(txt, max_len = 100):\n",
    "    sent_w2v = []\n",
    "    zero_point = np.zeros(300)\n",
    "    txt = txt.split()\n",
    "   \n",
    "    for i in range(max_len):\n",
    "        try:\n",
    "            word = ru_emb[txt[i]]\n",
    "        except:\n",
    "            word = zero_point\n",
    "        sent_w2v.append(word)\n",
    "    return np.array(sent_w2v)\n",
    "\n",
    "max_len = 100\n",
    "data['w2v'] = data['Content_1'].apply(code_w2v_txt, max_len = max_len)"
   ]
  },
  {
   "cell_type": "code",
   "execution_count": 5,
   "id": "988e559c",
   "metadata": {
    "scrolled": false
   },
   "outputs": [],
   "source": [
    "X=list(data['w2v'].values)\n",
    "X = np.array(X)\n",
    "y = data['Rating'].values"
   ]
  },
  {
   "cell_type": "code",
   "execution_count": 6,
   "id": "0937e168",
   "metadata": {},
   "outputs": [],
   "source": [
    "X_train, X_test, y_train, y_test = train_test_split(X, y, test_size=0.33, random_state=42)"
   ]
  },
  {
   "cell_type": "code",
   "execution_count": 7,
   "id": "587c7136",
   "metadata": {},
   "outputs": [
    {
     "data": {
      "text/plain": [
       "array([1, 2, 3, 4, 5], dtype=int64)"
      ]
     },
     "execution_count": 7,
     "metadata": {},
     "output_type": "execute_result"
    }
   ],
   "source": [
    "from sklearn.preprocessing import LabelEncoder\n",
    "le = LabelEncoder()\n",
    "train_enc_labels = le.fit_transform(y_train) \n",
    "test_enc_labels = le.transform(y_test)\n",
    "le.classes_"
   ]
  },
  {
   "cell_type": "code",
   "execution_count": 8,
   "id": "b7fb7bf6",
   "metadata": {},
   "outputs": [],
   "source": [
    "def plot_history(history):\n",
    "    plt.plot(history.history['accuracy'])\n",
    "    plt.plot(history.history['val_accuracy'])\n",
    "    plt.title('model accuracy')\n",
    "    plt.ylabel('accuracy')\n",
    "    plt.xlabel('epoch')\n",
    "    plt.legend(['train', 'test'], loc='upper left')\n",
    "    plt.show()"
   ]
  },
  {
   "cell_type": "markdown",
   "id": "7dd6a738",
   "metadata": {},
   "source": [
    "# Возьмем за бейзлан NN на основе LSTM"
   ]
  },
  {
   "cell_type": "code",
   "execution_count": 9,
   "id": "8d0c75a0",
   "metadata": {},
   "outputs": [
    {
     "name": "stdout",
     "output_type": "stream",
     "text": [
      "Model: \"model\"\n",
      "__________________________________________________________________________________________________\n",
      "Layer (type)                    Output Shape         Param #     Connected to                     \n",
      "==================================================================================================\n",
      "input_1 (InputLayer)            [(None, 100, 300)]   0                                            \n",
      "__________________________________________________________________________________________________\n",
      "spatial_dropout1d (SpatialDropo (None, 100, 300)     0           input_1[0][0]                    \n",
      "__________________________________________________________________________________________________\n",
      "bidirectional (Bidirectional)   (None, 100, 14)      17248       spatial_dropout1d[0][0]          \n",
      "__________________________________________________________________________________________________\n",
      "global_average_pooling1d (Globa (None, 14)           0           bidirectional[0][0]              \n",
      "__________________________________________________________________________________________________\n",
      "global_max_pooling1d (GlobalMax (None, 14)           0           bidirectional[0][0]              \n",
      "__________________________________________________________________________________________________\n",
      "concatenate (Concatenate)       (None, 28)           0           global_average_pooling1d[0][0]   \n",
      "                                                                 global_max_pooling1d[0][0]       \n",
      "__________________________________________________________________________________________________\n",
      "dense (Dense)                   (None, 64)           1856        concatenate[0][0]                \n",
      "__________________________________________________________________________________________________\n",
      "dense_1 (Dense)                 (None, 5)            325         dense[0][0]                      \n",
      "==================================================================================================\n",
      "Total params: 19,429\n",
      "Trainable params: 19,429\n",
      "Non-trainable params: 0\n",
      "__________________________________________________________________________________________________\n"
     ]
    }
   ],
   "source": [
    "num_classes = len(data.Rating.unique())\n",
    "\n",
    "inputs = L.Input(shape=(X_train.shape[1], X_train.shape[2]))\n",
    "dropout_embeds = L.SpatialDropout1D(0.05)(inputs)\n",
    "x = L.Bidirectional(L.LSTM(units=7, return_sequences=True))(dropout_embeds)\n",
    "pooled_avg_sequences = L.GlobalAveragePooling1D()(x)\n",
    "pooled_max_sequences = L.GlobalMaxPooling1D()(x)\n",
    "concated = L.concatenate([pooled_avg_sequences, pooled_max_sequences])\n",
    "dense_intermediate = L.Dense(64, activation='elu')(concated)\n",
    "x = L.Dense(num_classes, activation='sigmoid')(dense_intermediate)\n",
    "\n",
    "model = Model(inputs=inputs, outputs=x)\n",
    "model.summary()\n",
    "model.compile(loss=tf.keras.losses.SparseCategoricalCrossentropy(),\n",
    "              optimizer='adam',\n",
    "              metrics=['accuracy'])"
   ]
  },
  {
   "cell_type": "code",
   "execution_count": 10,
   "id": "31d49703",
   "metadata": {},
   "outputs": [
    {
     "data": {
      "image/png": "[encoded data removed]",
      "text/plain": [
       "<Figure size 432x288 with 1 Axes>"
      ]
     },
     "metadata": {
      "needs_background": "light"
     },
     "output_type": "display_data"
    }
   ],
   "source": [
    "callback = tf.keras.callbacks.EarlyStopping(monitor='val_accuracy', patience=3, restore_best_weights=True)\n",
    "\n",
    "history = model.fit(X_train, train_enc_labels, batch_size=128, epochs=25, \n",
    "          validation_data=(X_test, test_enc_labels), callbacks=[callback], verbose=0)\n",
    "plot_history(history)"
   ]
  },
  {
   "cell_type": "code",
   "execution_count": 11,
   "id": "977ab88e",
   "metadata": {},
   "outputs": [
    {
     "name": "stdout",
     "output_type": "stream",
     "text": [
      "214/214 [==============================] - 1s 6ms/step - loss: 0.6208 - accuracy: 0.7860\n"
     ]
    },
    {
     "data": {
      "text/plain": [
       "[0.620796263217926, 0.7860076427459717]"
      ]
     },
     "execution_count": 11,
     "metadata": {},
     "output_type": "execute_result"
    }
   ],
   "source": [
    "model.evaluate(X_test, test_enc_labels)"
   ]
  },
  {
   "cell_type": "markdown",
   "id": "f7e959f9",
   "metadata": {},
   "source": [
    "# CNN"
   ]
  },
  {
   "cell_type": "code",
   "execution_count": 12,
   "id": "a79c8dff",
   "metadata": {},
   "outputs": [
    {
     "name": "stdout",
     "output_type": "stream",
     "text": [
      "Model: \"model_1\"\n",
      "_________________________________________________________________\n",
      "Layer (type)                 Output Shape              Param #   \n",
      "=================================================================\n",
      "input_2 (InputLayer)         [(None, 100, 300)]        0         \n",
      "_________________________________________________________________\n",
      "conv1d (Conv1D)              (None, 96, 128)           192128    \n",
      "_________________________________________________________________\n",
      "max_pooling1d (MaxPooling1D) (None, 48, 128)           0         \n",
      "_________________________________________________________________\n",
      "conv1d_1 (Conv1D)            (None, 44, 128)           82048     \n",
      "_________________________________________________________________\n",
      "max_pooling1d_1 (MaxPooling1 (None, 22, 128)           0         \n",
      "_________________________________________________________________\n",
      "conv1d_2 (Conv1D)            (None, 18, 128)           82048     \n",
      "_________________________________________________________________\n",
      "max_pooling1d_2 (MaxPooling1 (None, 3, 128)            0         \n",
      "_________________________________________________________________\n",
      "flatten (Flatten)            (None, 384)               0         \n",
      "_________________________________________________________________\n",
      "dense_2 (Dense)              (None, 128)               49280     \n",
      "_________________________________________________________________\n",
      "dense_4 (Dense)              (None, 5)                 645       \n",
      "=================================================================\n",
      "Total params: 406,149\n",
      "Trainable params: 406,149\n",
      "Non-trainable params: 0\n",
      "_________________________________________________________________\n"
     ]
    }
   ],
   "source": [
    "inputs = L.Input(shape=(X_train.shape[1], X_train.shape[2]))\n",
    "l_cov1= L.Conv1D(128, 5, activation='relu')(inputs)\n",
    "l_pool1 = L.MaxPooling1D(2)(l_cov1)\n",
    "l_cov2 = L.Conv1D(128, 5, activation='relu')(l_pool1)\n",
    "l_pool2 = L.MaxPooling1D(2)(l_cov2)\n",
    "l_cov3 = L.Conv1D(128, 5, activation='relu')(l_pool2)\n",
    "l_pool3 = L.MaxPooling1D(5)(l_cov3)  # global max pooling\n",
    "l_flat = L.Flatten()(l_pool3)\n",
    "l_dense = L.Dense(128, activation='relu')(l_flat)\n",
    "preds = L.Dense(64, activation='softmax')(l_dense)\n",
    "preds = L.Dense(num_classes, activation='softmax')(l_dense)\n",
    "\n",
    "model = Model(inputs=inputs, outputs=preds)\n",
    "model.summary()\n",
    "model.compile(loss=tf.keras.losses.SparseCategoricalCrossentropy(),\n",
    "              optimizer='adam',\n",
    "              metrics=['accuracy'])\n"
   ]
  },
  {
   "cell_type": "code",
   "execution_count": 13,
   "id": "94448074",
   "metadata": {},
   "outputs": [],
   "source": [
    "model.compile(loss=tf.keras.losses.SparseCategoricalCrossentropy(),\n",
    "              optimizer='adam',\n",
    "              metrics=['accuracy'])"
   ]
  },
  {
   "cell_type": "code",
   "execution_count": 14,
   "id": "066ebc06",
   "metadata": {},
   "outputs": [
    {
     "data": {
      "image/png": "[encoded data removed]",
      "text/plain": [
       "<Figure size 432x288 with 1 Axes>"
      ]
     },
     "metadata": {
      "needs_background": "light"
     },
     "output_type": "display_data"
    }
   ],
   "source": [
    "history = model.fit(X_train, train_enc_labels, batch_size=128, epochs=25, \n",
    "          validation_data=(X_test, test_enc_labels), callbacks=[callback], verbose=0)\n",
    "plot_history(history)"
   ]
  },
  {
   "cell_type": "code",
   "execution_count": 15,
   "id": "065a8a04",
   "metadata": {},
   "outputs": [
    {
     "name": "stdout",
     "output_type": "stream",
     "text": [
      "214/214 [==============================] - 2s 11ms/step - loss: 0.6435 - accuracy: 0.7703\n"
     ]
    },
    {
     "data": {
      "text/plain": [
       "[0.6435219049453735, 0.7703138589859009]"
      ]
     },
     "execution_count": 15,
     "metadata": {},
     "output_type": "execute_result"
    }
   ],
   "source": [
    "model.evaluate(X_test, test_enc_labels)"
   ]
  },
  {
   "cell_type": "markdown",
   "id": "5e153eb0",
   "metadata": {},
   "source": [
    "# Ещё  одна CNN"
   ]
  },
  {
   "cell_type": "code",
   "execution_count": 16,
   "id": "c9c66da6",
   "metadata": {},
   "outputs": [
    {
     "name": "stdout",
     "output_type": "stream",
     "text": [
      "WARNING:tensorflow:Please add `keras.layers.InputLayer` instead of `keras.Input` to Sequential model. `keras.Input` is intended to be used by Functional model.\n"
     ]
    }
   ],
   "source": [
    "model = Sequential()\n",
    "model.add(L.Input(shape=(X_train.shape[1], X_train.shape[2])))\n",
    "model.add(L.Conv1D(128, 3))\n",
    "model.add(L.Activation(\"relu\"))\n",
    "model.add(L.GlobalMaxPool1D())\n",
    "model.add(L.Dense(32))\n",
    "model.add(L.Activation(\"relu\"))\n",
    "model.add(L.Dense(num_classes))\n",
    "model.add(L.Activation('softmax'))"
   ]
  },
  {
   "cell_type": "code",
   "execution_count": 17,
   "id": "ec9772ec",
   "metadata": {},
   "outputs": [
    {
     "name": "stdout",
     "output_type": "stream",
     "text": [
      "Model: \"sequential\"\n",
      "_________________________________________________________________\n",
      "Layer (type)                 Output Shape              Param #   \n",
      "=================================================================\n",
      "conv1d_3 (Conv1D)            (None, 98, 128)           115328    \n",
      "_________________________________________________________________\n",
      "activation (Activation)      (None, 98, 128)           0         \n",
      "_________________________________________________________________\n",
      "global_max_pooling1d_1 (Glob (None, 128)               0         \n",
      "_________________________________________________________________\n",
      "dense_5 (Dense)              (None, 32)                4128      \n",
      "_________________________________________________________________\n",
      "activation_1 (Activation)    (None, 32)                0         \n",
      "_________________________________________________________________\n",
      "dense_6 (Dense)              (None, 5)                 165       \n",
      "_________________________________________________________________\n",
      "activation_2 (Activation)    (None, 5)                 0         \n",
      "=================================================================\n",
      "Total params: 119,621\n",
      "Trainable params: 119,621\n",
      "Non-trainable params: 0\n",
      "_________________________________________________________________\n"
     ]
    }
   ],
   "source": [
    "model.summary()\n",
    "model.compile(loss=tf.keras.losses.SparseCategoricalCrossentropy(),\n",
    "              optimizer='adam',\n",
    "              metrics=['accuracy'])"
   ]
  },
  {
   "cell_type": "code",
   "execution_count": 18,
   "id": "3fb2f8f4",
   "metadata": {},
   "outputs": [
    {
     "data": {
      "image/png": "[encoded data removed]",
      "text/plain": [
       "<Figure size 432x288 with 1 Axes>"
      ]
     },
     "metadata": {
      "needs_background": "light"
     },
     "output_type": "display_data"
    }
   ],
   "source": [
    "callback = tf.keras.callbacks.EarlyStopping(monitor='val_accuracy', patience=3, restore_best_weights=True)\n",
    "\n",
    "history = model.fit(X_train, train_enc_labels, batch_size=128, epochs=25, \n",
    "          validation_data=(X_test, test_enc_labels), callbacks=[callback], verbose=0)\n",
    "plot_history(history)"
   ]
  },
  {
   "cell_type": "code",
   "execution_count": 19,
   "id": "7715ab86",
   "metadata": {},
   "outputs": [
    {
     "name": "stdout",
     "output_type": "stream",
     "text": [
      "214/214 [==============================] - 1s 4ms/step - loss: 0.6292 - accuracy: 0.7760\n"
     ]
    },
    {
     "data": {
      "text/plain": [
       "[0.6292178630828857, 0.7760340571403503]"
      ]
     },
     "execution_count": 19,
     "metadata": {},
     "output_type": "execute_result"
    }
   ],
   "source": [
    "model.evaluate(X_test, test_enc_labels)"
   ]
  },
  {
   "cell_type": "markdown",
   "id": "4a6d4750",
   "metadata": {},
   "source": [
    "# CNN + LSTM"
   ]
  },
  {
   "cell_type": "code",
   "execution_count": 20,
   "id": "936e015f",
   "metadata": {},
   "outputs": [
    {
     "name": "stdout",
     "output_type": "stream",
     "text": [
      "WARNING:tensorflow:Please add `keras.layers.InputLayer` instead of `keras.Input` to Sequential model. `keras.Input` is intended to be used by Functional model.\n"
     ]
    }
   ],
   "source": [
    "model = Sequential()\n",
    "model.add(L.Input(shape=(X_train.shape[1], X_train.shape[2])))\n",
    "model.add(L.Conv1D(128, 3))\n",
    "model.add(L.Bidirectional(L.LSTM(units=32, return_sequences=True)))\n",
    "model.add(L.Activation(\"relu\"))\n",
    "model.add(L.GlobalMaxPool1D())\n",
    "model.add(L.Dense(32))\n",
    "model.add(L.Activation(\"relu\"))\n",
    "model.add(L.Dense(num_classes))\n",
    "model.add(L.Activation('softmax'))"
   ]
  },
  {
   "cell_type": "code",
   "execution_count": 21,
   "id": "4c5b4228",
   "metadata": {},
   "outputs": [
    {
     "name": "stdout",
     "output_type": "stream",
     "text": [
      "Model: \"sequential_1\"\n",
      "_________________________________________________________________\n",
      "Layer (type)                 Output Shape              Param #   \n",
      "=================================================================\n",
      "conv1d_4 (Conv1D)            (None, 98, 128)           115328    \n",
      "_________________________________________________________________\n",
      "bidirectional_1 (Bidirection (None, 98, 64)            41216     \n",
      "_________________________________________________________________\n",
      "activation_3 (Activation)    (None, 98, 64)            0         \n",
      "_________________________________________________________________\n",
      "global_max_pooling1d_2 (Glob (None, 64)                0         \n",
      "_________________________________________________________________\n",
      "dense_7 (Dense)              (None, 32)                2080      \n",
      "_________________________________________________________________\n",
      "activation_4 (Activation)    (None, 32)                0         \n",
      "_________________________________________________________________\n",
      "dense_8 (Dense)              (None, 5)                 165       \n",
      "_________________________________________________________________\n",
      "activation_5 (Activation)    (None, 5)                 0         \n",
      "=================================================================\n",
      "Total params: 158,789\n",
      "Trainable params: 158,789\n",
      "Non-trainable params: 0\n",
      "_________________________________________________________________\n"
     ]
    }
   ],
   "source": [
    "model.summary()\n",
    "model.compile(loss=tf.keras.losses.SparseCategoricalCrossentropy(),\n",
    "              optimizer='adam',\n",
    "              metrics=['accuracy'])"
   ]
  },
  {
   "cell_type": "code",
   "execution_count": 22,
   "id": "41db4034",
   "metadata": {},
   "outputs": [
    {
     "data": {
      "image/png": "[encoded data removed]",
      "text/plain": [
       "<Figure size 432x288 with 1 Axes>"
      ]
     },
     "metadata": {
      "needs_background": "light"
     },
     "output_type": "display_data"
    }
   ],
   "source": [
    "callback = tf.keras.callbacks.EarlyStopping(monitor='val_accuracy', patience=3, restore_best_weights=True)\n",
    "\n",
    "history = model.fit(X_train, train_enc_labels, batch_size=128, epochs=25, \n",
    "          validation_data=(X_test, test_enc_labels), callbacks=[callback], verbose=0)\n",
    "plot_history(history)"
   ]
  },
  {
   "cell_type": "code",
   "execution_count": 23,
   "id": "f79d3147",
   "metadata": {},
   "outputs": [
    {
     "name": "stdout",
     "output_type": "stream",
     "text": [
      "214/214 [==============================] - 1s 6ms/step - loss: 0.6126 - accuracy: 0.7807\n"
     ]
    },
    {
     "data": {
      "text/plain": [
       "[0.6125920414924622, 0.7807275056838989]"
      ]
     },
     "execution_count": 23,
     "metadata": {},
     "output_type": "execute_result"
    }
   ],
   "source": [
    "model.evaluate(X_test, test_enc_labels)"
   ]
  },
  {
   "cell_type": "markdown",
   "id": "ce29824e",
   "metadata": {},
   "source": [
    "# И ещё  одна CNN"
   ]
  },
  {
   "cell_type": "code",
   "execution_count": 24,
   "id": "d6ddfe98",
   "metadata": {},
   "outputs": [
    {
     "name": "stdout",
     "output_type": "stream",
     "text": [
      "Model: \"model_2\"\n",
      "_________________________________________________________________\n",
      "Layer (type)                 Output Shape              Param #   \n",
      "=================================================================\n",
      "input_5 (InputLayer)         [(None, 100, 300)]        0         \n",
      "_________________________________________________________________\n",
      "conv1d_5 (Conv1D)            (None, 100, 64)           57664     \n",
      "_________________________________________________________________\n",
      "batch_normalization (BatchNo (None, 100, 64)           256       \n",
      "_________________________________________________________________\n",
      "re_lu (ReLU)                 (None, 100, 64)           0         \n",
      "_________________________________________________________________\n",
      "conv1d_6 (Conv1D)            (None, 100, 64)           12352     \n",
      "_________________________________________________________________\n",
      "batch_normalization_1 (Batch (None, 100, 64)           256       \n",
      "_________________________________________________________________\n",
      "re_lu_1 (ReLU)               (None, 100, 64)           0         \n",
      "_________________________________________________________________\n",
      "conv1d_7 (Conv1D)            (None, 100, 64)           12352     \n",
      "_________________________________________________________________\n",
      "batch_normalization_2 (Batch (None, 100, 64)           256       \n",
      "_________________________________________________________________\n",
      "re_lu_2 (ReLU)               (None, 100, 64)           0         \n",
      "_________________________________________________________________\n",
      "global_average_pooling1d_1 ( (None, 64)                0         \n",
      "_________________________________________________________________\n",
      "dense_9 (Dense)              (None, 5)                 325       \n",
      "=================================================================\n",
      "Total params: 83,461\n",
      "Trainable params: 83,077\n",
      "Non-trainable params: 384\n",
      "_________________________________________________________________\n"
     ]
    }
   ],
   "source": [
    "os.environ['CUDA_VISIBLE_DEVICES'] = '0'\n",
    "def make_model(X_train):\n",
    "    inputs = L.Input(shape=(X_train.shape[1], X_train.shape[2]))\n",
    "\n",
    "    \n",
    "    conv1 = L.Conv1D(filters=64, kernel_size=3, padding=\"same\")(inputs)\n",
    "    conv1 = L.BatchNormalization()(conv1)\n",
    "    conv1 = L.ReLU()(conv1)\n",
    "\n",
    "    conv2 = L.Conv1D(filters=64, kernel_size=3, padding=\"same\")(conv1)\n",
    "    conv2 = L.BatchNormalization()(conv2)\n",
    "    conv2 = L.ReLU()(conv2)\n",
    "\n",
    "    conv3 = L.Conv1D(filters=64, kernel_size=3, padding=\"same\")(conv2)\n",
    "    conv3 = L.BatchNormalization()(conv3)\n",
    "    conv3 = L.ReLU()(conv3)\n",
    "\n",
    "    gap = L.GlobalAveragePooling1D()(conv3)\n",
    "\n",
    "    output_layer = L.Dense(num_classes, activation=\"softmax\")(gap)\n",
    "\n",
    "    model = Model(inputs=inputs, outputs=output_layer)\n",
    "    model.summary()\n",
    "    model.compile(loss=tf.keras.losses.SparseCategoricalCrossentropy(),\n",
    "                  optimizer='adam',\n",
    "                  metrics=['accuracy'])\n",
    "    return model \n",
    "\n",
    "\n",
    "model = make_model(X_train)"
   ]
  },
  {
   "cell_type": "code",
   "execution_count": 25,
   "id": "4c3182fa",
   "metadata": {},
   "outputs": [
    {
     "data": {
      "image/png": "[encoded data removed]",
      "text/plain": [
       "<Figure size 432x288 with 1 Axes>"
      ]
     },
     "metadata": {
      "needs_background": "light"
     },
     "output_type": "display_data"
    }
   ],
   "source": [
    "callback = tf.keras.callbacks.EarlyStopping(monitor='val_accuracy', patience=3, restore_best_weights=True)\n",
    "\n",
    "history = model.fit(X_train, train_enc_labels, batch_size=128, epochs=25, \n",
    "          validation_data=(X_test, test_enc_labels), callbacks=[callback], verbose=0)\n",
    "plot_history(history)"
   ]
  },
  {
   "cell_type": "code",
   "execution_count": 26,
   "id": "fb9687ea",
   "metadata": {},
   "outputs": [
    {
     "name": "stdout",
     "output_type": "stream",
     "text": [
      "214/214 [==============================] - 1s 4ms/step - loss: 0.6792 - accuracy: 0.7615\n"
     ]
    },
    {
     "data": {
      "text/plain": [
       "[0.6791784763336182, 0.7615136504173279]"
      ]
     },
     "execution_count": 26,
     "metadata": {},
     "output_type": "execute_result"
    }
   ],
   "source": [
    "model.evaluate(X_test, test_enc_labels)"
   ]
  },
  {
   "cell_type": "markdown",
   "id": "e5244fff",
   "metadata": {},
   "source": [
    "# И ещё  одна CNN"
   ]
  },
  {
   "cell_type": "code",
   "execution_count": 27,
   "id": "7d0f9159",
   "metadata": {},
   "outputs": [],
   "source": [
    "def residual_block(x, filters, conv_num=3, activation=\"relu\"):\n",
    "    # Shortcut\n",
    "    s = L.Conv1D(filters, 1, padding=\"same\")(x)\n",
    "    for i in range(conv_num - 1):\n",
    "        x = L.Conv1D(filters, 3, padding=\"same\")(x)\n",
    "        x = L.Activation(activation)(x)\n",
    "    x = L.Conv1D(filters, 3, padding=\"same\")(x)\n",
    "    x = L.Add()([x, s])\n",
    "    x = L.Activation(activation)(x)\n",
    "    return L.MaxPool1D(pool_size=2, strides=2)(x)\n",
    "\n",
    "\n",
    "\n",
    "def build_model(X_train, num_classes):\n",
    "    inputs = L.Input(shape=(X_train.shape[1], X_train.shape[2]))\n",
    "\n",
    "    \n",
    "    x = residual_block(inputs, 16, 2)\n",
    "    x = residual_block(x, 32, 2)\n",
    "    x = residual_block(x, 64, 3)\n",
    "    x = residual_block(x, 128, 3)\n",
    "    x = residual_block(x, 128, 3)\n",
    "\n",
    "    x = L.AveragePooling1D(pool_size=3, strides=3)(x)\n",
    "    x = L.Flatten()(x)\n",
    "    x = L.Dense(256, activation=\"relu\")(x)\n",
    "    x = L.Dense(128, activation=\"relu\")(x)\n",
    "\n",
    "    outputs = L.Dense(num_classes, activation=\"softmax\", name=\"output\")(x)\n",
    "\n",
    "    \n",
    "    model = Model(inputs=inputs, outputs=outputs)\n",
    "    model.summary()\n",
    "    model.compile(loss=tf.keras.losses.SparseCategoricalCrossentropy(),\n",
    "                  optimizer='adam',\n",
    "                  metrics=['accuracy'])\n",
    "    return model \n"
   ]
  },
  {
   "cell_type": "code",
   "execution_count": 28,
   "id": "c45171c3",
   "metadata": {
    "scrolled": false
   },
   "outputs": [
    {
     "name": "stdout",
     "output_type": "stream",
     "text": [
      "Model: \"model_3\"\n",
      "__________________________________________________________________________________________________\n",
      "Layer (type)                    Output Shape         Param #     Connected to                     \n",
      "==================================================================================================\n",
      "input_6 (InputLayer)            [(None, 100, 300)]   0                                            \n",
      "__________________________________________________________________________________________________\n",
      "conv1d_9 (Conv1D)               (None, 100, 16)      14416       input_6[0][0]                    \n",
      "__________________________________________________________________________________________________\n",
      "activation_6 (Activation)       (None, 100, 16)      0           conv1d_9[0][0]                   \n",
      "__________________________________________________________________________________________________\n",
      "conv1d_10 (Conv1D)              (None, 100, 16)      784         activation_6[0][0]               \n",
      "__________________________________________________________________________________________________\n",
      "conv1d_8 (Conv1D)               (None, 100, 16)      4816        input_6[0][0]                    \n",
      "__________________________________________________________________________________________________\n",
      "add (Add)                       (None, 100, 16)      0           conv1d_10[0][0]                  \n",
      "                                                                 conv1d_8[0][0]                   \n",
      "__________________________________________________________________________________________________\n",
      "activation_7 (Activation)       (None, 100, 16)      0           add[0][0]                        \n",
      "__________________________________________________________________________________________________\n",
      "max_pooling1d_3 (MaxPooling1D)  (None, 50, 16)       0           activation_7[0][0]               \n",
      "__________________________________________________________________________________________________\n",
      "conv1d_12 (Conv1D)              (None, 50, 32)       1568        max_pooling1d_3[0][0]            \n",
      "__________________________________________________________________________________________________\n",
      "activation_8 (Activation)       (None, 50, 32)       0           conv1d_12[0][0]                  \n",
      "__________________________________________________________________________________________________\n",
      "conv1d_13 (Conv1D)              (None, 50, 32)       3104        activation_8[0][0]               \n",
      "__________________________________________________________________________________________________\n",
      "conv1d_11 (Conv1D)              (None, 50, 32)       544         max_pooling1d_3[0][0]            \n",
      "__________________________________________________________________________________________________\n",
      "add_1 (Add)                     (None, 50, 32)       0           conv1d_13[0][0]                  \n",
      "                                                                 conv1d_11[0][0]                  \n",
      "__________________________________________________________________________________________________\n",
      "activation_9 (Activation)       (None, 50, 32)       0           add_1[0][0]                      \n",
      "__________________________________________________________________________________________________\n",
      "max_pooling1d_4 (MaxPooling1D)  (None, 25, 32)       0           activation_9[0][0]               \n",
      "__________________________________________________________________________________________________\n",
      "conv1d_15 (Conv1D)              (None, 25, 64)       6208        max_pooling1d_4[0][0]            \n",
      "__________________________________________________________________________________________________\n",
      "activation_10 (Activation)      (None, 25, 64)       0           conv1d_15[0][0]                  \n",
      "__________________________________________________________________________________________________\n",
      "conv1d_16 (Conv1D)              (None, 25, 64)       12352       activation_10[0][0]              \n",
      "__________________________________________________________________________________________________\n",
      "activation_11 (Activation)      (None, 25, 64)       0           conv1d_16[0][0]                  \n",
      "__________________________________________________________________________________________________\n",
      "conv1d_17 (Conv1D)              (None, 25, 64)       12352       activation_11[0][0]              \n",
      "__________________________________________________________________________________________________\n",
      "conv1d_14 (Conv1D)              (None, 25, 64)       2112        max_pooling1d_4[0][0]            \n",
      "__________________________________________________________________________________________________\n",
      "add_2 (Add)                     (None, 25, 64)       0           conv1d_17[0][0]                  \n",
      "                                                                 conv1d_14[0][0]                  \n",
      "__________________________________________________________________________________________________\n",
      "activation_12 (Activation)      (None, 25, 64)       0           add_2[0][0]                      \n",
      "__________________________________________________________________________________________________\n",
      "max_pooling1d_5 (MaxPooling1D)  (None, 12, 64)       0           activation_12[0][0]              \n",
      "__________________________________________________________________________________________________\n",
      "conv1d_19 (Conv1D)              (None, 12, 128)      24704       max_pooling1d_5[0][0]            \n",
      "__________________________________________________________________________________________________\n",
      "activation_13 (Activation)      (None, 12, 128)      0           conv1d_19[0][0]                  \n",
      "__________________________________________________________________________________________________\n",
      "conv1d_20 (Conv1D)              (None, 12, 128)      49280       activation_13[0][0]              \n",
      "__________________________________________________________________________________________________\n",
      "activation_14 (Activation)      (None, 12, 128)      0           conv1d_20[0][0]                  \n",
      "__________________________________________________________________________________________________\n",
      "conv1d_21 (Conv1D)              (None, 12, 128)      49280       activation_14[0][0]              \n",
      "__________________________________________________________________________________________________\n",
      "conv1d_18 (Conv1D)              (None, 12, 128)      8320        max_pooling1d_5[0][0]            \n",
      "__________________________________________________________________________________________________\n",
      "add_3 (Add)                     (None, 12, 128)      0           conv1d_21[0][0]                  \n",
      "                                                                 conv1d_18[0][0]                  \n",
      "__________________________________________________________________________________________________\n",
      "activation_15 (Activation)      (None, 12, 128)      0           add_3[0][0]                      \n",
      "__________________________________________________________________________________________________\n",
      "max_pooling1d_6 (MaxPooling1D)  (None, 6, 128)       0           activation_15[0][0]              \n",
      "__________________________________________________________________________________________________\n",
      "conv1d_23 (Conv1D)              (None, 6, 128)       49280       max_pooling1d_6[0][0]            \n",
      "__________________________________________________________________________________________________\n",
      "activation_16 (Activation)      (None, 6, 128)       0           conv1d_23[0][0]                  \n",
      "__________________________________________________________________________________________________\n",
      "conv1d_24 (Conv1D)              (None, 6, 128)       49280       activation_16[0][0]              \n",
      "__________________________________________________________________________________________________\n",
      "activation_17 (Activation)      (None, 6, 128)       0           conv1d_24[0][0]                  \n",
      "__________________________________________________________________________________________________\n",
      "conv1d_25 (Conv1D)              (None, 6, 128)       49280       activation_17[0][0]              \n",
      "__________________________________________________________________________________________________\n",
      "conv1d_22 (Conv1D)              (None, 6, 128)       16512       max_pooling1d_6[0][0]            \n",
      "__________________________________________________________________________________________________\n",
      "add_4 (Add)                     (None, 6, 128)       0           conv1d_25[0][0]                  \n",
      "                                                                 conv1d_22[0][0]                  \n",
      "__________________________________________________________________________________________________\n",
      "activation_18 (Activation)      (None, 6, 128)       0           add_4[0][0]                      \n",
      "__________________________________________________________________________________________________\n",
      "max_pooling1d_7 (MaxPooling1D)  (None, 3, 128)       0           activation_18[0][0]              \n",
      "__________________________________________________________________________________________________\n",
      "average_pooling1d (AveragePooli (None, 1, 128)       0           max_pooling1d_7[0][0]            \n",
      "__________________________________________________________________________________________________\n",
      "flatten_1 (Flatten)             (None, 128)          0           average_pooling1d[0][0]          \n",
      "__________________________________________________________________________________________________\n",
      "dense_10 (Dense)                (None, 256)          33024       flatten_1[0][0]                  \n",
      "__________________________________________________________________________________________________\n",
      "dense_11 (Dense)                (None, 128)          32896       dense_10[0][0]                   \n",
      "__________________________________________________________________________________________________\n",
      "output (Dense)                  (None, 5)            645         dense_11[0][0]                   \n",
      "==================================================================================================\n",
      "Total params: 420,757\n",
      "Trainable params: 420,757\n",
      "Non-trainable params: 0\n",
      "__________________________________________________________________________________________________\n"
     ]
    }
   ],
   "source": [
    "model = build_model(X_train, num_classes)"
   ]
  },
  {
   "cell_type": "code",
   "execution_count": 29,
   "id": "83ff2bfb",
   "metadata": {},
   "outputs": [
    {
     "data": {
      "image/png": "[encoded data removed]",
      "text/plain": [
       "<Figure size 432x288 with 1 Axes>"
      ]
     },
     "metadata": {
      "needs_background": "light"
     },
     "output_type": "display_data"
    }
   ],
   "source": [
    "callback = tf.keras.callbacks.EarlyStopping(monitor='val_accuracy', patience=3, restore_best_weights=True)\n",
    "\n",
    "history = model.fit(X_train, train_enc_labels, batch_size=128, epochs=25, \n",
    "          validation_data=(X_test, test_enc_labels), callbacks=[callback], verbose=0)\n",
    "plot_history(history)"
   ]
  },
  {
   "cell_type": "code",
   "execution_count": 30,
   "id": "dc8a43f7",
   "metadata": {},
   "outputs": [
    {
     "name": "stdout",
     "output_type": "stream",
     "text": [
      "214/214 [==============================] - 3s 12ms/step - loss: 0.6786 - accuracy: 0.7797\n"
     ]
    },
    {
     "data": {
      "text/plain": [
       "[0.6785920262336731, 0.7797008156776428]"
      ]
     },
     "execution_count": 30,
     "metadata": {},
     "output_type": "execute_result"
    }
   ],
   "source": [
    "model.evaluate(X_test, test_enc_labels)"
   ]
  },
  {
   "cell_type": "markdown",
   "id": "29e83d1c",
   "metadata": {},
   "source": [
    "# Transformer "
   ]
  },
  {
   "cell_type": "code",
   "execution_count": 31,
   "id": "09209cc5",
   "metadata": {},
   "outputs": [],
   "source": [
    "from tensorflow.keras import layers\n",
    "class TransformerBlock(layers.Layer):\n",
    "    def __init__(self, embed_dim, num_heads, ff_dim, rate=0.1):\n",
    "        super(TransformerBlock, self).__init__()\n",
    "        self.att = L.MultiHeadAttention(num_heads=num_heads, key_dim=embed_dim)\n",
    "        self.ffn = Sequential(\n",
    "            [layers.Dense(ff_dim, activation=\"relu\"), layers.Dense(embed_dim),]\n",
    "        )\n",
    "        self.layernorm1 = layers.LayerNormalization(epsilon=1e-6)\n",
    "        self.layernorm2 = layers.LayerNormalization(epsilon=1e-6)\n",
    "        self.dropout1 = layers.Dropout(rate)\n",
    "        self.dropout2 = layers.Dropout(rate)\n",
    "\n",
    "    def call(self, inputs, training):\n",
    "        attn_output = self.att(inputs, inputs)\n",
    "        attn_output = self.dropout1(attn_output, training=training)\n",
    "        out1 = self.layernorm1(inputs + attn_output)\n",
    "        ffn_output = self.ffn(out1)\n",
    "        ffn_output = self.dropout2(ffn_output, training=training)\n",
    "        return self.layernorm2(out1 + ffn_output)"
   ]
  },
  {
   "cell_type": "code",
   "execution_count": 32,
   "id": "f5c37f54",
   "metadata": {},
   "outputs": [
    {
     "name": "stdout",
     "output_type": "stream",
     "text": [
      "Model: \"model_4\"\n",
      "_________________________________________________________________\n",
      "Layer (type)                 Output Shape              Param #   \n",
      "=================================================================\n",
      "input_7 (InputLayer)         [(None, 100, 300)]        0         \n",
      "_________________________________________________________________\n",
      "transformer_block (Transform (None, 100, 300)          783700    \n",
      "_________________________________________________________________\n",
      "global_average_pooling1d_2 ( (None, 300)               0         \n",
      "_________________________________________________________________\n",
      "dropout_2 (Dropout)          (None, 300)               0         \n",
      "_________________________________________________________________\n",
      "dense_14 (Dense)             (None, 20)                6020      \n",
      "_________________________________________________________________\n",
      "dropout_3 (Dropout)          (None, 20)                0         \n",
      "_________________________________________________________________\n",
      "dense_15 (Dense)             (None, 5)                 105       \n",
      "=================================================================\n",
      "Total params: 789,825\n",
      "Trainable params: 789,825\n",
      "Non-trainable params: 0\n",
      "_________________________________________________________________\n"
     ]
    }
   ],
   "source": [
    "dim = 300\n",
    "embed_dim = dim  # Embedding size for each token\n",
    "num_heads = 2  # Number of attention heads\n",
    "ff_dim = 100  # Hidden layer size in feed forward network inside transformer\n",
    "\n",
    "inputs = L.Input(shape=(X_train.shape[1], X_train.shape[2]))\n",
    "\n",
    "transformer_block = TransformerBlock(dim, num_heads, ff_dim)\n",
    "x = transformer_block(inputs)\n",
    "x = layers.GlobalAveragePooling1D()(x)\n",
    "x = layers.Dropout(0.1)(x)\n",
    "x = layers.Dense(20, activation=\"relu\")(x)\n",
    "x = layers.Dropout(0.1)(x)\n",
    "outputs = layers.Dense(num_classes, activation=\"softmax\")(x)\n",
    "\n",
    "model = Model(inputs=inputs, outputs=outputs)\n",
    "\n",
    "\n",
    "model.summary()\n",
    "model.compile(loss=tf.keras.losses.SparseCategoricalCrossentropy(),\n",
    "              optimizer='adam',\n",
    "              metrics=['accuracy'])\n"
   ]
  },
  {
   "cell_type": "code",
   "execution_count": 33,
   "id": "1788ae8c",
   "metadata": {},
   "outputs": [
    {
     "data": {
      "image/png": "[encoded data removed]",
      "text/plain": [
       "<Figure size 432x288 with 1 Axes>"
      ]
     },
     "metadata": {
      "needs_background": "light"
     },
     "output_type": "display_data"
    }
   ],
   "source": [
    "callback = tf.keras.callbacks.EarlyStopping(monitor='val_accuracy', patience=3, restore_best_weights=True)\n",
    "\n",
    "history = model.fit(X_train, train_enc_labels, batch_size=128, epochs=25, \n",
    "          validation_data=(X_test, test_enc_labels), callbacks=[callback], verbose=0)\n",
    "plot_history(history)"
   ]
  },
  {
   "cell_type": "code",
   "execution_count": 34,
   "id": "acd9074a",
   "metadata": {},
   "outputs": [
    {
     "name": "stdout",
     "output_type": "stream",
     "text": [
      "214/214 [==============================] - 2s 8ms/step - loss: 0.6472 - accuracy: 0.7766\n"
     ]
    },
    {
     "data": {
      "text/plain": [
       "[0.6471986174583435, 0.7766206860542297]"
      ]
     },
     "execution_count": 34,
     "metadata": {},
     "output_type": "execute_result"
    }
   ],
   "source": [
    "model.evaluate(X_test, test_enc_labels)"
   ]
  },
  {
   "cell_type": "markdown",
   "id": "0a693a71",
   "metadata": {},
   "source": [
    "# Выводы."
   ]
  },
  {
   "cell_type": "markdown",
   "id": "b3617e04",
   "metadata": {},
   "source": [
    "### Лучше всего себя показали не глубокие (простенькие) CNN и LSTM сети. Трансформер немного уступил."
   ]
  },
  {
   "cell_type": "markdown",
   "id": "7e76dd84",
   "metadata": {},
   "source": [
    "### Подход с использованием слоя EMBEDDING показал себя несколько лучше чем W2V."
   ]
  },
  {
   "cell_type": "code",
   "execution_count": null,
   "id": "35a0854c",
   "metadata": {},
   "outputs": [],
   "source": []
  }
 ],
 "metadata": {
  "kernelspec": {
   "display_name": "Python 3",
   "language": "python",
   "name": "python3"
  },
  "language_info": {
   "codemirror_mode": {
    "name": "ipython",
    "version": 3
   },
   "file_extension": ".py",
   "mimetype": "text/x-python",
   "name": "python",
   "nbconvert_exporter": "python",
   "pygments_lexer": "ipython3",
   "version": "3.8.6"
  }
 },
 "nbformat": 4,
 "nbformat_minor": 5
}
