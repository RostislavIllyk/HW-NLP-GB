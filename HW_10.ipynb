{
 "cells": [
  {
   "cell_type": "markdown",
   "metadata": {
    "id": "J0Qjg6vuaHNt"
   },
   "source": [
    "# Neural machine translation"
   ]
  },
  {
   "cell_type": "code",
   "execution_count": 1,
   "metadata": {
    "id": "tnxXKDjq3jEL"
   },
   "outputs": [],
   "source": [
    "import tensorflow as tf\n",
    "\n",
    "import matplotlib.pyplot as plt\n",
    "import matplotlib.ticker as ticker\n",
    "from sklearn.model_selection import train_test_split\n",
    "\n",
    "import unicodedata\n",
    "import re\n",
    "import numpy as np\n",
    "import os\n",
    "import io\n",
    "import time"
   ]
  },
  {
   "cell_type": "markdown",
   "metadata": {
    "id": "wfodePkj3jEa"
   },
   "source": [
    "## Download and prepare the dataset\n",
    "\n",
    "We'll use a language dataset provided by http://www.manythings.org/anki/"
   ]
  },
  {
   "cell_type": "code",
   "execution_count": 2,
   "metadata": {
    "colab": {
     "base_uri": "https://localhost:8080/"
    },
    "id": "CNvjhDyAKk3U",
    "outputId": "9ea8f8e0-5589-4178-961f-4f068f3f9f77"
   },
   "outputs": [],
   "source": [
    "#!wget http://www.manythings.org/anki/rus-eng.zip"
   ]
  },
  {
   "cell_type": "code",
   "execution_count": 3,
   "metadata": {
    "colab": {
     "base_uri": "https://localhost:8080/"
    },
    "id": "83bg17Lr-7XK",
    "outputId": "955b8cae-5f8c-44da-aabd-11f826582455"
   },
   "outputs": [],
   "source": [
    "#!mkdir rus-eng\n",
    "#!unzip rus-eng.zip -d rus-eng/"
   ]
  },
  {
   "cell_type": "code",
   "execution_count": 4,
   "metadata": {
    "colab": {
     "base_uri": "https://localhost:8080/"
    },
    "id": "7o5L92efMMhf",
    "outputId": "8e75c2a4-8601-45ba-8118-dbdaadc49fc1"
   },
   "outputs": [],
   "source": [
    "#!ls /content/rus-eng/ -lah"
   ]
  },
  {
   "cell_type": "code",
   "execution_count": 5,
   "metadata": {
    "id": "kRVATYOgJs1b"
   },
   "outputs": [],
   "source": [
    "# Download the file\n",
    "#path_to_file = \"./content/rus-eng/rus.txt\"\n",
    "\n",
    "\n",
    "path_to_file = './data/fra-eng/fra.txt'"
   ]
  },
  {
   "cell_type": "code",
   "execution_count": 6,
   "metadata": {
    "id": "rd0jw-eC3jEh"
   },
   "outputs": [],
   "source": [
    "def preprocess_sentence(w):\n",
    "    w = re.sub(r\"([?.!,¿])\", r\" \\1 \", w)\n",
    "    w = re.sub(r'[\" \"]+', \" \", w)\n",
    "    w = re.sub(r\"[^a-zA-Z?.!,¿]+\", \" \", w)\n",
    "    w = w.strip()\n",
    "    w = '<start> ' + w + ' <end>'\n",
    "    return w"
   ]
  },
  {
   "cell_type": "code",
   "execution_count": 7,
   "metadata": {
    "colab": {
     "base_uri": "https://localhost:8080/",
     "height": 35
    },
    "id": "yV9lZXQXNbnH",
    "outputId": "91c2ca2a-4e3a-4cb2-a4b6-57898c682af6"
   },
   "outputs": [
    {
     "data": {
      "text/plain": [
       "'<start> I can t go . <end>'"
      ]
     },
     "execution_count": 7,
     "metadata": {},
     "output_type": "execute_result"
    }
   ],
   "source": [
    "preprocess_sentence(\"I can't go.\")"
   ]
  },
  {
   "cell_type": "code",
   "execution_count": 8,
   "metadata": {
    "id": "OHn4Dct23jEm"
   },
   "outputs": [],
   "source": [
    "# 1. Remove the accents\n",
    "# 2. Clean the sentences\n",
    "# 3. Return word pairs in the format: [ENGLISH, SPANISH]\n",
    "def create_dataset(path, num_examples):\n",
    "    lines = io.open(path, encoding='UTF-8').read().strip().split('\\n')\n",
    "\n",
    "    word_pairs = [[preprocess_sentence(w) for w in l.split('\\t')[:2]]  for l in lines[:num_examples]]\n",
    "\n",
    "    return zip(*word_pairs)"
   ]
  },
  {
   "cell_type": "code",
   "execution_count": 9,
   "metadata": {
    "colab": {
     "base_uri": "https://localhost:8080/"
    },
    "id": "cTbSbBz55QtF",
    "outputId": "68deb5e0-bf6c-4e8e-8cf9-f19a1ab4bb4e"
   },
   "outputs": [
    {
     "name": "stdout",
     "output_type": "stream",
     "text": [
      "<start> If someone who doesn t know your background says that you sound like a native speaker , it means they probably noticed something about your speaking that made them realize you weren t a native speaker . In other words , you don t really sound like a native speaker . <end>\n",
      "<start> Si quelqu un qui ne conna t pas vos ant c dents dit que vous parlez comme un locuteur natif , cela veut dire qu il a probablement remarqu quelque chose propos de votre locution qui lui a fait prendre conscience que vous n tes pas un locuteur natif . En d autres termes , vous ne parlez pas vraiment comme un locuteur natif . <end>\n"
     ]
    }
   ],
   "source": [
    "en, ru = create_dataset(path_to_file, None)\n",
    "print(en[-1])\n",
    "print(ru[-1])"
   ]
  },
  {
   "cell_type": "code",
   "execution_count": 10,
   "metadata": {
    "id": "bIOn8RCNDJXG"
   },
   "outputs": [],
   "source": [
    "def tokenize(lang):\n",
    "    lang_tokenizer = tf.keras.preprocessing.text.Tokenizer(\n",
    "      filters='')\n",
    "    lang_tokenizer.fit_on_texts(lang)\n",
    "\n",
    "    tensor = lang_tokenizer.texts_to_sequences(lang)\n",
    "\n",
    "    tensor = tf.keras.preprocessing.sequence.pad_sequences(tensor,\n",
    "                                                         padding='post')\n",
    "\n",
    "    return tensor, lang_tokenizer"
   ]
  },
  {
   "cell_type": "code",
   "execution_count": 11,
   "metadata": {
    "id": "eAY9k49G3jE_"
   },
   "outputs": [],
   "source": [
    "def load_dataset(path, num_examples=None):\n",
    "    # creating cleaned input, output pairs\n",
    "    targ_lang, inp_lang = create_dataset(path, num_examples)\n",
    "\n",
    "    input_tensor, inp_lang_tokenizer = tokenize(inp_lang)\n",
    "    target_tensor, targ_lang_tokenizer = tokenize(targ_lang)\n",
    "\n",
    "    return input_tensor, target_tensor, inp_lang_tokenizer, targ_lang_tokenizer"
   ]
  },
  {
   "cell_type": "markdown",
   "metadata": {
    "id": "GOi42V79Ydlr"
   },
   "source": [
    "### Limit the size of the dataset to experiment faster (optional)\n"
   ]
  },
  {
   "cell_type": "code",
   "execution_count": 12,
   "metadata": {
    "colab": {
     "base_uri": "https://localhost:8080/"
    },
    "id": "C8j9g9AnIeZV",
    "outputId": "07e6e03d-4a80-4419-c092-bedfaffd87b8"
   },
   "outputs": [
    {
     "data": {
      "text/plain": [
       "(177210, 177210)"
      ]
     },
     "execution_count": 12,
     "metadata": {},
     "output_type": "execute_result"
    }
   ],
   "source": [
    "len(en), len(ru)"
   ]
  },
  {
   "cell_type": "code",
   "execution_count": 13,
   "metadata": {
    "id": "cnxC7q-j3jFD"
   },
   "outputs": [],
   "source": [
    "# Try experimenting with the size of that dataset\n",
    "num_examples = 100000\n",
    "input_tensor, target_tensor, inp_lang, targ_lang = load_dataset(path_to_file, num_examples)\n",
    "\n",
    "# Calculate max_length of the target tensors\n",
    "max_length_targ, max_length_inp = target_tensor.shape[1], input_tensor.shape[1]"
   ]
  },
  {
   "cell_type": "code",
   "execution_count": 14,
   "metadata": {
    "colab": {
     "base_uri": "https://localhost:8080/"
    },
    "id": "4QILQkOs3jFG",
    "outputId": "cd610938-12a5-4618-9ddd-a8777253e6ac"
   },
   "outputs": [
    {
     "name": "stdout",
     "output_type": "stream",
     "text": [
      "80000 80000 20000 20000\n"
     ]
    }
   ],
   "source": [
    "# Creating training and validation sets using an 80-20 split\n",
    "input_tensor_train, input_tensor_val, target_tensor_train, target_tensor_val = train_test_split(input_tensor, target_tensor, test_size=0.2)\n",
    "\n",
    "# Show length\n",
    "print(len(input_tensor_train), len(target_tensor_train), len(input_tensor_val), len(target_tensor_val))"
   ]
  },
  {
   "cell_type": "code",
   "execution_count": 15,
   "metadata": {
    "id": "lJPmLZGMeD5q"
   },
   "outputs": [],
   "source": [
    "def convert(lang, tensor):\n",
    "    for t in tensor:\n",
    "        if t!=0:\n",
    "            print (\"%d ----> %s\" % (t, lang.index_word[t]))"
   ]
  },
  {
   "cell_type": "code",
   "execution_count": 16,
   "metadata": {
    "colab": {
     "base_uri": "https://localhost:8080/"
    },
    "id": "VXukARTDd7MT",
    "outputId": "a3c58700-25d9-4093-cc2a-4cea4c26637b"
   },
   "outputs": [
    {
     "name": "stdout",
     "output_type": "stream",
     "text": [
      "Input Language; index to word mapping\n",
      "1 ----> <start>\n",
      "4 ----> je\n",
      "12 ----> ne\n",
      "118 ----> fais\n",
      "8 ----> pas\n",
      "110 ----> beaucoup\n",
      "46 ----> tout\n",
      "10 ----> a\n",
      "3 ----> .\n",
      "2 ----> <end>\n",
      "\n",
      "Target Language; index to word mapping\n",
      "1 ----> <start>\n",
      "4 ----> i\n",
      "23 ----> don\n",
      "9 ----> t\n",
      "17 ----> do\n",
      "41 ----> all\n",
      "15 ----> that\n",
      "112 ----> much\n",
      "3 ----> .\n",
      "2 ----> <end>\n"
     ]
    }
   ],
   "source": [
    "print (\"Input Language; index to word mapping\")\n",
    "convert(inp_lang, input_tensor_train[0])\n",
    "print ()\n",
    "print (\"Target Language; index to word mapping\")\n",
    "convert(targ_lang, target_tensor_train[0])"
   ]
  },
  {
   "cell_type": "markdown",
   "metadata": {
    "id": "rgCLkfv5uO3d"
   },
   "source": [
    "### Create a tf.data dataset"
   ]
  },
  {
   "cell_type": "code",
   "execution_count": 17,
   "metadata": {
    "id": "TqHsArVZ3jFS"
   },
   "outputs": [],
   "source": [
    "BUFFER_SIZE = len(input_tensor_train)\n",
    "BATCH_SIZE = 64\n",
    "steps_per_epoch = len(input_tensor_train)//BATCH_SIZE\n",
    "embedding_dim = 256\n",
    "units = 1024\n",
    "vocab_inp_size = len(inp_lang.word_index)+1\n",
    "vocab_tar_size = len(targ_lang.word_index)+1\n",
    "\n",
    "dataset = tf.data.Dataset.from_tensor_slices((input_tensor_train, target_tensor_train)).shuffle(BUFFER_SIZE)\n",
    "dataset = dataset.batch(BATCH_SIZE, drop_remainder=True)"
   ]
  },
  {
   "cell_type": "code",
   "execution_count": 18,
   "metadata": {
    "colab": {
     "base_uri": "https://localhost:8080/"
    },
    "id": "qc6-NK1GtWQt",
    "outputId": "d49eb7f4-eed6-43fa-91e9-2a142698e60f"
   },
   "outputs": [
    {
     "data": {
      "text/plain": [
       "(TensorShape([64, 21]), TensorShape([64, 13]))"
      ]
     },
     "execution_count": 18,
     "metadata": {},
     "output_type": "execute_result"
    }
   ],
   "source": [
    "example_input_batch, example_target_batch = next(iter(dataset))\n",
    "example_input_batch.shape, example_target_batch.shape"
   ]
  },
  {
   "cell_type": "code",
   "execution_count": 19,
   "metadata": {
    "id": "nZ2rI24i3jFg"
   },
   "outputs": [],
   "source": [
    "class Encoder(tf.keras.Model):\n",
    "    def __init__(self, vocab_size, embedding_dim, enc_units, batch_sz):\n",
    "        super(Encoder, self).__init__()\n",
    "        self.batch_sz = batch_sz\n",
    "        self.enc_units = enc_units\n",
    "        self.embedding = tf.keras.layers.Embedding(vocab_size, embedding_dim)\n",
    "        self.gru = tf.keras.layers.GRU(self.enc_units,\n",
    "                                       return_sequences=False,\n",
    "                                       return_state=False,\n",
    "                                       recurrent_initializer='glorot_uniform')\n",
    "\n",
    "    def call(self, x, hidden):\n",
    "        x = self.embedding(x)\n",
    "        state = self.gru(x, initial_state = hidden)\n",
    "        return state\n",
    "\n",
    "    def initialize_hidden_state(self):\n",
    "        return tf.zeros((self.batch_sz, self.enc_units))"
   ]
  },
  {
   "cell_type": "code",
   "execution_count": 20,
   "metadata": {
    "colab": {
     "base_uri": "https://localhost:8080/"
    },
    "id": "60gSVh05Jl6l",
    "outputId": "3d84b8d3-5b59-457c-ac45-b35cc297d581"
   },
   "outputs": [
    {
     "name": "stdout",
     "output_type": "stream",
     "text": [
      "Encoder Hidden state shape: (batch size, units) (64, 1024)\n"
     ]
    }
   ],
   "source": [
    "encoder = Encoder(vocab_inp_size, embedding_dim, units, BATCH_SIZE)\n",
    "\n",
    "# sample input\n",
    "sample_hidden = encoder.initialize_hidden_state()\n",
    "sample_hidden = encoder(example_input_batch, sample_hidden)\n",
    "# print ('Encoder output shape: (batch size, sequence length, units) {}'.format(sample_output.shape))\n",
    "print ('Encoder Hidden state shape: (batch size, units) {}'.format(sample_hidden.shape))"
   ]
  },
  {
   "cell_type": "code",
   "execution_count": 21,
   "metadata": {
    "id": "yJ_B3mhW3jFk"
   },
   "outputs": [],
   "source": [
    "class Decoder(tf.keras.Model):\n",
    "    def __init__(self, vocab_size, embedding_dim, dec_units, batch_sz):\n",
    "        super(Decoder, self).__init__()\n",
    "        self.batch_sz = batch_sz\n",
    "        self.dec_units = dec_units\n",
    "        self.embedding = tf.keras.layers.Embedding(vocab_size, embedding_dim)\n",
    "        self.gru = tf.keras.layers.GRU(self.dec_units,\n",
    "                                       return_sequences=True,\n",
    "                                       return_state=True,\n",
    "                                       recurrent_initializer='glorot_uniform')\n",
    "        self.fc = tf.keras.layers.Dense(vocab_size)\n",
    "\n",
    "        # used for attention\n",
    "        # self.attention = BahdanauAttention(self.dec_units)\n",
    "\n",
    "    def call(self, x, hidden):\n",
    "        # enc_output shape == (batch_size, max_length, hidden_size)\n",
    "\n",
    "        # x shape after passing through embedding == (batch_size, 1, embedding_dim)\n",
    "        x = self.embedding(x)\n",
    "\n",
    "        # x shape after concatenation == (batch_size, 1, embedding_dim + hidden_size)\n",
    "\n",
    "        # passing the concatenated vector to the GRU\n",
    "        output, state = self.gru(x, initial_state=hidden)\n",
    "\n",
    "        # output shape == (batch_size * 1, hidden_size)\n",
    "        output = tf.reshape(output, (-1, output.shape[2]))\n",
    "\n",
    "        # output shape == (batch_size, vocab)\n",
    "        x = self.fc(output)\n",
    "\n",
    "        return x, state"
   ]
  },
  {
   "cell_type": "code",
   "execution_count": 22,
   "metadata": {
    "id": "P5UY8wko3jFp"
   },
   "outputs": [],
   "source": [
    "decoder = Decoder(vocab_tar_size, embedding_dim, units, BATCH_SIZE)\n",
    "\n",
    "decoder_sample_x, decoder_sample_h = decoder(tf.random.uniform((BATCH_SIZE, 1)),\n",
    "                                      sample_hidden)\n",
    "\n"
   ]
  },
  {
   "cell_type": "code",
   "execution_count": 23,
   "metadata": {
    "colab": {
     "base_uri": "https://localhost:8080/"
    },
    "id": "6y0HF-zMF_vp",
    "outputId": "35e0f328-05a3-475d-8fe6-3961a429c117"
   },
   "outputs": [
    {
     "data": {
      "text/plain": [
       "TensorShape([64, 1024])"
      ]
     },
     "execution_count": 23,
     "metadata": {},
     "output_type": "execute_result"
    }
   ],
   "source": [
    "decoder_sample_h.shape"
   ]
  },
  {
   "cell_type": "markdown",
   "metadata": {
    "id": "_ch_71VbIRfK"
   },
   "source": [
    "## Define the optimizer and the loss function"
   ]
  },
  {
   "cell_type": "code",
   "execution_count": 24,
   "metadata": {
    "id": "WmTHr5iV3jFr"
   },
   "outputs": [],
   "source": [
    "optimizer = tf.keras.optimizers.Adam()\n",
    "loss_object = tf.keras.losses.SparseCategoricalCrossentropy(\n",
    "    from_logits=True, reduction='none')\n",
    "\n",
    "def loss_function(real, pred):\n",
    "    mask = tf.math.logical_not(tf.math.equal(real, 0))\n",
    "    loss_ = loss_object(real, pred)\n",
    "\n",
    "    mask = tf.cast(mask, dtype=loss_.dtype)\n",
    "    loss_ *= mask\n",
    "\n",
    "    return tf.reduce_mean(loss_)"
   ]
  },
  {
   "cell_type": "markdown",
   "metadata": {
    "id": "DMVWzzsfNl4e"
   },
   "source": [
    "## Checkpoints (Object-based saving)"
   ]
  },
  {
   "cell_type": "code",
   "execution_count": 25,
   "metadata": {
    "id": "Zj8bXQTgNwrF"
   },
   "outputs": [],
   "source": [
    "checkpoint_dir = './training_checkpoints'\n",
    "checkpoint_prefix = os.path.join(checkpoint_dir, \"ckpt\")\n",
    "checkpoint = tf.train.Checkpoint(optimizer=optimizer,\n",
    "                                 encoder=encoder,\n",
    "                                 decoder=decoder)"
   ]
  },
  {
   "cell_type": "code",
   "execution_count": 26,
   "metadata": {
    "id": "sC9ArXSsVfqn"
   },
   "outputs": [],
   "source": [
    "@tf.function\n",
    "def train_step(inp, targ, enc_hidden):\n",
    "    loss = 0\n",
    "\n",
    "    with tf.GradientTape() as tape:\n",
    "        enc_hidden = encoder(inp, enc_hidden)\n",
    "\n",
    "        dec_hidden = enc_hidden\n",
    "\n",
    "        dec_input = tf.expand_dims([targ_lang.word_index['<start>']] * BATCH_SIZE, 1)\n",
    "\n",
    "        # Teacher forcing - feeding the target as the next input\n",
    "        for t in range(1, targ.shape[1]):\n",
    "            # passing enc_output to the decoder\n",
    "            predictions, dec_hidden = decoder(dec_input, dec_hidden)\n",
    "\n",
    "            loss += loss_function(targ[:, t], predictions)\n",
    "\n",
    "            # using teacher forcing\n",
    "            dec_input = tf.expand_dims(targ[:, t], 1)\n",
    "\n",
    "        batch_loss = (loss / int(targ.shape[1]))\n",
    "\n",
    "        variables = encoder.trainable_variables + decoder.trainable_variables\n",
    "\n",
    "        gradients = tape.gradient(loss, variables)\n",
    "\n",
    "        optimizer.apply_gradients(zip(gradients, variables))\n",
    "\n",
    "    return batch_loss"
   ]
  },
  {
   "cell_type": "code",
   "execution_count": 27,
   "metadata": {
    "colab": {
     "base_uri": "https://localhost:8080/"
    },
    "id": "ddefjBMa3jF0",
    "outputId": "c431b4f1-b28f-4266-ccf6-b172905843b9",
    "scrolled": false
   },
   "outputs": [
    {
     "name": "stdout",
     "output_type": "stream",
     "text": [
      "Epoch 1 Batch 0 Loss 4.6613\n",
      "Epoch 1 Batch 100 Loss 2.3020\n",
      "Epoch 1 Batch 200 Loss 2.0763\n",
      "Epoch 1 Batch 300 Loss 1.7916\n",
      "Epoch 1 Batch 400 Loss 1.6321\n",
      "Epoch 1 Batch 500 Loss 1.6474\n",
      "Epoch 1 Batch 600 Loss 1.4914\n",
      "Epoch 1 Batch 700 Loss 1.5311\n",
      "Epoch 1 Batch 800 Loss 1.4582\n",
      "Epoch 1 Batch 900 Loss 1.3603\n",
      "Epoch 1 Batch 1000 Loss 1.4814\n",
      "Epoch 1 Batch 1100 Loss 1.2764\n",
      "Epoch 1 Batch 1200 Loss 1.2583\n",
      "Epoch 1 Loss 1.6714\n",
      "Time taken for 1 epoch 84.20373487472534 sec\n",
      "\n",
      "Epoch 2 Batch 0 Loss 1.1822\n",
      "Epoch 2 Batch 100 Loss 1.2525\n",
      "Epoch 2 Batch 200 Loss 1.1078\n",
      "Epoch 2 Batch 300 Loss 1.0592\n",
      "Epoch 2 Batch 400 Loss 0.9330\n",
      "Epoch 2 Batch 500 Loss 0.9892\n",
      "Epoch 2 Batch 600 Loss 0.9759\n",
      "Epoch 2 Batch 700 Loss 1.0574\n",
      "Epoch 2 Batch 800 Loss 0.9626\n",
      "Epoch 2 Batch 900 Loss 0.8311\n",
      "Epoch 2 Batch 1000 Loss 0.8489\n",
      "Epoch 2 Batch 1100 Loss 0.8466\n",
      "Epoch 2 Batch 1200 Loss 0.8485\n",
      "Epoch 2 Loss 0.9861\n",
      "Time taken for 1 epoch 78.92437314987183 sec\n",
      "\n",
      "Epoch 3 Batch 0 Loss 0.7643\n",
      "Epoch 3 Batch 100 Loss 0.7476\n",
      "Epoch 3 Batch 200 Loss 0.5498\n",
      "Epoch 3 Batch 300 Loss 0.6429\n",
      "Epoch 3 Batch 400 Loss 0.5839\n",
      "Epoch 3 Batch 500 Loss 0.7489\n",
      "Epoch 3 Batch 600 Loss 0.5548\n",
      "Epoch 3 Batch 700 Loss 0.6309\n",
      "Epoch 3 Batch 800 Loss 0.6383\n",
      "Epoch 3 Batch 900 Loss 0.5806\n",
      "Epoch 3 Batch 1000 Loss 0.5741\n",
      "Epoch 3 Batch 1100 Loss 0.5321\n",
      "Epoch 3 Batch 1200 Loss 0.5535\n",
      "Epoch 3 Loss 0.6167\n",
      "Time taken for 1 epoch 70.28110337257385 sec\n",
      "\n",
      "Epoch 4 Batch 0 Loss 0.3465\n",
      "Epoch 4 Batch 100 Loss 0.3621\n",
      "Epoch 4 Batch 200 Loss 0.4625\n",
      "Epoch 4 Batch 300 Loss 0.4163\n",
      "Epoch 4 Batch 400 Loss 0.4460\n",
      "Epoch 4 Batch 500 Loss 0.4484\n",
      "Epoch 4 Batch 600 Loss 0.3820\n",
      "Epoch 4 Batch 700 Loss 0.5207\n",
      "Epoch 4 Batch 800 Loss 0.3696\n",
      "Epoch 4 Batch 900 Loss 0.3496\n",
      "Epoch 4 Batch 1000 Loss 0.3980\n",
      "Epoch 4 Batch 1100 Loss 0.4082\n",
      "Epoch 4 Batch 1200 Loss 0.3971\n",
      "Epoch 4 Loss 0.3848\n",
      "Time taken for 1 epoch 73.50740647315979 sec\n",
      "\n",
      "Epoch 5 Batch 0 Loss 0.2030\n",
      "Epoch 5 Batch 100 Loss 0.1723\n",
      "Epoch 5 Batch 200 Loss 0.2337\n",
      "Epoch 5 Batch 300 Loss 0.3131\n",
      "Epoch 5 Batch 400 Loss 0.2238\n",
      "Epoch 5 Batch 500 Loss 0.2486\n",
      "Epoch 5 Batch 600 Loss 0.2759\n",
      "Epoch 5 Batch 700 Loss 0.2328\n",
      "Epoch 5 Batch 800 Loss 0.2534\n",
      "Epoch 5 Batch 900 Loss 0.2775\n",
      "Epoch 5 Batch 1000 Loss 0.2432\n",
      "Epoch 5 Batch 1100 Loss 0.2361\n",
      "Epoch 5 Batch 1200 Loss 0.2939\n",
      "Epoch 5 Loss 0.2503\n",
      "Time taken for 1 epoch 70.78876042366028 sec\n",
      "\n",
      "Epoch 6 Batch 0 Loss 0.1697\n",
      "Epoch 6 Batch 100 Loss 0.1622\n",
      "Epoch 6 Batch 200 Loss 0.1850\n",
      "Epoch 6 Batch 300 Loss 0.1771\n",
      "Epoch 6 Batch 400 Loss 0.1841\n",
      "Epoch 6 Batch 500 Loss 0.1911\n",
      "Epoch 6 Batch 600 Loss 0.1854\n",
      "Epoch 6 Batch 700 Loss 0.1935\n",
      "Epoch 6 Batch 800 Loss 0.1783\n",
      "Epoch 6 Batch 900 Loss 0.2045\n",
      "Epoch 6 Batch 1000 Loss 0.1983\n",
      "Epoch 6 Batch 1100 Loss 0.1697\n",
      "Epoch 6 Batch 1200 Loss 0.1667\n",
      "Epoch 6 Loss 0.1742\n",
      "Time taken for 1 epoch 76.52254438400269 sec\n",
      "\n",
      "Epoch 7 Batch 0 Loss 0.1231\n",
      "Epoch 7 Batch 100 Loss 0.1183\n",
      "Epoch 7 Batch 200 Loss 0.1210\n",
      "Epoch 7 Batch 300 Loss 0.1295\n",
      "Epoch 7 Batch 400 Loss 0.1001\n",
      "Epoch 7 Batch 500 Loss 0.1044\n",
      "Epoch 7 Batch 600 Loss 0.1425\n",
      "Epoch 7 Batch 700 Loss 0.0926\n",
      "Epoch 7 Batch 800 Loss 0.1872\n",
      "Epoch 7 Batch 900 Loss 0.1387\n",
      "Epoch 7 Batch 1000 Loss 0.1300\n",
      "Epoch 7 Batch 1100 Loss 0.1607\n",
      "Epoch 7 Batch 1200 Loss 0.1709\n",
      "Epoch 7 Loss 0.1323\n",
      "Time taken for 1 epoch 69.88698959350586 sec\n",
      "\n",
      "Epoch 8 Batch 0 Loss 0.1102\n",
      "Epoch 8 Batch 100 Loss 0.0872\n",
      "Epoch 8 Batch 200 Loss 0.1079\n",
      "Epoch 8 Batch 300 Loss 0.0980\n",
      "Epoch 8 Batch 400 Loss 0.0727\n",
      "Epoch 8 Batch 500 Loss 0.1238\n",
      "Epoch 8 Batch 600 Loss 0.1025\n",
      "Epoch 8 Batch 700 Loss 0.0892\n",
      "Epoch 8 Batch 800 Loss 0.1156\n",
      "Epoch 8 Batch 900 Loss 0.1364\n",
      "Epoch 8 Batch 1000 Loss 0.1330\n",
      "Epoch 8 Batch 1100 Loss 0.1162\n",
      "Epoch 8 Batch 1200 Loss 0.0913\n",
      "Epoch 8 Loss 0.1079\n",
      "Time taken for 1 epoch 73.82944178581238 sec\n",
      "\n",
      "Epoch 9 Batch 0 Loss 0.0474\n",
      "Epoch 9 Batch 100 Loss 0.0673\n",
      "Epoch 9 Batch 200 Loss 0.0586\n",
      "Epoch 9 Batch 300 Loss 0.0939\n",
      "Epoch 9 Batch 400 Loss 0.1221\n",
      "Epoch 9 Batch 500 Loss 0.0632\n",
      "Epoch 9 Batch 600 Loss 0.0689\n",
      "Epoch 9 Batch 700 Loss 0.1134\n",
      "Epoch 9 Batch 800 Loss 0.0858\n",
      "Epoch 9 Batch 900 Loss 0.1084\n",
      "Epoch 9 Batch 1000 Loss 0.1221\n",
      "Epoch 9 Batch 1100 Loss 0.1763\n",
      "Epoch 9 Batch 1200 Loss 0.1041\n",
      "Epoch 9 Loss 0.0950\n",
      "Time taken for 1 epoch 70.64495992660522 sec\n",
      "\n",
      "Epoch 10 Batch 0 Loss 0.0559\n",
      "Epoch 10 Batch 100 Loss 0.0610\n",
      "Epoch 10 Batch 200 Loss 0.0460\n",
      "Epoch 10 Batch 300 Loss 0.0820\n",
      "Epoch 10 Batch 400 Loss 0.0908\n",
      "Epoch 10 Batch 500 Loss 0.0689\n",
      "Epoch 10 Batch 600 Loss 0.0842\n",
      "Epoch 10 Batch 700 Loss 0.0992\n",
      "Epoch 10 Batch 800 Loss 0.0997\n",
      "Epoch 10 Batch 900 Loss 0.0933\n",
      "Epoch 10 Batch 1000 Loss 0.0734\n",
      "Epoch 10 Batch 1100 Loss 0.1180\n",
      "Epoch 10 Batch 1200 Loss 0.1064\n",
      "Epoch 10 Loss 0.0863\n",
      "Time taken for 1 epoch 74.80479121208191 sec\n",
      "\n",
      "Epoch 11 Batch 0 Loss 0.0367\n",
      "Epoch 11 Batch 100 Loss 0.0489\n",
      "Epoch 11 Batch 200 Loss 0.0653\n",
      "Epoch 11 Batch 300 Loss 0.0812\n",
      "Epoch 11 Batch 400 Loss 0.0385\n",
      "Epoch 11 Batch 500 Loss 0.0718\n",
      "Epoch 11 Batch 600 Loss 0.0853\n",
      "Epoch 11 Batch 700 Loss 0.0717\n",
      "Epoch 11 Batch 800 Loss 0.0916\n",
      "Epoch 11 Batch 900 Loss 0.1029\n",
      "Epoch 11 Batch 1000 Loss 0.1243\n",
      "Epoch 11 Batch 1100 Loss 0.0984\n",
      "Epoch 11 Batch 1200 Loss 0.0604\n",
      "Epoch 11 Loss 0.0804\n",
      "Time taken for 1 epoch 71.2071225643158 sec\n",
      "\n",
      "Epoch 12 Batch 0 Loss 0.0611\n",
      "Epoch 12 Batch 100 Loss 0.0654\n",
      "Epoch 12 Batch 200 Loss 0.0740\n",
      "Epoch 12 Batch 300 Loss 0.0857\n",
      "Epoch 12 Batch 400 Loss 0.0484\n",
      "Epoch 12 Batch 500 Loss 0.0730\n",
      "Epoch 12 Batch 600 Loss 0.0540\n",
      "Epoch 12 Batch 700 Loss 0.0956\n",
      "Epoch 12 Batch 800 Loss 0.0950\n",
      "Epoch 12 Batch 900 Loss 0.0863\n",
      "Epoch 12 Batch 1000 Loss 0.1124\n",
      "Epoch 12 Batch 1100 Loss 0.1233\n",
      "Epoch 12 Batch 1200 Loss 0.0821\n",
      "Epoch 12 Loss 0.0768\n",
      "Time taken for 1 epoch 75.20035028457642 sec\n",
      "\n",
      "Epoch 13 Batch 0 Loss 0.1104\n",
      "Epoch 13 Batch 100 Loss 0.0610\n",
      "Epoch 13 Batch 200 Loss 0.0382\n",
      "Epoch 13 Batch 300 Loss 0.0885\n",
      "Epoch 13 Batch 400 Loss 0.1090\n",
      "Epoch 13 Batch 500 Loss 0.0818\n",
      "Epoch 13 Batch 600 Loss 0.0692\n",
      "Epoch 13 Batch 700 Loss 0.0813\n",
      "Epoch 13 Batch 800 Loss 0.0597\n",
      "Epoch 13 Batch 900 Loss 0.0992\n",
      "Epoch 13 Batch 1000 Loss 0.0760\n",
      "Epoch 13 Batch 1100 Loss 0.0907\n",
      "Epoch 13 Batch 1200 Loss 0.1049\n",
      "Epoch 13 Loss 0.0732\n",
      "Time taken for 1 epoch 71.07444262504578 sec\n",
      "\n",
      "Epoch 14 Batch 0 Loss 0.0657\n",
      "Epoch 14 Batch 100 Loss 0.0628\n",
      "Epoch 14 Batch 200 Loss 0.0522\n",
      "Epoch 14 Batch 300 Loss 0.0505\n",
      "Epoch 14 Batch 400 Loss 0.0796\n",
      "Epoch 14 Batch 500 Loss 0.0808\n",
      "Epoch 14 Batch 600 Loss 0.0559\n",
      "Epoch 14 Batch 700 Loss 0.0641\n",
      "Epoch 14 Batch 800 Loss 0.0935\n",
      "Epoch 14 Batch 900 Loss 0.0808\n",
      "Epoch 14 Batch 1000 Loss 0.0685\n",
      "Epoch 14 Batch 1100 Loss 0.1118\n",
      "Epoch 14 Batch 1200 Loss 0.0849\n",
      "Epoch 14 Loss 0.0709\n",
      "Time taken for 1 epoch 73.97159743309021 sec\n",
      "\n",
      "Epoch 15 Batch 0 Loss 0.0599\n",
      "Epoch 15 Batch 100 Loss 0.0668\n",
      "Epoch 15 Batch 200 Loss 0.0549\n",
      "Epoch 15 Batch 300 Loss 0.0556\n",
      "Epoch 15 Batch 400 Loss 0.0478\n",
      "Epoch 15 Batch 500 Loss 0.0564\n",
      "Epoch 15 Batch 600 Loss 0.0612\n",
      "Epoch 15 Batch 700 Loss 0.0671\n",
      "Epoch 15 Batch 800 Loss 0.0808\n",
      "Epoch 15 Batch 900 Loss 0.0380\n",
      "Epoch 15 Batch 1000 Loss 0.0919\n",
      "Epoch 15 Batch 1100 Loss 0.0837\n",
      "Epoch 15 Batch 1200 Loss 0.0679\n",
      "Epoch 15 Loss 0.0676\n",
      "Time taken for 1 epoch 71.32363247871399 sec\n",
      "\n",
      "Epoch 16 Batch 0 Loss 0.0514\n",
      "Epoch 16 Batch 100 Loss 0.0326\n",
      "Epoch 16 Batch 200 Loss 0.0622\n",
      "Epoch 16 Batch 300 Loss 0.0429\n",
      "Epoch 16 Batch 400 Loss 0.0761\n",
      "Epoch 16 Batch 500 Loss 0.0478\n",
      "Epoch 16 Batch 600 Loss 0.0803\n",
      "Epoch 16 Batch 700 Loss 0.0621\n",
      "Epoch 16 Batch 800 Loss 0.0449\n",
      "Epoch 16 Batch 900 Loss 0.0787\n",
      "Epoch 16 Batch 1000 Loss 0.0906\n",
      "Epoch 16 Batch 1100 Loss 0.1300\n",
      "Epoch 16 Batch 1200 Loss 0.1229\n",
      "Epoch 16 Loss 0.0674\n",
      "Time taken for 1 epoch 74.35848355293274 sec\n",
      "\n",
      "Epoch 17 Batch 0 Loss 0.0545\n",
      "Epoch 17 Batch 100 Loss 0.0617\n",
      "Epoch 17 Batch 200 Loss 0.0414\n",
      "Epoch 17 Batch 300 Loss 0.0541\n",
      "Epoch 17 Batch 400 Loss 0.0395\n",
      "Epoch 17 Batch 500 Loss 0.0440\n",
      "Epoch 17 Batch 600 Loss 0.0742\n",
      "Epoch 17 Batch 700 Loss 0.0449\n",
      "Epoch 17 Batch 800 Loss 0.0928\n",
      "Epoch 17 Batch 900 Loss 0.0817\n",
      "Epoch 17 Batch 1000 Loss 0.1034\n",
      "Epoch 17 Batch 1100 Loss 0.0592\n",
      "Epoch 17 Batch 1200 Loss 0.1234\n",
      "Epoch 17 Loss 0.0664\n",
      "Time taken for 1 epoch 71.51316022872925 sec\n",
      "\n",
      "Epoch 18 Batch 0 Loss 0.0674\n",
      "Epoch 18 Batch 100 Loss 0.0674\n",
      "Epoch 18 Batch 200 Loss 0.0691\n",
      "Epoch 18 Batch 300 Loss 0.0810\n",
      "Epoch 18 Batch 400 Loss 0.0544\n",
      "Epoch 18 Batch 500 Loss 0.0475\n",
      "Epoch 18 Batch 600 Loss 0.0613\n",
      "Epoch 18 Batch 700 Loss 0.0792\n",
      "Epoch 18 Batch 800 Loss 0.0487\n",
      "Epoch 18 Batch 900 Loss 0.1071\n",
      "Epoch 18 Batch 1000 Loss 0.0864\n"
     ]
    },
    {
     "name": "stdout",
     "output_type": "stream",
     "text": [
      "Epoch 18 Batch 1100 Loss 0.0770\n",
      "Epoch 18 Batch 1200 Loss 0.1260\n",
      "Epoch 18 Loss 0.0662\n",
      "Time taken for 1 epoch 74.06139516830444 sec\n",
      "\n",
      "Epoch 19 Batch 0 Loss 0.0292\n",
      "Epoch 19 Batch 100 Loss 0.0515\n",
      "Epoch 19 Batch 200 Loss 0.0427\n",
      "Epoch 19 Batch 300 Loss 0.0544\n",
      "Epoch 19 Batch 400 Loss 0.0496\n",
      "Epoch 19 Batch 500 Loss 0.0589\n",
      "Epoch 19 Batch 600 Loss 0.0446\n",
      "Epoch 19 Batch 700 Loss 0.0928\n",
      "Epoch 19 Batch 800 Loss 0.0624\n",
      "Epoch 19 Batch 900 Loss 0.0632\n",
      "Epoch 19 Batch 1000 Loss 0.0726\n",
      "Epoch 19 Batch 1100 Loss 0.0698\n",
      "Epoch 19 Batch 1200 Loss 0.0561\n",
      "Epoch 19 Loss 0.0644\n",
      "Time taken for 1 epoch 70.82915616035461 sec\n",
      "\n",
      "Epoch 20 Batch 0 Loss 0.0549\n",
      "Epoch 20 Batch 100 Loss 0.0310\n",
      "Epoch 20 Batch 200 Loss 0.0530\n",
      "Epoch 20 Batch 300 Loss 0.0516\n",
      "Epoch 20 Batch 400 Loss 0.0414\n",
      "Epoch 20 Batch 500 Loss 0.0484\n",
      "Epoch 20 Batch 600 Loss 0.0724\n",
      "Epoch 20 Batch 700 Loss 0.0783\n",
      "Epoch 20 Batch 800 Loss 0.1115\n",
      "Epoch 20 Batch 900 Loss 0.0454\n",
      "Epoch 20 Batch 1000 Loss 0.0792\n",
      "Epoch 20 Batch 1100 Loss 0.0594\n",
      "Epoch 20 Batch 1200 Loss 0.0699\n",
      "Epoch 20 Loss 0.0644\n",
      "Time taken for 1 epoch 73.87515687942505 sec\n",
      "\n",
      "Epoch 21 Batch 0 Loss 0.0540\n",
      "Epoch 21 Batch 100 Loss 0.0297\n",
      "Epoch 21 Batch 200 Loss 0.0483\n",
      "Epoch 21 Batch 300 Loss 0.0576\n",
      "Epoch 21 Batch 400 Loss 0.0607\n",
      "Epoch 21 Batch 500 Loss 0.0800\n",
      "Epoch 21 Batch 600 Loss 0.0824\n",
      "Epoch 21 Batch 700 Loss 0.0797\n",
      "Epoch 21 Batch 800 Loss 0.0928\n",
      "Epoch 21 Batch 900 Loss 0.0545\n",
      "Epoch 21 Batch 1000 Loss 0.0368\n",
      "Epoch 21 Batch 1100 Loss 0.0888\n",
      "Epoch 21 Batch 1200 Loss 0.0768\n",
      "Epoch 21 Loss 0.0629\n",
      "Time taken for 1 epoch 70.83959627151489 sec\n",
      "\n",
      "Epoch 22 Batch 0 Loss 0.0431\n",
      "Epoch 22 Batch 100 Loss 0.0594\n",
      "Epoch 22 Batch 200 Loss 0.0765\n",
      "Epoch 22 Batch 300 Loss 0.0566\n",
      "Epoch 22 Batch 400 Loss 0.0522\n",
      "Epoch 22 Batch 500 Loss 0.0841\n",
      "Epoch 22 Batch 600 Loss 0.0830\n",
      "Epoch 22 Batch 700 Loss 0.0932\n",
      "Epoch 22 Batch 800 Loss 0.0533\n",
      "Epoch 22 Batch 900 Loss 0.0809\n",
      "Epoch 22 Batch 1000 Loss 0.0620\n",
      "Epoch 22 Batch 1100 Loss 0.0642\n",
      "Epoch 22 Batch 1200 Loss 0.0910\n",
      "Epoch 22 Loss 0.0641\n",
      "Time taken for 1 epoch 73.16820979118347 sec\n",
      "\n",
      "Epoch 23 Batch 0 Loss 0.0341\n",
      "Epoch 23 Batch 100 Loss 0.0256\n",
      "Epoch 23 Batch 200 Loss 0.0758\n",
      "Epoch 23 Batch 300 Loss 0.0365\n",
      "Epoch 23 Batch 400 Loss 0.0555\n",
      "Epoch 23 Batch 500 Loss 0.0734\n",
      "Epoch 23 Batch 600 Loss 0.0744\n",
      "Epoch 23 Batch 700 Loss 0.0813\n",
      "Epoch 23 Batch 800 Loss 0.0696\n",
      "Epoch 23 Batch 900 Loss 0.0576\n",
      "Epoch 23 Batch 1000 Loss 0.0540\n",
      "Epoch 23 Batch 1100 Loss 0.0752\n",
      "Epoch 23 Batch 1200 Loss 0.0681\n",
      "Epoch 23 Loss 0.0628\n",
      "Time taken for 1 epoch 70.79159879684448 sec\n",
      "\n",
      "Epoch 24 Batch 0 Loss 0.0300\n",
      "Epoch 24 Batch 100 Loss 0.0487\n",
      "Epoch 24 Batch 200 Loss 0.0632\n",
      "Epoch 24 Batch 300 Loss 0.0521\n",
      "Epoch 24 Batch 400 Loss 0.0462\n",
      "Epoch 24 Batch 500 Loss 0.0449\n",
      "Epoch 24 Batch 600 Loss 0.0846\n",
      "Epoch 24 Batch 700 Loss 0.0514\n",
      "Epoch 24 Batch 800 Loss 0.0596\n",
      "Epoch 24 Batch 900 Loss 0.0888\n",
      "Epoch 24 Batch 1000 Loss 0.0975\n",
      "Epoch 24 Batch 1100 Loss 0.0699\n",
      "Epoch 24 Batch 1200 Loss 0.0925\n",
      "Epoch 24 Loss 0.0630\n",
      "Time taken for 1 epoch 73.23600459098816 sec\n",
      "\n",
      "Epoch 25 Batch 0 Loss 0.0582\n",
      "Epoch 25 Batch 100 Loss 0.0470\n",
      "Epoch 25 Batch 200 Loss 0.0690\n",
      "Epoch 25 Batch 300 Loss 0.0574\n",
      "Epoch 25 Batch 400 Loss 0.0502\n",
      "Epoch 25 Batch 500 Loss 0.1059\n",
      "Epoch 25 Batch 600 Loss 0.0592\n",
      "Epoch 25 Batch 700 Loss 0.0677\n",
      "Epoch 25 Batch 800 Loss 0.0600\n",
      "Epoch 25 Batch 900 Loss 0.0694\n",
      "Epoch 25 Batch 1000 Loss 0.0785\n",
      "Epoch 25 Batch 1100 Loss 0.1007\n",
      "Epoch 25 Batch 1200 Loss 0.0695\n",
      "Epoch 25 Loss 0.0624\n",
      "Time taken for 1 epoch 70.85040831565857 sec\n",
      "\n",
      "Epoch 26 Batch 0 Loss 0.0565\n",
      "Epoch 26 Batch 100 Loss 0.0535\n",
      "Epoch 26 Batch 200 Loss 0.0561\n",
      "Epoch 26 Batch 300 Loss 0.0636\n",
      "Epoch 26 Batch 400 Loss 0.0648\n",
      "Epoch 26 Batch 500 Loss 0.0266\n",
      "Epoch 26 Batch 600 Loss 0.0494\n",
      "Epoch 26 Batch 700 Loss 0.0636\n",
      "Epoch 26 Batch 800 Loss 0.0485\n",
      "Epoch 26 Batch 900 Loss 0.0730\n",
      "Epoch 26 Batch 1000 Loss 0.0949\n",
      "Epoch 26 Batch 1100 Loss 0.0708\n",
      "Epoch 26 Batch 1200 Loss 0.0764\n",
      "Epoch 26 Loss 0.0617\n",
      "Time taken for 1 epoch 74.07877469062805 sec\n",
      "\n",
      "Epoch 27 Batch 0 Loss 0.0431\n",
      "Epoch 27 Batch 100 Loss 0.0449\n",
      "Epoch 27 Batch 200 Loss 0.0329\n",
      "Epoch 27 Batch 300 Loss 0.0496\n",
      "Epoch 27 Batch 400 Loss 0.0360\n",
      "Epoch 27 Batch 500 Loss 0.0739\n",
      "Epoch 27 Batch 600 Loss 0.0516\n",
      "Epoch 27 Batch 700 Loss 0.1049\n",
      "Epoch 27 Batch 800 Loss 0.0662\n",
      "Epoch 27 Batch 900 Loss 0.1168\n",
      "Epoch 27 Batch 1000 Loss 0.0581\n",
      "Epoch 27 Batch 1100 Loss 0.0643\n",
      "Epoch 27 Batch 1200 Loss 0.0760\n",
      "Epoch 27 Loss 0.0628\n",
      "Time taken for 1 epoch 70.78957343101501 sec\n",
      "\n",
      "Epoch 28 Batch 0 Loss 0.0684\n",
      "Epoch 28 Batch 100 Loss 0.0410\n",
      "Epoch 28 Batch 200 Loss 0.0582\n",
      "Epoch 28 Batch 300 Loss 0.0611\n",
      "Epoch 28 Batch 400 Loss 0.0727\n",
      "Epoch 28 Batch 500 Loss 0.0375\n",
      "Epoch 28 Batch 600 Loss 0.0673\n",
      "Epoch 28 Batch 700 Loss 0.0837\n",
      "Epoch 28 Batch 800 Loss 0.0571\n",
      "Epoch 28 Batch 900 Loss 0.0684\n",
      "Epoch 28 Batch 1000 Loss 0.1140\n",
      "Epoch 28 Batch 1100 Loss 0.0911\n",
      "Epoch 28 Batch 1200 Loss 0.0632\n",
      "Epoch 28 Loss 0.0618\n",
      "Time taken for 1 epoch 74.18648600578308 sec\n",
      "\n",
      "Epoch 29 Batch 0 Loss 0.0346\n",
      "Epoch 29 Batch 100 Loss 0.0392\n",
      "Epoch 29 Batch 200 Loss 0.0772\n",
      "Epoch 29 Batch 300 Loss 0.0335\n",
      "Epoch 29 Batch 400 Loss 0.0833\n",
      "Epoch 29 Batch 500 Loss 0.0520\n",
      "Epoch 29 Batch 600 Loss 0.0507\n",
      "Epoch 29 Batch 700 Loss 0.0404\n",
      "Epoch 29 Batch 800 Loss 0.0799\n",
      "Epoch 29 Batch 900 Loss 0.0676\n",
      "Epoch 29 Batch 1000 Loss 0.0486\n",
      "Epoch 29 Batch 1100 Loss 0.0633\n",
      "Epoch 29 Batch 1200 Loss 0.1199\n",
      "Epoch 29 Loss 0.0622\n",
      "Time taken for 1 epoch 70.76763439178467 sec\n",
      "\n",
      "Epoch 30 Batch 0 Loss 0.0236\n",
      "Epoch 30 Batch 100 Loss 0.0513\n",
      "Epoch 30 Batch 200 Loss 0.0624\n",
      "Epoch 30 Batch 300 Loss 0.0872\n",
      "Epoch 30 Batch 400 Loss 0.0937\n",
      "Epoch 30 Batch 500 Loss 0.0575\n",
      "Epoch 30 Batch 600 Loss 0.0430\n",
      "Epoch 30 Batch 700 Loss 0.0373\n",
      "Epoch 30 Batch 800 Loss 0.0643\n",
      "Epoch 30 Batch 900 Loss 0.0610\n",
      "Epoch 30 Batch 1000 Loss 0.0592\n",
      "Epoch 30 Batch 1100 Loss 0.0890\n",
      "Epoch 30 Batch 1200 Loss 0.0617\n",
      "Epoch 30 Loss 0.0631\n",
      "Time taken for 1 epoch 74.13367748260498 sec\n",
      "\n",
      "Epoch 31 Batch 0 Loss 0.0326\n",
      "Epoch 31 Batch 100 Loss 0.0464\n",
      "Epoch 31 Batch 200 Loss 0.0474\n",
      "Epoch 31 Batch 300 Loss 0.0455\n",
      "Epoch 31 Batch 400 Loss 0.0547\n",
      "Epoch 31 Batch 500 Loss 0.0551\n",
      "Epoch 31 Batch 600 Loss 0.0577\n",
      "Epoch 31 Batch 700 Loss 0.0912\n",
      "Epoch 31 Batch 800 Loss 0.0654\n",
      "Epoch 31 Batch 900 Loss 0.0661\n",
      "Epoch 31 Batch 1000 Loss 0.1072\n",
      "Epoch 31 Batch 1100 Loss 0.0772\n",
      "Epoch 31 Batch 1200 Loss 0.0806\n",
      "Epoch 31 Loss 0.0630\n",
      "Time taken for 1 epoch 70.8175003528595 sec\n",
      "\n",
      "Epoch 32 Batch 0 Loss 0.0500\n",
      "Epoch 32 Batch 100 Loss 0.0433\n",
      "Epoch 32 Batch 200 Loss 0.0352\n",
      "Epoch 32 Batch 300 Loss 0.0917\n",
      "Epoch 32 Batch 400 Loss 0.0622\n",
      "Epoch 32 Batch 500 Loss 0.0390\n",
      "Epoch 32 Batch 600 Loss 0.0523\n",
      "Epoch 32 Batch 700 Loss 0.0557\n",
      "Epoch 32 Batch 800 Loss 0.0635\n",
      "Epoch 32 Batch 900 Loss 0.0887\n",
      "Epoch 32 Batch 1000 Loss 0.0788\n",
      "Epoch 32 Batch 1100 Loss 0.0440\n",
      "Epoch 32 Batch 1200 Loss 0.0453\n",
      "Epoch 32 Loss 0.0627\n",
      "Time taken for 1 epoch 73.7147479057312 sec\n",
      "\n",
      "Epoch 33 Batch 0 Loss 0.0546\n",
      "Epoch 33 Batch 100 Loss 0.0473\n",
      "Epoch 33 Batch 200 Loss 0.0950\n",
      "Epoch 33 Batch 300 Loss 0.0411\n",
      "Epoch 33 Batch 400 Loss 0.0363\n",
      "Epoch 33 Batch 500 Loss 0.0556\n",
      "Epoch 33 Batch 600 Loss 0.0525\n",
      "Epoch 33 Batch 700 Loss 0.0479\n",
      "Epoch 33 Batch 800 Loss 0.0778\n",
      "Epoch 33 Batch 900 Loss 0.1101\n",
      "Epoch 33 Batch 1000 Loss 0.0823\n",
      "Epoch 33 Batch 1100 Loss 0.0477\n",
      "Epoch 33 Batch 1200 Loss 0.0711\n",
      "Epoch 33 Loss 0.0621\n",
      "Time taken for 1 epoch 70.82850122451782 sec\n",
      "\n",
      "Epoch 34 Batch 0 Loss 0.0786\n",
      "Epoch 34 Batch 100 Loss 0.0371\n",
      "Epoch 34 Batch 200 Loss 0.0813\n",
      "Epoch 34 Batch 300 Loss 0.0992\n",
      "Epoch 34 Batch 400 Loss 0.0419\n",
      "Epoch 34 Batch 500 Loss 0.0623\n",
      "Epoch 34 Batch 600 Loss 0.0699\n",
      "Epoch 34 Batch 700 Loss 0.0755\n",
      "Epoch 34 Batch 800 Loss 0.0804\n",
      "Epoch 34 Batch 900 Loss 0.0781\n",
      "Epoch 34 Batch 1000 Loss 0.0864\n",
      "Epoch 34 Batch 1100 Loss 0.0368\n",
      "Epoch 34 Batch 1200 Loss 0.0735\n",
      "Epoch 34 Loss 0.0633\n",
      "Time taken for 1 epoch 73.41152906417847 sec\n",
      "\n",
      "Epoch 35 Batch 0 Loss 0.0625\n",
      "Epoch 35 Batch 100 Loss 0.0559\n",
      "Epoch 35 Batch 200 Loss 0.0509\n",
      "Epoch 35 Batch 300 Loss 0.0528\n",
      "Epoch 35 Batch 400 Loss 0.0588\n",
      "Epoch 35 Batch 500 Loss 0.0611\n",
      "Epoch 35 Batch 600 Loss 0.0702\n",
      "Epoch 35 Batch 700 Loss 0.0375\n",
      "Epoch 35 Batch 800 Loss 0.0666\n",
      "Epoch 35 Batch 900 Loss 0.0381\n",
      "Epoch 35 Batch 1000 Loss 0.1152\n",
      "Epoch 35 Batch 1100 Loss 0.1074\n",
      "Epoch 35 Batch 1200 Loss 0.0867\n",
      "Epoch 35 Loss 0.0638\n",
      "Time taken for 1 epoch 70.87135577201843 sec\n",
      "\n",
      "Epoch 36 Batch 0 Loss 0.0517\n",
      "Epoch 36 Batch 100 Loss 0.0695\n"
     ]
    },
    {
     "name": "stdout",
     "output_type": "stream",
     "text": [
      "Epoch 36 Batch 200 Loss 0.0482\n",
      "Epoch 36 Batch 300 Loss 0.0762\n",
      "Epoch 36 Batch 400 Loss 0.0689\n",
      "Epoch 36 Batch 500 Loss 0.0647\n",
      "Epoch 36 Batch 600 Loss 0.0803\n",
      "Epoch 36 Batch 700 Loss 0.0691\n",
      "Epoch 36 Batch 800 Loss 0.0686\n",
      "Epoch 36 Batch 900 Loss 0.0748\n",
      "Epoch 36 Batch 1000 Loss 0.0984\n",
      "Epoch 36 Batch 1100 Loss 0.0690\n",
      "Epoch 36 Batch 1200 Loss 0.0731\n",
      "Epoch 36 Loss 0.0635\n",
      "Time taken for 1 epoch 74.35802960395813 sec\n",
      "\n",
      "Epoch 37 Batch 0 Loss 0.0441\n",
      "Epoch 37 Batch 100 Loss 0.0442\n",
      "Epoch 37 Batch 200 Loss 0.0382\n",
      "Epoch 37 Batch 300 Loss 0.0386\n",
      "Epoch 37 Batch 400 Loss 0.0410\n",
      "Epoch 37 Batch 500 Loss 0.0533\n",
      "Epoch 37 Batch 600 Loss 0.0583\n",
      "Epoch 37 Batch 700 Loss 0.0497\n",
      "Epoch 37 Batch 800 Loss 0.0556\n",
      "Epoch 37 Batch 900 Loss 0.0588\n",
      "Epoch 37 Batch 1000 Loss 0.0452\n",
      "Epoch 37 Batch 1100 Loss 0.0763\n",
      "Epoch 37 Batch 1200 Loss 0.0728\n",
      "Epoch 37 Loss 0.0618\n",
      "Time taken for 1 epoch 70.7516736984253 sec\n",
      "\n",
      "Epoch 38 Batch 0 Loss 0.0769\n",
      "Epoch 38 Batch 100 Loss 0.0535\n",
      "Epoch 38 Batch 200 Loss 0.0585\n",
      "Epoch 38 Batch 300 Loss 0.0601\n",
      "Epoch 38 Batch 400 Loss 0.0502\n",
      "Epoch 38 Batch 500 Loss 0.0790\n",
      "Epoch 38 Batch 600 Loss 0.0754\n",
      "Epoch 38 Batch 700 Loss 0.0824\n",
      "Epoch 38 Batch 800 Loss 0.0811\n",
      "Epoch 38 Batch 900 Loss 0.0685\n",
      "Epoch 38 Batch 1000 Loss 0.0592\n",
      "Epoch 38 Batch 1100 Loss 0.0529\n",
      "Epoch 38 Batch 1200 Loss 0.0513\n",
      "Epoch 38 Loss 0.0620\n",
      "Time taken for 1 epoch 74.0059700012207 sec\n",
      "\n",
      "Epoch 39 Batch 0 Loss 0.0647\n",
      "Epoch 39 Batch 100 Loss 0.0535\n",
      "Epoch 39 Batch 200 Loss 0.0598\n",
      "Epoch 39 Batch 300 Loss 0.0462\n",
      "Epoch 39 Batch 400 Loss 0.0696\n",
      "Epoch 39 Batch 500 Loss 0.0495\n",
      "Epoch 39 Batch 600 Loss 0.0470\n",
      "Epoch 39 Batch 700 Loss 0.0579\n",
      "Epoch 39 Batch 800 Loss 0.1039\n",
      "Epoch 39 Batch 900 Loss 0.0477\n",
      "Epoch 39 Batch 1000 Loss 0.0797\n",
      "Epoch 39 Batch 1100 Loss 0.0500\n",
      "Epoch 39 Batch 1200 Loss 0.0798\n",
      "Epoch 39 Loss 0.0644\n",
      "Time taken for 1 epoch 70.73073196411133 sec\n",
      "\n",
      "Epoch 40 Batch 0 Loss 0.0804\n",
      "Epoch 40 Batch 100 Loss 0.0522\n",
      "Epoch 40 Batch 200 Loss 0.0586\n",
      "Epoch 40 Batch 300 Loss 0.0381\n",
      "Epoch 40 Batch 400 Loss 0.0670\n",
      "Epoch 40 Batch 500 Loss 0.0612\n",
      "Epoch 40 Batch 600 Loss 0.0479\n",
      "Epoch 40 Batch 700 Loss 0.0484\n",
      "Epoch 40 Batch 800 Loss 0.0608\n",
      "Epoch 40 Batch 900 Loss 0.0982\n",
      "Epoch 40 Batch 1000 Loss 0.0734\n",
      "Epoch 40 Batch 1100 Loss 0.0607\n",
      "Epoch 40 Batch 1200 Loss 0.0854\n",
      "Epoch 40 Loss 0.0642\n",
      "Time taken for 1 epoch 73.75264596939087 sec\n",
      "\n",
      "Epoch 41 Batch 0 Loss 0.0424\n",
      "Epoch 41 Batch 100 Loss 0.0401\n",
      "Epoch 41 Batch 200 Loss 0.0511\n",
      "Epoch 41 Batch 300 Loss 0.0562\n",
      "Epoch 41 Batch 400 Loss 0.0770\n",
      "Epoch 41 Batch 500 Loss 0.0849\n",
      "Epoch 41 Batch 600 Loss 0.0644\n",
      "Epoch 41 Batch 700 Loss 0.0476\n",
      "Epoch 41 Batch 800 Loss 0.0862\n",
      "Epoch 41 Batch 900 Loss 0.0590\n",
      "Epoch 41 Batch 1000 Loss 0.0627\n",
      "Epoch 41 Batch 1100 Loss 0.0729\n",
      "Epoch 41 Batch 1200 Loss 0.0650\n",
      "Epoch 41 Loss 0.0639\n",
      "Time taken for 1 epoch 70.76962924003601 sec\n",
      "\n",
      "Epoch 42 Batch 0 Loss 0.0878\n",
      "Epoch 42 Batch 100 Loss 0.0664\n",
      "Epoch 42 Batch 200 Loss 0.0267\n",
      "Epoch 42 Batch 300 Loss 0.0559\n",
      "Epoch 42 Batch 400 Loss 0.0553\n",
      "Epoch 42 Batch 500 Loss 0.0775\n",
      "Epoch 42 Batch 600 Loss 0.0745\n",
      "Epoch 42 Batch 700 Loss 0.0727\n",
      "Epoch 42 Batch 800 Loss 0.0549\n",
      "Epoch 42 Batch 900 Loss 0.0788\n",
      "Epoch 42 Batch 1000 Loss 0.0678\n",
      "Epoch 42 Batch 1100 Loss 0.0983\n",
      "Epoch 42 Batch 1200 Loss 0.0584\n",
      "Epoch 42 Loss 0.0642\n",
      "Time taken for 1 epoch 73.82844352722168 sec\n",
      "\n",
      "Epoch 43 Batch 0 Loss 0.0277\n",
      "Epoch 43 Batch 100 Loss 0.0651\n",
      "Epoch 43 Batch 200 Loss 0.0247\n",
      "Epoch 43 Batch 300 Loss 0.0314\n",
      "Epoch 43 Batch 400 Loss 0.0488\n",
      "Epoch 43 Batch 500 Loss 0.0374\n",
      "Epoch 43 Batch 600 Loss 0.0816\n",
      "Epoch 43 Batch 700 Loss 0.0572\n",
      "Epoch 43 Batch 800 Loss 0.0680\n",
      "Epoch 43 Batch 900 Loss 0.1151\n",
      "Epoch 43 Batch 1000 Loss 0.0816\n",
      "Epoch 43 Batch 1100 Loss 0.0886\n",
      "Epoch 43 Batch 1200 Loss 0.0708\n",
      "Epoch 43 Loss 0.0631\n",
      "Time taken for 1 epoch 70.82148814201355 sec\n",
      "\n",
      "Epoch 44 Batch 0 Loss 0.0511\n",
      "Epoch 44 Batch 100 Loss 0.0264\n",
      "Epoch 44 Batch 200 Loss 0.0496\n",
      "Epoch 44 Batch 300 Loss 0.0709\n",
      "Epoch 44 Batch 400 Loss 0.0430\n",
      "Epoch 44 Batch 500 Loss 0.0400\n",
      "Epoch 44 Batch 600 Loss 0.0835\n",
      "Epoch 44 Batch 700 Loss 0.1126\n",
      "Epoch 44 Batch 800 Loss 0.0835\n",
      "Epoch 44 Batch 900 Loss 0.0724\n",
      "Epoch 44 Batch 1000 Loss 0.0594\n",
      "Epoch 44 Batch 1100 Loss 0.0645\n",
      "Epoch 44 Batch 1200 Loss 0.0761\n",
      "Epoch 44 Loss 0.0638\n",
      "Time taken for 1 epoch 75.35336542129517 sec\n",
      "\n",
      "Epoch 45 Batch 0 Loss 0.0315\n",
      "Epoch 45 Batch 100 Loss 0.0624\n",
      "Epoch 45 Batch 200 Loss 0.0682\n",
      "Epoch 45 Batch 300 Loss 0.0574\n",
      "Epoch 45 Batch 400 Loss 0.0419\n",
      "Epoch 45 Batch 500 Loss 0.0531\n",
      "Epoch 45 Batch 600 Loss 0.0899\n",
      "Epoch 45 Batch 700 Loss 0.0524\n",
      "Epoch 45 Batch 800 Loss 0.0550\n",
      "Epoch 45 Batch 900 Loss 0.0630\n",
      "Epoch 45 Batch 1000 Loss 0.1111\n",
      "Epoch 45 Batch 1100 Loss 0.0465\n",
      "Epoch 45 Batch 1200 Loss 0.0827\n",
      "Epoch 45 Loss 0.0648\n",
      "Time taken for 1 epoch 70.78059530258179 sec\n",
      "\n",
      "Epoch 46 Batch 0 Loss 0.0545\n",
      "Epoch 46 Batch 100 Loss 0.0462\n",
      "Epoch 46 Batch 200 Loss 0.0504\n",
      "Epoch 46 Batch 300 Loss 0.0545\n",
      "Epoch 46 Batch 400 Loss 0.0318\n",
      "Epoch 46 Batch 500 Loss 0.0764\n",
      "Epoch 46 Batch 600 Loss 0.0714\n",
      "Epoch 46 Batch 700 Loss 0.0634\n",
      "Epoch 46 Batch 800 Loss 0.0704\n",
      "Epoch 46 Batch 900 Loss 0.0673\n",
      "Epoch 46 Batch 1000 Loss 0.0937\n",
      "Epoch 46 Batch 1100 Loss 0.0677\n",
      "Epoch 46 Batch 1200 Loss 0.0976\n",
      "Epoch 46 Loss 0.0653\n",
      "Time taken for 1 epoch 73.66488146781921 sec\n",
      "\n",
      "Epoch 47 Batch 0 Loss 0.0468\n",
      "Epoch 47 Batch 100 Loss 0.0697\n",
      "Epoch 47 Batch 200 Loss 0.0649\n",
      "Epoch 47 Batch 300 Loss 0.0648\n",
      "Epoch 47 Batch 400 Loss 0.0324\n",
      "Epoch 47 Batch 500 Loss 0.0635\n",
      "Epoch 47 Batch 600 Loss 0.0572\n",
      "Epoch 47 Batch 700 Loss 0.0606\n",
      "Epoch 47 Batch 800 Loss 0.1016\n",
      "Epoch 47 Batch 900 Loss 0.0470\n",
      "Epoch 47 Batch 1000 Loss 0.0760\n",
      "Epoch 47 Batch 1100 Loss 0.0595\n",
      "Epoch 47 Batch 1200 Loss 0.0669\n",
      "Epoch 47 Loss 0.0640\n",
      "Time taken for 1 epoch 70.79555916786194 sec\n",
      "\n",
      "Epoch 48 Batch 0 Loss 0.0567\n",
      "Epoch 48 Batch 100 Loss 0.0451\n",
      "Epoch 48 Batch 200 Loss 0.0580\n",
      "Epoch 48 Batch 300 Loss 0.0642\n",
      "Epoch 48 Batch 400 Loss 0.0650\n",
      "Epoch 48 Batch 500 Loss 0.0396\n",
      "Epoch 48 Batch 600 Loss 0.0436\n",
      "Epoch 48 Batch 700 Loss 0.0552\n",
      "Epoch 48 Batch 800 Loss 0.0560\n",
      "Epoch 48 Batch 900 Loss 0.1109\n",
      "Epoch 48 Batch 1000 Loss 0.0729\n",
      "Epoch 48 Batch 1100 Loss 0.0994\n",
      "Epoch 48 Batch 1200 Loss 0.0599\n",
      "Epoch 48 Loss 0.0655\n",
      "Time taken for 1 epoch 74.37398290634155 sec\n",
      "\n",
      "Epoch 49 Batch 0 Loss 0.0543\n",
      "Epoch 49 Batch 100 Loss 0.0726\n",
      "Epoch 49 Batch 200 Loss 0.0468\n",
      "Epoch 49 Batch 300 Loss 0.0519\n",
      "Epoch 49 Batch 400 Loss 0.0597\n",
      "Epoch 49 Batch 500 Loss 0.0468\n",
      "Epoch 49 Batch 600 Loss 0.0701\n",
      "Epoch 49 Batch 700 Loss 0.0720\n",
      "Epoch 49 Batch 800 Loss 0.0806\n",
      "Epoch 49 Batch 900 Loss 0.0663\n",
      "Epoch 49 Batch 1000 Loss 0.0779\n",
      "Epoch 49 Batch 1100 Loss 0.0626\n",
      "Epoch 49 Batch 1200 Loss 0.0484\n",
      "Epoch 49 Loss 0.0644\n",
      "Time taken for 1 epoch 70.84287595748901 sec\n",
      "\n",
      "Epoch 50 Batch 0 Loss 0.0228\n",
      "Epoch 50 Batch 100 Loss 0.0553\n",
      "Epoch 50 Batch 200 Loss 0.0440\n",
      "Epoch 50 Batch 300 Loss 0.0627\n",
      "Epoch 50 Batch 400 Loss 0.0559\n",
      "Epoch 50 Batch 500 Loss 0.0346\n",
      "Epoch 50 Batch 600 Loss 0.0939\n",
      "Epoch 50 Batch 700 Loss 0.0530\n",
      "Epoch 50 Batch 800 Loss 0.0863\n",
      "Epoch 50 Batch 900 Loss 0.0634\n",
      "Epoch 50 Batch 1000 Loss 0.0746\n",
      "Epoch 50 Batch 1100 Loss 0.0595\n",
      "Epoch 50 Batch 1200 Loss 0.0628\n",
      "Epoch 50 Loss 0.0665\n",
      "Time taken for 1 epoch 74.18477773666382 sec\n",
      "\n"
     ]
    }
   ],
   "source": [
    "EPOCHS = 50\n",
    "\n",
    "for epoch in range(EPOCHS):\n",
    "    start = time.time()\n",
    "\n",
    "    enc_hidden = encoder.initialize_hidden_state()\n",
    "    total_loss = 0\n",
    "\n",
    "    for (batch, (inp, targ)) in enumerate(dataset.take(steps_per_epoch)):\n",
    "        batch_loss = train_step(inp, targ, enc_hidden)\n",
    "        total_loss += batch_loss\n",
    "\n",
    "        if batch % 100 == 0:\n",
    "            print('Epoch {} Batch {} Loss {:.4f}'.format(epoch + 1,\n",
    "                                                       batch,\n",
    "                                                       batch_loss.numpy()))\n",
    "    # saving (checkpoint) the model every 2 epochs\n",
    "    if (epoch + 1) % 2 == 0:\n",
    "        checkpoint.save(file_prefix = checkpoint_prefix)\n",
    "\n",
    "    print('Epoch {} Loss {:.4f}'.format(epoch + 1,\n",
    "                                      total_loss / steps_per_epoch))\n",
    "    print('Time taken for 1 epoch {} sec\\n'.format(time.time() - start))"
   ]
  },
  {
   "cell_type": "markdown",
   "metadata": {
    "id": "mU3Ce8M6I3rz"
   },
   "source": [
    "## Translate\n",
    "\n",
    "* The evaluate function is similar to the training loop, except we don't use *teacher forcing* here. The input to the decoder at each time step is its previous predictions along with the hidden state and the encoder output.\n",
    "* Stop predicting when the model predicts the *end token*.\n",
    "* And store the *attention weights for every time step*.\n",
    "\n",
    "Note: The encoder output is calculated only once for one input."
   ]
  },
  {
   "cell_type": "code",
   "execution_count": 28,
   "metadata": {
    "id": "EbQpyYs13jF_"
   },
   "outputs": [],
   "source": [
    "def evaluate(sentence):\n",
    "    attention_plot = np.zeros((max_length_targ, max_length_inp))\n",
    "\n",
    "    sentence = preprocess_sentence(sentence)\n",
    "\n",
    "    inputs = [inp_lang.word_index[i] for i in sentence.split(' ')]\n",
    "    inputs = tf.keras.preprocessing.sequence.pad_sequences([inputs],\n",
    "                                                         maxlen=max_length_inp,\n",
    "                                                         padding='post')\n",
    "    inputs = tf.convert_to_tensor(inputs)\n",
    "\n",
    "    result = ''\n",
    "\n",
    "    hidden = [tf.zeros((1, units))]\n",
    "    enc_hidden = encoder(inputs, hidden)\n",
    "\n",
    "    dec_hidden = enc_hidden\n",
    "    dec_input = tf.expand_dims([targ_lang.word_index['<start>']], 0)\n",
    "\n",
    "    for t in range(max_length_targ):\n",
    "        predictions, dec_hidden = decoder(dec_input, dec_hidden)\n",
    "\n",
    "        # storing the attention weights to plot later on\n",
    "        predicted_id = tf.argmax(predictions[0]).numpy()\n",
    "        result += targ_lang.index_word[predicted_id] + ' '\n",
    "\n",
    "        if targ_lang.index_word[predicted_id] == '<end>':\n",
    "            return result, sentence\n",
    "\n",
    "        # the predicted ID is fed back into the model\n",
    "        dec_input = tf.expand_dims([predicted_id], 0)\n",
    "\n",
    "    return result, sentence"
   ]
  },
  {
   "cell_type": "code",
   "execution_count": 29,
   "metadata": {
    "id": "sl9zUHzg3jGI"
   },
   "outputs": [],
   "source": [
    "def translate(sentence):\n",
    "    result, sentence = evaluate(sentence)\n",
    "\n",
    "    print('Input: %s' % (sentence))\n",
    "    print('Predicted translation: {}'.format(result))"
   ]
  },
  {
   "cell_type": "markdown",
   "metadata": {
    "id": "n250XbnjOaqP"
   },
   "source": [
    "## Restore the latest checkpoint and test"
   ]
  },
  {
   "cell_type": "code",
   "execution_count": 30,
   "metadata": {
    "colab": {
     "base_uri": "https://localhost:8080/"
    },
    "id": "UJpT9D5_OgP6",
    "outputId": "d65a0803-025f-4810-f49d-4f71e4944528"
   },
   "outputs": [
    {
     "data": {
      "text/plain": [
       "<tensorflow.python.training.tracking.util.CheckpointLoadStatus at 0x1ad74636e80>"
      ]
     },
     "execution_count": 30,
     "metadata": {},
     "output_type": "execute_result"
    }
   ],
   "source": [
    "# restoring the latest checkpoint in checkpoint_dir\n",
    "checkpoint.restore(tf.train.latest_checkpoint(checkpoint_dir))"
   ]
  },
  {
   "cell_type": "code",
   "execution_count": 64,
   "metadata": {
    "colab": {
     "base_uri": "https://localhost:8080/"
    },
    "id": "WrAM0FDomq3E",
    "outputId": "143e39a1-fa22-4635-e852-5e641ed0a086"
   },
   "outputs": [
    {
     "name": "stdout",
     "output_type": "stream",
     "text": [
      "Input: <start> ne jamais dire jamais . <end>\n",
      "Predicted translation: never say never . <end> \n"
     ]
    }
   ],
   "source": [
    "translate('ne jamais dire jamais.')"
   ]
  },
  {
   "cell_type": "code",
   "execution_count": 65,
   "metadata": {
    "colab": {
     "base_uri": "https://localhost:8080/"
    },
    "id": "5bhFfwcIMX5i",
    "outputId": "5cf5d1a2-0e5e-44e9-89c3-ed89fed9c7df"
   },
   "outputs": [
    {
     "name": "stdout",
     "output_type": "stream",
     "text": [
      "Input: <start> o habites tu <end>\n",
      "Predicted translation: where do you live ? <end> \n"
     ]
    }
   ],
   "source": [
    "translate('où habites tu')"
   ]
  },
  {
   "cell_type": "code",
   "execution_count": 66,
   "metadata": {
    "colab": {
     "base_uri": "https://localhost:8080/"
    },
    "id": "zSx2iM36EZQZ",
    "outputId": "d4cfe232-ef0b-4ab4-a0b2-110733aaa36c"
   },
   "outputs": [
    {
     "name": "stdout",
     "output_type": "stream",
     "text": [
      "Input: <start> comment venir paris ? <end>\n",
      "Predicted translation: how was your trip ? <end> \n"
     ]
    }
   ],
   "source": [
    "translate('comment venir à paris ?')"
   ]
  },
  {
   "cell_type": "code",
   "execution_count": 67,
   "metadata": {
    "colab": {
     "base_uri": "https://localhost:8080/"
    },
    "id": "A3LLCx3ZE0Ls",
    "outputId": "b64aa087-8232-474e-e3c7-98c186081845"
   },
   "outputs": [
    {
     "name": "stdout",
     "output_type": "stream",
     "text": [
      "Input: <start> essaye de le faire . <end>\n",
      "Predicted translation: try to do that . <end> \n"
     ]
    }
   ],
   "source": [
    "translate(u'essaye de le faire.')"
   ]
  },
  {
   "cell_type": "code",
   "execution_count": 68,
   "metadata": {
    "colab": {
     "base_uri": "https://localhost:8080/"
    },
    "id": "DUQVLVqUE1YW",
    "outputId": "b13a0911-5243-463c-ac2b-5381fe027c51"
   },
   "outputs": [
    {
     "name": "stdout",
     "output_type": "stream",
     "text": [
      "Input: <start> comment se rendre au magasin <end>\n",
      "Predicted translation: how i was the movie ? <end> \n"
     ]
    }
   ],
   "source": [
    "translate(u'comment se rendre au magasin')"
   ]
  },
  {
   "cell_type": "code",
   "execution_count": 69,
   "metadata": {
    "colab": {
     "base_uri": "https://localhost:8080/"
    },
    "id": "f09_hUFx9EJh",
    "outputId": "c23aaff7-a432-45f3-f15e-4cfa2b5d74a7"
   },
   "outputs": [
    {
     "name": "stdout",
     "output_type": "stream",
     "text": [
      "Input: <start> combien a co te ? <end>\n",
      "Predicted translation: how much is it ? <end> \n"
     ]
    }
   ],
   "source": [
    "translate(u'combien ça coûte?')"
   ]
  },
  {
   "cell_type": "code",
   "execution_count": 70,
   "metadata": {
    "colab": {
     "base_uri": "https://localhost:8080/"
    },
    "id": "e7c5p8rmkHQG",
    "outputId": "d4682d71-f778-41f5-e4a9-2e1235976123"
   },
   "outputs": [
    {
     "name": "stdout",
     "output_type": "stream",
     "text": [
      "Input: <start> j aime quand il neige . <end>\n",
      "Predicted translation: i like it when it s snowing . <end> \n"
     ]
    }
   ],
   "source": [
    "translate(u\"j'aime quand il neige.\")"
   ]
  },
  {
   "cell_type": "code",
   "execution_count": null,
   "metadata": {
    "id": "jdXES85KkTVS"
   },
   "outputs": [],
   "source": []
  }
 ],
 "metadata": {
  "accelerator": "GPU",
  "colab": {
   "collapsed_sections": [],
   "name": "nmt.ipynb",
   "provenance": [],
   "toc_visible": true
  },
  "kernelspec": {
   "display_name": "Python 3",
   "language": "python",
   "name": "python3"
  },
  "language_info": {
   "codemirror_mode": {
    "name": "ipython",
    "version": 3
   },
   "file_extension": ".py",
   "mimetype": "text/x-python",
   "name": "python",
   "nbconvert_exporter": "python",
   "pygments_lexer": "ipython3",
   "version": "3.8.6"
  }
 },
 "nbformat": 4,
 "nbformat_minor": 1
}
