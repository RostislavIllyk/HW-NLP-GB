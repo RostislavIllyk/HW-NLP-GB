{
 "cells": [
  {
   "cell_type": "markdown",
   "metadata": {
    "id": "s_qNSzzyaCbD"
   },
   "source": [
    "##### Copyright 2019 The TensorFlow Authors."
   ]
  },
  {
   "cell_type": "code",
   "execution_count": 1,
   "metadata": {
    "cellView": "form",
    "id": "jmjh290raIky"
   },
   "outputs": [],
   "source": [
    "#@title Licensed under the Apache License, Version 2.0 (the \"License\");\n",
    "# you may not use this file except in compliance with the License.\n",
    "# You may obtain a copy of the License at\n",
    "#\n",
    "# https://www.apache.org/licenses/LICENSE-2.0\n",
    "#\n",
    "# Unless required by applicable law or agreed to in writing, software\n",
    "# distributed under the License is distributed on an \"AS IS\" BASIS,\n",
    "# WITHOUT WARRANTIES OR CONDITIONS OF ANY KIND, either express or implied.\n",
    "# See the License for the specific language governing permissions and\n",
    "# limitations under the License."
   ]
  },
  {
   "cell_type": "markdown",
   "metadata": {
    "id": "J0Qjg6vuaHNt"
   },
   "source": [
    "# Neural machine translation with attention"
   ]
  },
  {
   "cell_type": "markdown",
   "metadata": {
    "id": "CiwtNgENbx2g"
   },
   "source": [
    "This notebook trains a sequence to sequence (seq2seq) model for Spanish to English translation. This is an advanced example that assumes some knowledge of sequence to sequence models.\n",
    "\n",
    "After training the model in this notebook, you will be able to input a Spanish sentence, such as *\"¿todavia estan en casa?\"*, and return the English translation: *\"are you still at home?\"*\n",
    "\n",
    "The translation quality is reasonable for a toy example, but the generated attention plot is perhaps more interesting. This shows which parts of the input sentence has the model's attention while translating:\n",
    "\n",
    "<img src=\"https://tensorflow.org/images/spanish-english.png\" alt=\"spanish-english attention plot\">\n",
    "\n",
    "Note: This example takes approximately 10 minutes to run on a single P100 GPU."
   ]
  },
  {
   "cell_type": "code",
   "execution_count": 2,
   "metadata": {
    "id": "tnxXKDjq3jEL"
   },
   "outputs": [],
   "source": [
    "import tensorflow as tf\n",
    "\n",
    "import matplotlib.pyplot as plt\n",
    "import matplotlib.ticker as ticker\n",
    "from sklearn.model_selection import train_test_split\n",
    "\n",
    "import unicodedata\n",
    "import re\n",
    "import numpy as np\n",
    "import os\n",
    "import io\n",
    "import time"
   ]
  },
  {
   "cell_type": "markdown",
   "metadata": {
    "id": "wfodePkj3jEa"
   },
   "source": [
    "## Download and prepare the dataset\n",
    "\n",
    "We'll use a language dataset provided by http://www.manythings.org/anki/. This dataset contains language translation pairs in the format:\n",
    "\n",
    "```\n",
    "May I borrow this book?\t¿Puedo tomar prestado este libro?\n",
    "```\n",
    "\n",
    "There are a variety of languages available, but we'll use the English-Spanish dataset. For convenience, we've hosted a copy of this dataset on Google Cloud, but you can also download your own copy. After downloading the dataset, here are the steps we'll take to prepare the data:\n",
    "\n",
    "1. Add a *start* and *end* token to each sentence.\n",
    "2. Clean the sentences by removing special characters.\n",
    "3. Create a word index and reverse word index (dictionaries mapping from word → id and id → word).\n",
    "4. Pad each sentence to a maximum length."
   ]
  },
  {
   "cell_type": "code",
   "execution_count": 3,
   "metadata": {
    "id": "kRVATYOgJs1b"
   },
   "outputs": [],
   "source": [
    "# Download the file\n",
    "#path_to_zip = tf.keras.utils.get_file(\n",
    "#    'spa-eng.zip', origin='http://storage.googleapis.com/download.tensorflow.org/data/spa-eng.zip',\n",
    "#    extract=True)\n",
    "\n",
    "path_to_file = \"./content/rus-eng/rus.txt\""
   ]
  },
  {
   "cell_type": "code",
   "execution_count": 4,
   "metadata": {
    "id": "rd0jw-eC3jEh"
   },
   "outputs": [],
   "source": [
    "def preprocess_sentence(w):\n",
    "    w = w.lower().strip()\n",
    "\n",
    "    # creating a space between a word and the punctuation following it\n",
    "    # eg: \"he is a boy.\" => \"he is a boy .\"\n",
    "    # Reference:- https://stackoverflow.com/questions/3645931/python-padding-punctuation-with-white-spaces-keeping-punctuation\n",
    "    w = re.sub(r\"([?.!,])\", r\" \\1 \", w)\n",
    "    w = re.sub(r'[\" \"]+', \" \", w)\n",
    "\n",
    "    # replacing everything with space except (a-z, A-Z, \".\", \"?\", \"!\", \",\")\n",
    "    w = re.sub(r\"[^a-zA-Zа-яА-Я?.!,']+\", \" \", w)\n",
    "\n",
    "    w = w.strip()\n",
    "\n",
    "    # adding a start and an end token to the sentence\n",
    "    # so that the model know when to start and stop predicting.\n",
    "    w = '<start> ' + w + ' <end>'\n",
    "    return w"
   ]
  },
  {
   "cell_type": "code",
   "execution_count": 5,
   "metadata": {
    "id": "opI2GzOt479E"
   },
   "outputs": [
    {
     "data": {
      "text/plain": [
       "\"<start> i can't go . <end>\""
      ]
     },
     "execution_count": 5,
     "metadata": {},
     "output_type": "execute_result"
    }
   ],
   "source": [
    "preprocess_sentence(\"I can't go.\")"
   ]
  },
  {
   "cell_type": "code",
   "execution_count": 6,
   "metadata": {
    "id": "OHn4Dct23jEm"
   },
   "outputs": [],
   "source": [
    "# 1. Remove the accents\n",
    "# 2. Clean the sentences\n",
    "# 3. Return word pairs in the format: [ENGLISH, SPANISH]\n",
    "def create_dataset(path, num_examples):\n",
    "    lines = io.open(path, encoding='UTF-8').read().strip().split('\\n')\n",
    "\n",
    "    word_pairs = [[preprocess_sentence(w) for w in l.split('\\t')[:2]]  for l in lines[:num_examples]]\n",
    "\n",
    "    return zip(*word_pairs)"
   ]
  },
  {
   "cell_type": "code",
   "execution_count": 7,
   "metadata": {
    "id": "cTbSbBz55QtF"
   },
   "outputs": [
    {
     "name": "stdout",
     "output_type": "stream",
     "text": [
      "<start> doubtless there exists in this world precisely the right woman for any given man to marry and vice versa but when you consider that a human being has the opportunity of being acquainted with only a few hundred people , and out of the few hundred that there are but a dozen or less whom he knows intimately , and out of the dozen , one or two friends at most , it will easily be seen , when we remember the number of millions who inhabit this world , that probably , since the earth was created , the right man has never yet met the right woman . <end>\n",
      "<start> несомненно , для каждого мужчины в этом мире где то есть подходящая женщина , которая может стать ему женой , обратное верно и для женщин . но если учесть , что у человека может быть максимум несколько сотен знакомых , из которых лишь дюжина , а то и меньше , тех , кого он знает близко , а из этой дюжины у него один или от силы два друга , то можно легко увидеть , что с уч том миллионов живущих на земле людей , ни один подходящий мужчина , возможно , ещ не встретил подходящую женщину . <end>\n"
     ]
    }
   ],
   "source": [
    "en, ru = create_dataset(path_to_file, None)\n",
    "print(en[-1])\n",
    "print(ru[-1])"
   ]
  },
  {
   "cell_type": "code",
   "execution_count": 8,
   "metadata": {
    "id": "bIOn8RCNDJXG"
   },
   "outputs": [],
   "source": [
    "def tokenize(lang):\n",
    "    lang_tokenizer = tf.keras.preprocessing.text.Tokenizer(\n",
    "      filters='')\n",
    "    lang_tokenizer.fit_on_texts(lang)\n",
    "\n",
    "    tensor = lang_tokenizer.texts_to_sequences(lang)\n",
    "\n",
    "    tensor = tf.keras.preprocessing.sequence.pad_sequences(tensor,\n",
    "                                                         padding='post')\n",
    "\n",
    "    return tensor, lang_tokenizer"
   ]
  },
  {
   "cell_type": "code",
   "execution_count": 9,
   "metadata": {
    "id": "eAY9k49G3jE_"
   },
   "outputs": [],
   "source": [
    "def load_dataset(path, num_examples=None):\n",
    "    # creating cleaned input, output pairs\n",
    "    targ_lang, inp_lang = create_dataset(path, num_examples)\n",
    "\n",
    "    input_tensor, inp_lang_tokenizer = tokenize(inp_lang)\n",
    "    target_tensor, targ_lang_tokenizer = tokenize(targ_lang)\n",
    "\n",
    "    return input_tensor, target_tensor, inp_lang_tokenizer, targ_lang_tokenizer"
   ]
  },
  {
   "cell_type": "markdown",
   "metadata": {
    "id": "GOi42V79Ydlr"
   },
   "source": [
    "### Limit the size of the dataset to experiment faster (optional)\n",
    "\n",
    "Training on the complete dataset of >100,000 sentences will take a long time. To train faster, we can limit the size of the dataset to 30,000 sentences (of course, translation quality degrades with less data):"
   ]
  },
  {
   "cell_type": "code",
   "execution_count": 10,
   "metadata": {},
   "outputs": [
    {
     "data": {
      "text/plain": [
       "(429117, 429117)"
      ]
     },
     "execution_count": 10,
     "metadata": {},
     "output_type": "execute_result"
    }
   ],
   "source": [
    "len(en), len(ru)"
   ]
  },
  {
   "cell_type": "code",
   "execution_count": 11,
   "metadata": {
    "id": "cnxC7q-j3jFD"
   },
   "outputs": [],
   "source": [
    "# Try experimenting with the size of that dataset\n",
    "num_examples = 100000\n",
    "input_tensor, target_tensor, inp_lang, targ_lang = load_dataset(path_to_file, num_examples)\n",
    "\n",
    "# Calculate max_length of the target tensors\n",
    "max_length_targ, max_length_inp = target_tensor.shape[1], input_tensor.shape[1]"
   ]
  },
  {
   "cell_type": "code",
   "execution_count": 12,
   "metadata": {
    "id": "4QILQkOs3jFG"
   },
   "outputs": [
    {
     "name": "stdout",
     "output_type": "stream",
     "text": [
      "80000 80000 20000 20000\n"
     ]
    }
   ],
   "source": [
    "# Creating training and validation sets using an 80-20 split\n",
    "input_tensor_train, input_tensor_val, target_tensor_train, target_tensor_val = train_test_split(input_tensor, target_tensor, test_size=0.2)\n",
    "\n",
    "# Show length\n",
    "print(len(input_tensor_train), len(target_tensor_train), len(input_tensor_val), len(target_tensor_val))"
   ]
  },
  {
   "cell_type": "code",
   "execution_count": 13,
   "metadata": {
    "id": "lJPmLZGMeD5q"
   },
   "outputs": [],
   "source": [
    "def convert(lang, tensor):\n",
    "    for t in tensor:\n",
    "        if t!=0:\n",
    "            print(\"%d ----> %s\" % (t, lang.index_word[t]))"
   ]
  },
  {
   "cell_type": "code",
   "execution_count": 14,
   "metadata": {
    "id": "VXukARTDd7MT"
   },
   "outputs": [
    {
     "name": "stdout",
     "output_type": "stream",
     "text": [
      "Input Language; index to word mapping\n",
      "1 ----> <start>\n",
      "13 ----> мы\n",
      "7 ----> не\n",
      "188 ----> ид\n",
      "65 ----> м\n",
      "3 ----> .\n",
      "2 ----> <end>\n",
      "\n",
      "Target Language; index to word mapping\n",
      "1 ----> <start>\n",
      "64 ----> we're\n",
      "32 ----> not\n",
      "119 ----> going\n",
      "3 ----> .\n",
      "2 ----> <end>\n"
     ]
    }
   ],
   "source": [
    "print (\"Input Language; index to word mapping\")\n",
    "convert(inp_lang, input_tensor_train[0])\n",
    "print ()\n",
    "print (\"Target Language; index to word mapping\")\n",
    "convert(targ_lang, target_tensor_train[0])"
   ]
  },
  {
   "cell_type": "markdown",
   "metadata": {
    "id": "rgCLkfv5uO3d"
   },
   "source": [
    "### Create a tf.data dataset"
   ]
  },
  {
   "cell_type": "code",
   "execution_count": 15,
   "metadata": {
    "id": "TqHsArVZ3jFS"
   },
   "outputs": [],
   "source": [
    "BUFFER_SIZE = len(input_tensor_train)\n",
    "BATCH_SIZE = 64\n",
    "steps_per_epoch = len(input_tensor_train)//BATCH_SIZE\n",
    "embedding_dim = 256\n",
    "units = 1024\n",
    "vocab_inp_size = len(inp_lang.word_index)+1\n",
    "vocab_tar_size = len(targ_lang.word_index)+1\n",
    "\n",
    "dataset = tf.data.Dataset.from_tensor_slices((input_tensor_train, target_tensor_train)).shuffle(BUFFER_SIZE)\n",
    "dataset = dataset.batch(BATCH_SIZE, drop_remainder=True)"
   ]
  },
  {
   "cell_type": "code",
   "execution_count": 16,
   "metadata": {
    "id": "qc6-NK1GtWQt"
   },
   "outputs": [
    {
     "data": {
      "text/plain": [
       "(TensorShape([64, 15]), TensorShape([64, 11]))"
      ]
     },
     "execution_count": 16,
     "metadata": {},
     "output_type": "execute_result"
    }
   ],
   "source": [
    "example_input_batch, example_target_batch = next(iter(dataset))\n",
    "example_input_batch.shape, example_target_batch.shape"
   ]
  },
  {
   "cell_type": "markdown",
   "metadata": {
    "id": "TNfHIF71ulLu"
   },
   "source": [
    "## Write the encoder and decoder model\n",
    "\n",
    "Implement an encoder-decoder model with attention which you can read about in the TensorFlow [Neural Machine Translation (seq2seq) tutorial](https://github.com/tensorflow/nmt). This example uses a more recent set of APIs. This notebook implements the [attention equations](https://github.com/tensorflow/nmt#background-on-the-attention-mechanism) from the seq2seq tutorial. The following diagram shows that each input words is assigned a weight by the attention mechanism which is then used by the decoder to predict the next word in the sentence. The below picture and formulas are an example of attention mechanism from [Luong's paper](https://arxiv.org/abs/1508.04025v5). \n",
    "\n",
    "<img src=\"https://www.tensorflow.org/images/seq2seq/attention_mechanism.jpg\" width=\"500\" alt=\"attention mechanism\">\n",
    "\n",
    "The input is put through an encoder model which gives us the encoder output of shape *(batch_size, max_length, hidden_size)* and the encoder hidden state of shape *(batch_size, hidden_size)*.\n",
    "\n",
    "Here are the equations that are implemented:\n",
    "\n",
    "<img src=\"https://www.tensorflow.org/images/seq2seq/attention_equation_0.jpg\" alt=\"attention equation 0\" width=\"800\">\n",
    "<img src=\"https://www.tensorflow.org/images/seq2seq/attention_equation_1.jpg\" alt=\"attention equation 1\" width=\"800\">\n",
    "\n",
    "This tutorial uses [Bahdanau attention](https://arxiv.org/pdf/1409.0473.pdf) for the encoder. Let's decide on notation before writing the simplified form:\n",
    "\n",
    "* FC = Fully connected (dense) layer\n",
    "* EO = Encoder output\n",
    "* H = hidden state\n",
    "* X = input to the decoder\n",
    "\n",
    "And the pseudo-code:\n",
    "\n",
    "* `score = FC(tanh(FC(EO) + FC(H)))`\n",
    "* `attention weights = softmax(score, axis = 1)`. Softmax by default is applied on the last axis but here we want to apply it on the *1st axis*, since the shape of score is *(batch_size, max_length, hidden_size)*. `Max_length` is the length of our input. Since we are trying to assign a weight to each input, softmax should be applied on that axis.\n",
    "* `context vector = sum(attention weights * EO, axis = 1)`. Same reason as above for choosing axis as 1.\n",
    "* `embedding output` = The input to the decoder X is passed through an embedding layer.\n",
    "* `merged vector = concat(embedding output, context vector)`\n",
    "* This merged vector is then given to the GRU\n",
    "\n",
    "The shapes of all the vectors at each step have been specified in the comments in the code:"
   ]
  },
  {
   "cell_type": "code",
   "execution_count": 17,
   "metadata": {
    "id": "nZ2rI24i3jFg"
   },
   "outputs": [],
   "source": [
    "class Encoder(tf.keras.Model):\n",
    "    def __init__(self, vocab_size, embedding_dim, enc_units, batch_sz):\n",
    "        super(Encoder, self).__init__()\n",
    "        self.batch_sz = batch_sz\n",
    "        self.enc_units = enc_units\n",
    "        self.embedding = tf.keras.layers.Embedding(vocab_size, embedding_dim)\n",
    "        self.gru = tf.keras.layers.GRU(self.enc_units,\n",
    "                                       return_sequences=True,\n",
    "                                       return_state=True,\n",
    "                                       recurrent_initializer='glorot_uniform')\n",
    "\n",
    "    def call(self, x, hidden):\n",
    "        x = self.embedding(x)\n",
    "        output, state = self.gru(x, initial_state = hidden)\n",
    "        return output, state\n",
    "\n",
    "    def initialize_hidden_state(self):\n",
    "        return tf.zeros((self.batch_sz, self.enc_units))"
   ]
  },
  {
   "cell_type": "code",
   "execution_count": 18,
   "metadata": {
    "id": "60gSVh05Jl6l"
   },
   "outputs": [
    {
     "name": "stdout",
     "output_type": "stream",
     "text": [
      "Encoder output shape: (batch size, sequence length, units) (64, 15, 1024)\n",
      "Encoder Hidden state shape: (batch size, units) (64, 1024)\n"
     ]
    }
   ],
   "source": [
    "encoder = Encoder(vocab_inp_size, embedding_dim, units, BATCH_SIZE)\n",
    "\n",
    "# sample input\n",
    "sample_hidden = encoder.initialize_hidden_state()\n",
    "sample_output, sample_hidden = encoder(example_input_batch, sample_hidden)\n",
    "print ('Encoder output shape: (batch size, sequence length, units) {}'.format(sample_output.shape))\n",
    "print ('Encoder Hidden state shape: (batch size, units) {}'.format(sample_hidden.shape))"
   ]
  },
  {
   "cell_type": "code",
   "execution_count": 19,
   "metadata": {
    "id": "umohpBN2OM94"
   },
   "outputs": [],
   "source": [
    "class BahdanauAttention(tf.keras.layers.Layer):\n",
    "    def __init__(self, units):\n",
    "        super(BahdanauAttention, self).__init__()\n",
    "        self.W1 = tf.keras.layers.Dense(units)\n",
    "        self.W2 = tf.keras.layers.Dense(units)\n",
    "        self.V = tf.keras.layers.Dense(1)\n",
    "\n",
    "    def call(self, query, values):\n",
    "        # query hidden state shape == (batch_size, hidden size)\n",
    "        # query_with_time_axis shape == (batch_size, 1, hidden size)\n",
    "        # values shape == (batch_size, max_len, hidden size)\n",
    "        # we are doing this to broadcast addition along the time axis to calculate the score\n",
    "        query_with_time_axis = tf.expand_dims(query, 1)\n",
    "\n",
    "        # score shape == (batch_size, max_length, 1)\n",
    "        # we get 1 at the last axis because we are applying score to self.V\n",
    "        # the shape of the tensor before applying self.V is (batch_size, max_length, units)\n",
    "        score = self.V(tf.nn.tanh(\n",
    "            self.W1(query_with_time_axis) + self.W2(values)))\n",
    "\n",
    "        # attention_weights shape == (batch_size, max_length, 1)\n",
    "        attention_weights = tf.nn.softmax(score, axis=1)\n",
    "\n",
    "        # context_vector shape after sum == (batch_size, hidden_size)\n",
    "        context_vector = attention_weights * values\n",
    "        context_vector = tf.reduce_sum(context_vector, axis=1)\n",
    "\n",
    "        return context_vector, attention_weights"
   ]
  },
  {
   "cell_type": "code",
   "execution_count": 20,
   "metadata": {
    "id": "k534zTHiDjQU"
   },
   "outputs": [
    {
     "name": "stdout",
     "output_type": "stream",
     "text": [
      "Attention result shape: (batch size, units) (64, 1024)\n",
      "Attention weights shape: (batch_size, sequence_length, 1) (64, 15, 1)\n"
     ]
    }
   ],
   "source": [
    "attention_layer = BahdanauAttention(10)\n",
    "attention_result, attention_weights = attention_layer(sample_hidden, sample_output)\n",
    "\n",
    "print(\"Attention result shape: (batch size, units) {}\".format(attention_result.shape))\n",
    "print(\"Attention weights shape: (batch_size, sequence_length, 1) {}\".format(attention_weights.shape))"
   ]
  },
  {
   "cell_type": "code",
   "execution_count": 21,
   "metadata": {
    "id": "yJ_B3mhW3jFk"
   },
   "outputs": [],
   "source": [
    "class Decoder(tf.keras.Model):\n",
    "    def __init__(self, vocab_size, embedding_dim, dec_units, batch_sz):\n",
    "        super(Decoder, self).__init__()\n",
    "        self.batch_sz = batch_sz\n",
    "        self.dec_units = dec_units\n",
    "        self.embedding = tf.keras.layers.Embedding(vocab_size, embedding_dim)\n",
    "        self.gru = tf.keras.layers.GRU(self.dec_units,\n",
    "                                       return_sequences=True,\n",
    "                                       return_state=True,\n",
    "                                       recurrent_initializer='glorot_uniform')\n",
    "        self.fc = tf.keras.layers.Dense(vocab_size)\n",
    "\n",
    "        # used for attention\n",
    "        self.attention = BahdanauAttention(self.dec_units)\n",
    "\n",
    "    def call(self, x, hidden, enc_output):\n",
    "        # enc_output shape == (batch_size, max_length, hidden_size)\n",
    "        context_vector, attention_weights = self.attention(hidden, enc_output)\n",
    "\n",
    "        # x shape after passing through embedding == (batch_size, 1, embedding_dim)\n",
    "        x = self.embedding(x)\n",
    "\n",
    "        # x shape after concatenation == (batch_size, 1, embedding_dim + hidden_size)\n",
    "        x = tf.concat([tf.expand_dims(context_vector, 1), x], axis=-1)\n",
    "\n",
    "        # passing the concatenated vector to the GRU\n",
    "        output, state = self.gru(x)\n",
    "\n",
    "        # output shape == (batch_size * 1, hidden_size)\n",
    "        output = tf.reshape(output, (-1, output.shape[2]))\n",
    "\n",
    "        # output shape == (batch_size, vocab)\n",
    "        x = self.fc(output)\n",
    "\n",
    "        return x, state, attention_weights"
   ]
  },
  {
   "cell_type": "code",
   "execution_count": 22,
   "metadata": {
    "id": "P5UY8wko3jFp"
   },
   "outputs": [
    {
     "name": "stdout",
     "output_type": "stream",
     "text": [
      "Decoder output shape: (batch_size, vocab size) (64, 7227)\n"
     ]
    }
   ],
   "source": [
    "decoder = Decoder(vocab_tar_size, embedding_dim, units, BATCH_SIZE)\n",
    "\n",
    "sample_decoder_output, _, _ = decoder(tf.random.uniform((BATCH_SIZE, 1)),\n",
    "                                      sample_hidden, sample_output)\n",
    "\n",
    "print ('Decoder output shape: (batch_size, vocab size) {}'.format(sample_decoder_output.shape))"
   ]
  },
  {
   "cell_type": "markdown",
   "metadata": {
    "id": "_ch_71VbIRfK"
   },
   "source": [
    "## Define the optimizer and the loss function"
   ]
  },
  {
   "cell_type": "code",
   "execution_count": 23,
   "metadata": {
    "id": "WmTHr5iV3jFr"
   },
   "outputs": [],
   "source": [
    "optimizer = tf.keras.optimizers.Adam()\n",
    "loss_object = tf.keras.losses.SparseCategoricalCrossentropy(\n",
    "    from_logits=True, reduction='none')\n",
    "\n",
    "def loss_function(real, pred):\n",
    "    mask = tf.math.logical_not(tf.math.equal(real, 0))\n",
    "    loss_ = loss_object(real, pred)\n",
    "\n",
    "    mask = tf.cast(mask, dtype=loss_.dtype)\n",
    "    loss_ *= mask\n",
    "\n",
    "    return tf.reduce_mean(loss_)"
   ]
  },
  {
   "cell_type": "markdown",
   "metadata": {
    "id": "DMVWzzsfNl4e"
   },
   "source": [
    "## Checkpoints (Object-based saving)"
   ]
  },
  {
   "cell_type": "code",
   "execution_count": 24,
   "metadata": {
    "id": "Zj8bXQTgNwrF"
   },
   "outputs": [],
   "source": [
    "checkpoint_dir = './training_checkpoints'\n",
    "checkpoint_prefix = os.path.join(checkpoint_dir, \"ckpt\")\n",
    "checkpoint = tf.train.Checkpoint(optimizer=optimizer,\n",
    "                                 encoder=encoder,\n",
    "                                 decoder=decoder)"
   ]
  },
  {
   "cell_type": "markdown",
   "metadata": {
    "id": "hpObfY22IddU"
   },
   "source": [
    "## Training\n",
    "\n",
    "1. Pass the *input* through the *encoder* which return *encoder output* and the *encoder hidden state*.\n",
    "2. The encoder output, encoder hidden state and the decoder input (which is the *start token*) is passed to the decoder.\n",
    "3. The decoder returns the *predictions* and the *decoder hidden state*.\n",
    "4. The decoder hidden state is then passed back into the model and the predictions are used to calculate the loss.\n",
    "5. Use *teacher forcing* to decide the next input to the decoder.\n",
    "6. *Teacher forcing* is the technique where the *target word* is passed as the *next input* to the decoder.\n",
    "7. The final step is to calculate the gradients and apply it to the optimizer and backpropagate."
   ]
  },
  {
   "cell_type": "code",
   "execution_count": 25,
   "metadata": {
    "id": "sC9ArXSsVfqn"
   },
   "outputs": [],
   "source": [
    "@tf.function\n",
    "def train_step(inp, targ, enc_hidden):\n",
    "    loss = 0\n",
    "\n",
    "    with tf.GradientTape() as tape:\n",
    "        enc_output, enc_hidden = encoder(inp, enc_hidden)\n",
    "\n",
    "        dec_hidden = enc_hidden\n",
    "\n",
    "        dec_input = tf.expand_dims([targ_lang.word_index['<start>']] * BATCH_SIZE, 1)\n",
    "\n",
    "        # Teacher forcing - feeding the target as the next input\n",
    "        for t in range(1, targ.shape[1]):\n",
    "            # passing enc_output to the decoder\n",
    "            predictions, dec_hidden, _ = decoder(dec_input, dec_hidden, enc_output)\n",
    "\n",
    "            loss += loss_function(targ[:, t], predictions)\n",
    "\n",
    "            # using teacher forcing\n",
    "            dec_input = tf.expand_dims(targ[:, t], 1)\n",
    "\n",
    "    batch_loss = (loss / int(targ.shape[1]))\n",
    "\n",
    "    variables = encoder.trainable_variables + decoder.trainable_variables\n",
    "\n",
    "    gradients = tape.gradient(loss, variables)\n",
    "\n",
    "    optimizer.apply_gradients(zip(gradients, variables))\n",
    "\n",
    "    return batch_loss"
   ]
  },
  {
   "cell_type": "code",
   "execution_count": 26,
   "metadata": {
    "id": "ddefjBMa3jF0",
    "scrolled": false
   },
   "outputs": [
    {
     "name": "stdout",
     "output_type": "stream",
     "text": [
      "Epoch 1 Batch 0 Loss 4.6825\n",
      "Epoch 1 Batch 100 Loss 2.2722\n",
      "Epoch 1 Batch 200 Loss 1.7848\n",
      "Epoch 1 Batch 300 Loss 1.8275\n",
      "Epoch 1 Batch 400 Loss 1.5944\n",
      "Epoch 1 Batch 500 Loss 1.5308\n",
      "Epoch 1 Batch 600 Loss 1.4394\n",
      "Epoch 1 Batch 700 Loss 1.3244\n",
      "Epoch 1 Batch 800 Loss 1.1989\n",
      "Epoch 1 Batch 900 Loss 1.1798\n",
      "Epoch 1 Batch 1000 Loss 1.0109\n",
      "Epoch 1 Batch 1100 Loss 1.0156\n",
      "Epoch 1 Batch 1200 Loss 0.8838\n",
      "Epoch 1 Loss 1.4902\n",
      "Time taken for 1 epoch 139.15429759025574 sec\n",
      "\n",
      "Epoch 2 Batch 0 Loss 0.9252\n",
      "Epoch 2 Batch 100 Loss 0.8057\n",
      "Epoch 2 Batch 200 Loss 0.8221\n",
      "Epoch 2 Batch 300 Loss 0.6990\n",
      "Epoch 2 Batch 400 Loss 0.7847\n",
      "Epoch 2 Batch 500 Loss 0.6920\n",
      "Epoch 2 Batch 600 Loss 0.6510\n",
      "Epoch 2 Batch 700 Loss 0.6614\n",
      "Epoch 2 Batch 800 Loss 0.6569\n",
      "Epoch 2 Batch 900 Loss 0.5156\n",
      "Epoch 2 Batch 1000 Loss 0.5602\n",
      "Epoch 2 Batch 1100 Loss 0.5029\n",
      "Epoch 2 Batch 1200 Loss 0.4262\n",
      "Epoch 2 Loss 0.6346\n",
      "Time taken for 1 epoch 131.1961784362793 sec\n",
      "\n",
      "Epoch 3 Batch 0 Loss 0.3518\n",
      "Epoch 3 Batch 100 Loss 0.3785\n",
      "Epoch 3 Batch 200 Loss 0.3614\n",
      "Epoch 3 Batch 300 Loss 0.3233\n",
      "Epoch 3 Batch 400 Loss 0.4332\n",
      "Epoch 3 Batch 500 Loss 0.3714\n",
      "Epoch 3 Batch 600 Loss 0.3387\n",
      "Epoch 3 Batch 700 Loss 0.3768\n",
      "Epoch 3 Batch 800 Loss 0.3152\n",
      "Epoch 3 Batch 900 Loss 0.3472\n",
      "Epoch 3 Batch 1000 Loss 0.3342\n",
      "Epoch 3 Batch 1100 Loss 0.3090\n",
      "Epoch 3 Batch 1200 Loss 0.3246\n",
      "Epoch 3 Loss 0.3348\n",
      "Time taken for 1 epoch 127.28034090995789 sec\n",
      "\n",
      "Epoch 4 Batch 0 Loss 0.2256\n",
      "Epoch 4 Batch 100 Loss 0.1750\n",
      "Epoch 4 Batch 200 Loss 0.1380\n",
      "Epoch 4 Batch 300 Loss 0.2111\n",
      "Epoch 4 Batch 400 Loss 0.1756\n",
      "Epoch 4 Batch 500 Loss 0.2676\n",
      "Epoch 4 Batch 600 Loss 0.2190\n",
      "Epoch 4 Batch 700 Loss 0.2678\n",
      "Epoch 4 Batch 800 Loss 0.2577\n",
      "Epoch 4 Batch 900 Loss 0.2099\n",
      "Epoch 4 Batch 1000 Loss 0.1742\n",
      "Epoch 4 Batch 1100 Loss 0.1675\n",
      "Epoch 4 Batch 1200 Loss 0.2542\n",
      "Epoch 4 Loss 0.2088\n",
      "Time taken for 1 epoch 133.08023977279663 sec\n",
      "\n",
      "Epoch 5 Batch 0 Loss 0.1095\n",
      "Epoch 5 Batch 100 Loss 0.1462\n",
      "Epoch 5 Batch 200 Loss 0.1106\n",
      "Epoch 5 Batch 300 Loss 0.1441\n",
      "Epoch 5 Batch 400 Loss 0.2013\n",
      "Epoch 5 Batch 500 Loss 0.1382\n",
      "Epoch 5 Batch 600 Loss 0.1124\n",
      "Epoch 5 Batch 700 Loss 0.1624\n",
      "Epoch 5 Batch 800 Loss 0.1707\n",
      "Epoch 5 Batch 900 Loss 0.1484\n",
      "Epoch 5 Batch 1000 Loss 0.1405\n",
      "Epoch 5 Batch 1100 Loss 0.1831\n",
      "Epoch 5 Batch 1200 Loss 0.1819\n",
      "Epoch 5 Loss 0.1487\n",
      "Time taken for 1 epoch 127.67622256278992 sec\n",
      "\n",
      "Epoch 6 Batch 0 Loss 0.0968\n",
      "Epoch 6 Batch 100 Loss 0.1091\n",
      "Epoch 6 Batch 200 Loss 0.1198\n",
      "Epoch 6 Batch 300 Loss 0.0776\n",
      "Epoch 6 Batch 400 Loss 0.1073\n",
      "Epoch 6 Batch 500 Loss 0.1154\n",
      "Epoch 6 Batch 600 Loss 0.0949\n",
      "Epoch 6 Batch 700 Loss 0.1109\n",
      "Epoch 6 Batch 800 Loss 0.1101\n",
      "Epoch 6 Batch 900 Loss 0.1289\n",
      "Epoch 6 Batch 1000 Loss 0.1079\n",
      "Epoch 6 Batch 1100 Loss 0.1551\n",
      "Epoch 6 Batch 1200 Loss 0.1248\n",
      "Epoch 6 Loss 0.1173\n",
      "Time taken for 1 epoch 130.6742787361145 sec\n",
      "\n",
      "Epoch 7 Batch 0 Loss 0.0549\n",
      "Epoch 7 Batch 100 Loss 0.1039\n",
      "Epoch 7 Batch 200 Loss 0.0844\n",
      "Epoch 7 Batch 300 Loss 0.0786\n",
      "Epoch 7 Batch 400 Loss 0.0713\n",
      "Epoch 7 Batch 500 Loss 0.1535\n",
      "Epoch 7 Batch 600 Loss 0.0943\n",
      "Epoch 7 Batch 700 Loss 0.0887\n",
      "Epoch 7 Batch 800 Loss 0.1133\n",
      "Epoch 7 Batch 900 Loss 0.0861\n",
      "Epoch 7 Batch 1000 Loss 0.1060\n",
      "Epoch 7 Batch 1100 Loss 0.1134\n",
      "Epoch 7 Batch 1200 Loss 0.0985\n",
      "Epoch 7 Loss 0.1002\n",
      "Time taken for 1 epoch 127.66279244422913 sec\n",
      "\n",
      "Epoch 8 Batch 0 Loss 0.0824\n",
      "Epoch 8 Batch 100 Loss 0.0561\n",
      "Epoch 8 Batch 200 Loss 0.0656\n",
      "Epoch 8 Batch 300 Loss 0.0660\n",
      "Epoch 8 Batch 400 Loss 0.0717\n",
      "Epoch 8 Batch 500 Loss 0.0886\n",
      "Epoch 8 Batch 600 Loss 0.1018\n",
      "Epoch 8 Batch 700 Loss 0.1167\n",
      "Epoch 8 Batch 800 Loss 0.0969\n",
      "Epoch 8 Batch 900 Loss 0.1161\n",
      "Epoch 8 Batch 1000 Loss 0.1181\n",
      "Epoch 8 Batch 1100 Loss 0.1614\n",
      "Epoch 8 Batch 1200 Loss 0.1071\n",
      "Epoch 8 Loss 0.0891\n",
      "Time taken for 1 epoch 130.30700588226318 sec\n",
      "\n",
      "Epoch 9 Batch 0 Loss 0.0604\n",
      "Epoch 9 Batch 100 Loss 0.0816\n",
      "Epoch 9 Batch 200 Loss 0.0574\n",
      "Epoch 9 Batch 300 Loss 0.0540\n",
      "Epoch 9 Batch 400 Loss 0.0826\n",
      "Epoch 9 Batch 500 Loss 0.0789\n",
      "Epoch 9 Batch 600 Loss 0.0652\n",
      "Epoch 9 Batch 700 Loss 0.1021\n",
      "Epoch 9 Batch 800 Loss 0.1289\n",
      "Epoch 9 Batch 900 Loss 0.1041\n",
      "Epoch 9 Batch 1000 Loss 0.0895\n",
      "Epoch 9 Batch 1100 Loss 0.1075\n",
      "Epoch 9 Batch 1200 Loss 0.0742\n",
      "Epoch 9 Loss 0.0811\n",
      "Time taken for 1 epoch 127.81760096549988 sec\n",
      "\n",
      "Epoch 10 Batch 0 Loss 0.0754\n",
      "Epoch 10 Batch 100 Loss 0.0683\n",
      "Epoch 10 Batch 200 Loss 0.0623\n",
      "Epoch 10 Batch 300 Loss 0.0623\n",
      "Epoch 10 Batch 400 Loss 0.0543\n",
      "Epoch 10 Batch 500 Loss 0.1341\n",
      "Epoch 10 Batch 600 Loss 0.0639\n",
      "Epoch 10 Batch 700 Loss 0.0871\n",
      "Epoch 10 Batch 800 Loss 0.0972\n",
      "Epoch 10 Batch 900 Loss 0.0964\n",
      "Epoch 10 Batch 1000 Loss 0.0836\n",
      "Epoch 10 Batch 1100 Loss 0.0901\n",
      "Epoch 10 Batch 1200 Loss 0.1111\n",
      "Epoch 10 Loss 0.0767\n",
      "Time taken for 1 epoch 131.89367008209229 sec\n",
      "\n",
      "Epoch 11 Batch 0 Loss 0.0547\n",
      "Epoch 11 Batch 100 Loss 0.0699\n",
      "Epoch 11 Batch 200 Loss 0.0663\n",
      "Epoch 11 Batch 300 Loss 0.0628\n",
      "Epoch 11 Batch 400 Loss 0.0720\n",
      "Epoch 11 Batch 500 Loss 0.0688\n",
      "Epoch 11 Batch 600 Loss 0.0557\n",
      "Epoch 11 Batch 700 Loss 0.0647\n",
      "Epoch 11 Batch 800 Loss 0.0652\n",
      "Epoch 11 Batch 900 Loss 0.0737\n",
      "Epoch 11 Batch 1000 Loss 0.0737\n",
      "Epoch 11 Batch 1100 Loss 0.0637\n",
      "Epoch 11 Batch 1200 Loss 0.0959\n",
      "Epoch 11 Loss 0.0719\n",
      "Time taken for 1 epoch 128.78498244285583 sec\n",
      "\n",
      "Epoch 12 Batch 0 Loss 0.0610\n",
      "Epoch 12 Batch 100 Loss 0.0512\n",
      "Epoch 12 Batch 200 Loss 0.0739\n",
      "Epoch 12 Batch 300 Loss 0.0427\n",
      "Epoch 12 Batch 400 Loss 0.0468\n",
      "Epoch 12 Batch 500 Loss 0.0551\n",
      "Epoch 12 Batch 600 Loss 0.0543\n",
      "Epoch 12 Batch 700 Loss 0.0706\n",
      "Epoch 12 Batch 800 Loss 0.1207\n",
      "Epoch 12 Batch 900 Loss 0.0871\n",
      "Epoch 12 Batch 1000 Loss 0.0587\n",
      "Epoch 12 Batch 1100 Loss 0.1143\n",
      "Epoch 12 Batch 1200 Loss 0.0791\n",
      "Epoch 12 Loss 0.0688\n",
      "Time taken for 1 epoch 132.73243618011475 sec\n",
      "\n",
      "Epoch 13 Batch 0 Loss 0.0480\n",
      "Epoch 13 Batch 100 Loss 0.0486\n",
      "Epoch 13 Batch 200 Loss 0.0906\n",
      "Epoch 13 Batch 300 Loss 0.0962\n",
      "Epoch 13 Batch 400 Loss 0.0741\n",
      "Epoch 13 Batch 500 Loss 0.0408\n",
      "Epoch 13 Batch 600 Loss 0.0441\n",
      "Epoch 13 Batch 700 Loss 0.0686\n",
      "Epoch 13 Batch 800 Loss 0.0803\n",
      "Epoch 13 Batch 900 Loss 0.0749\n",
      "Epoch 13 Batch 1000 Loss 0.1074\n",
      "Epoch 13 Batch 1100 Loss 0.1097\n",
      "Epoch 13 Batch 1200 Loss 0.0996\n",
      "Epoch 13 Loss 0.0653\n",
      "Time taken for 1 epoch 128.2735743522644 sec\n",
      "\n",
      "Epoch 14 Batch 0 Loss 0.0709\n",
      "Epoch 14 Batch 100 Loss 0.0604\n",
      "Epoch 14 Batch 200 Loss 0.0290\n",
      "Epoch 14 Batch 300 Loss 0.0474\n",
      "Epoch 14 Batch 400 Loss 0.0622\n",
      "Epoch 14 Batch 500 Loss 0.0521\n",
      "Epoch 14 Batch 600 Loss 0.0280\n",
      "Epoch 14 Batch 700 Loss 0.0467\n",
      "Epoch 14 Batch 800 Loss 0.0605\n",
      "Epoch 14 Batch 900 Loss 0.0555\n",
      "Epoch 14 Batch 1000 Loss 0.0607\n",
      "Epoch 14 Batch 1100 Loss 0.1036\n",
      "Epoch 14 Batch 1200 Loss 0.0697\n",
      "Epoch 14 Loss 0.0632\n",
      "Time taken for 1 epoch 131.47029829025269 sec\n",
      "\n",
      "Epoch 15 Batch 0 Loss 0.0299\n",
      "Epoch 15 Batch 100 Loss 0.0549\n",
      "Epoch 15 Batch 200 Loss 0.0567\n",
      "Epoch 15 Batch 300 Loss 0.0190\n",
      "Epoch 15 Batch 400 Loss 0.0376\n",
      "Epoch 15 Batch 500 Loss 0.0972\n",
      "Epoch 15 Batch 600 Loss 0.0528\n",
      "Epoch 15 Batch 700 Loss 0.0895\n",
      "Epoch 15 Batch 800 Loss 0.0553\n",
      "Epoch 15 Batch 900 Loss 0.0458\n",
      "Epoch 15 Batch 1000 Loss 0.0768\n",
      "Epoch 15 Batch 1100 Loss 0.0598\n",
      "Epoch 15 Batch 1200 Loss 0.0708\n",
      "Epoch 15 Loss 0.0610\n",
      "Time taken for 1 epoch 126.21187663078308 sec\n",
      "\n",
      "Epoch 16 Batch 0 Loss 0.0417\n",
      "Epoch 16 Batch 100 Loss 0.0867\n",
      "Epoch 16 Batch 200 Loss 0.0300\n",
      "Epoch 16 Batch 300 Loss 0.0519\n",
      "Epoch 16 Batch 400 Loss 0.0347\n",
      "Epoch 16 Batch 500 Loss 0.0602\n",
      "Epoch 16 Batch 600 Loss 0.0609\n",
      "Epoch 16 Batch 700 Loss 0.1019\n",
      "Epoch 16 Batch 800 Loss 0.0666\n",
      "Epoch 16 Batch 900 Loss 0.0459\n",
      "Epoch 16 Batch 1000 Loss 0.0828\n",
      "Epoch 16 Batch 1100 Loss 0.0537\n",
      "Epoch 16 Batch 1200 Loss 0.0676\n",
      "Epoch 16 Loss 0.0588\n",
      "Time taken for 1 epoch 131.78264617919922 sec\n",
      "\n",
      "Epoch 17 Batch 0 Loss 0.0615\n",
      "Epoch 17 Batch 100 Loss 0.0344\n",
      "Epoch 17 Batch 200 Loss 0.0322\n",
      "Epoch 17 Batch 300 Loss 0.0576\n",
      "Epoch 17 Batch 400 Loss 0.0633\n",
      "Epoch 17 Batch 500 Loss 0.0574\n",
      "Epoch 17 Batch 600 Loss 0.0277\n",
      "Epoch 17 Batch 700 Loss 0.0584\n",
      "Epoch 17 Batch 800 Loss 0.0354\n",
      "Epoch 17 Batch 900 Loss 0.0726\n",
      "Epoch 17 Batch 1000 Loss 0.0462\n",
      "Epoch 17 Batch 1100 Loss 0.0584\n",
      "Epoch 17 Batch 1200 Loss 0.0716\n",
      "Epoch 17 Loss 0.0571\n",
      "Time taken for 1 epoch 127.16351509094238 sec\n",
      "\n",
      "Epoch 18 Batch 0 Loss 0.0620\n",
      "Epoch 18 Batch 100 Loss 0.0373\n",
      "Epoch 18 Batch 200 Loss 0.0627\n",
      "Epoch 18 Batch 300 Loss 0.0672\n",
      "Epoch 18 Batch 400 Loss 0.0303\n",
      "Epoch 18 Batch 500 Loss 0.0574\n",
      "Epoch 18 Batch 600 Loss 0.0538\n",
      "Epoch 18 Batch 700 Loss 0.0817\n",
      "Epoch 18 Batch 800 Loss 0.0540\n",
      "Epoch 18 Batch 900 Loss 0.0512\n"
     ]
    },
    {
     "name": "stdout",
     "output_type": "stream",
     "text": [
      "Epoch 18 Batch 1000 Loss 0.0716\n",
      "Epoch 18 Batch 1100 Loss 0.0554\n",
      "Epoch 18 Batch 1200 Loss 0.0470\n",
      "Epoch 18 Loss 0.0561\n",
      "Time taken for 1 epoch 133.74405527114868 sec\n",
      "\n",
      "Epoch 19 Batch 0 Loss 0.0295\n",
      "Epoch 19 Batch 100 Loss 0.0376\n",
      "Epoch 19 Batch 200 Loss 0.0258\n",
      "Epoch 19 Batch 300 Loss 0.0478\n",
      "Epoch 19 Batch 400 Loss 0.0495\n",
      "Epoch 19 Batch 500 Loss 0.0499\n",
      "Epoch 19 Batch 600 Loss 0.0251\n",
      "Epoch 19 Batch 700 Loss 0.0332\n",
      "Epoch 19 Batch 800 Loss 0.0382\n",
      "Epoch 19 Batch 900 Loss 0.0318\n",
      "Epoch 19 Batch 1000 Loss 0.0500\n",
      "Epoch 19 Batch 1100 Loss 0.0447\n",
      "Epoch 19 Batch 1200 Loss 0.0930\n",
      "Epoch 19 Loss 0.0548\n",
      "Time taken for 1 epoch 126.76632142066956 sec\n",
      "\n",
      "Epoch 20 Batch 0 Loss 0.0389\n",
      "Epoch 20 Batch 100 Loss 0.0220\n",
      "Epoch 20 Batch 200 Loss 0.0333\n",
      "Epoch 20 Batch 300 Loss 0.0368\n",
      "Epoch 20 Batch 400 Loss 0.0469\n",
      "Epoch 20 Batch 500 Loss 0.0622\n",
      "Epoch 20 Batch 600 Loss 0.0568\n",
      "Epoch 20 Batch 700 Loss 0.0671\n",
      "Epoch 20 Batch 800 Loss 0.0515\n",
      "Epoch 20 Batch 900 Loss 0.0903\n",
      "Epoch 20 Batch 1000 Loss 0.0490\n",
      "Epoch 20 Batch 1100 Loss 0.0549\n",
      "Epoch 20 Batch 1200 Loss 0.0537\n",
      "Epoch 20 Loss 0.0532\n",
      "Time taken for 1 epoch 130.45567893981934 sec\n",
      "\n",
      "Epoch 21 Batch 0 Loss 0.0485\n",
      "Epoch 21 Batch 100 Loss 0.0345\n",
      "Epoch 21 Batch 200 Loss 0.0584\n",
      "Epoch 21 Batch 300 Loss 0.0209\n",
      "Epoch 21 Batch 400 Loss 0.0477\n",
      "Epoch 21 Batch 500 Loss 0.0492\n",
      "Epoch 21 Batch 600 Loss 0.0464\n",
      "Epoch 21 Batch 700 Loss 0.0482\n",
      "Epoch 21 Batch 800 Loss 0.0850\n",
      "Epoch 21 Batch 900 Loss 0.0302\n",
      "Epoch 21 Batch 1000 Loss 0.0826\n",
      "Epoch 21 Batch 1100 Loss 0.0549\n",
      "Epoch 21 Batch 1200 Loss 0.0353\n",
      "Epoch 21 Loss 0.0520\n",
      "Time taken for 1 epoch 127.47274827957153 sec\n",
      "\n",
      "Epoch 22 Batch 0 Loss 0.0373\n",
      "Epoch 22 Batch 100 Loss 0.0425\n",
      "Epoch 22 Batch 200 Loss 0.0424\n",
      "Epoch 22 Batch 300 Loss 0.0419\n",
      "Epoch 22 Batch 400 Loss 0.0321\n",
      "Epoch 22 Batch 500 Loss 0.0495\n",
      "Epoch 22 Batch 600 Loss 0.0460\n",
      "Epoch 22 Batch 700 Loss 0.0702\n",
      "Epoch 22 Batch 800 Loss 0.0494\n",
      "Epoch 22 Batch 900 Loss 0.0508\n",
      "Epoch 22 Batch 1000 Loss 0.0605\n",
      "Epoch 22 Batch 1100 Loss 0.0557\n",
      "Epoch 22 Batch 1200 Loss 0.0406\n",
      "Epoch 22 Loss 0.0506\n",
      "Time taken for 1 epoch 131.09141325950623 sec\n",
      "\n",
      "Epoch 23 Batch 0 Loss 0.0475\n",
      "Epoch 23 Batch 100 Loss 0.0464\n",
      "Epoch 23 Batch 200 Loss 0.0272\n",
      "Epoch 23 Batch 300 Loss 0.0644\n",
      "Epoch 23 Batch 400 Loss 0.0155\n",
      "Epoch 23 Batch 500 Loss 0.0629\n",
      "Epoch 23 Batch 600 Loss 0.0499\n",
      "Epoch 23 Batch 700 Loss 0.0788\n",
      "Epoch 23 Batch 800 Loss 0.0694\n",
      "Epoch 23 Batch 900 Loss 0.0924\n",
      "Epoch 23 Batch 1000 Loss 0.0291\n",
      "Epoch 23 Batch 1100 Loss 0.0459\n",
      "Epoch 23 Batch 1200 Loss 0.0665\n",
      "Epoch 23 Loss 0.0507\n",
      "Time taken for 1 epoch 126.90646290779114 sec\n",
      "\n",
      "Epoch 24 Batch 0 Loss 0.0327\n",
      "Epoch 24 Batch 100 Loss 0.0574\n",
      "Epoch 24 Batch 200 Loss 0.0459\n",
      "Epoch 24 Batch 300 Loss 0.0479\n",
      "Epoch 24 Batch 400 Loss 0.0342\n",
      "Epoch 24 Batch 500 Loss 0.0595\n",
      "Epoch 24 Batch 600 Loss 0.0465\n",
      "Epoch 24 Batch 700 Loss 0.0317\n",
      "Epoch 24 Batch 800 Loss 0.0355\n",
      "Epoch 24 Batch 900 Loss 0.0532\n",
      "Epoch 24 Batch 1000 Loss 0.0615\n",
      "Epoch 24 Batch 1100 Loss 0.0657\n",
      "Epoch 24 Batch 1200 Loss 0.0527\n",
      "Epoch 24 Loss 0.0497\n",
      "Time taken for 1 epoch 131.51209497451782 sec\n",
      "\n",
      "Epoch 25 Batch 0 Loss 0.0533\n",
      "Epoch 25 Batch 100 Loss 0.0549\n",
      "Epoch 25 Batch 200 Loss 0.0590\n",
      "Epoch 25 Batch 300 Loss 0.0494\n",
      "Epoch 25 Batch 400 Loss 0.0608\n",
      "Epoch 25 Batch 500 Loss 0.0406\n",
      "Epoch 25 Batch 600 Loss 0.0393\n",
      "Epoch 25 Batch 700 Loss 0.0542\n",
      "Epoch 25 Batch 800 Loss 0.0767\n",
      "Epoch 25 Batch 900 Loss 0.0544\n",
      "Epoch 25 Batch 1000 Loss 0.0432\n",
      "Epoch 25 Batch 1100 Loss 0.0642\n",
      "Epoch 25 Batch 1200 Loss 0.0421\n",
      "Epoch 25 Loss 0.0483\n",
      "Time taken for 1 epoch 128.67508363723755 sec\n",
      "\n",
      "Epoch 26 Batch 0 Loss 0.0349\n",
      "Epoch 26 Batch 100 Loss 0.0368\n",
      "Epoch 26 Batch 200 Loss 0.0582\n",
      "Epoch 26 Batch 300 Loss 0.0434\n",
      "Epoch 26 Batch 400 Loss 0.0505\n",
      "Epoch 26 Batch 500 Loss 0.0532\n",
      "Epoch 26 Batch 600 Loss 0.0373\n",
      "Epoch 26 Batch 700 Loss 0.0508\n",
      "Epoch 26 Batch 800 Loss 0.0653\n",
      "Epoch 26 Batch 900 Loss 0.0681\n",
      "Epoch 26 Batch 1000 Loss 0.0797\n",
      "Epoch 26 Batch 1100 Loss 0.0418\n",
      "Epoch 26 Batch 1200 Loss 0.0496\n",
      "Epoch 26 Loss 0.0469\n",
      "Time taken for 1 epoch 132.19274616241455 sec\n",
      "\n",
      "Epoch 27 Batch 0 Loss 0.0282\n",
      "Epoch 27 Batch 100 Loss 0.0192\n",
      "Epoch 27 Batch 200 Loss 0.0767\n",
      "Epoch 27 Batch 300 Loss 0.0620\n",
      "Epoch 27 Batch 400 Loss 0.0386\n",
      "Epoch 27 Batch 500 Loss 0.0491\n",
      "Epoch 27 Batch 600 Loss 0.0375\n",
      "Epoch 27 Batch 700 Loss 0.0668\n",
      "Epoch 27 Batch 800 Loss 0.0254\n",
      "Epoch 27 Batch 900 Loss 0.0615\n",
      "Epoch 27 Batch 1000 Loss 0.0496\n",
      "Epoch 27 Batch 1100 Loss 0.0368\n",
      "Epoch 27 Batch 1200 Loss 0.0646\n",
      "Epoch 27 Loss 0.0468\n",
      "Time taken for 1 epoch 127.95755577087402 sec\n",
      "\n",
      "Epoch 28 Batch 0 Loss 0.0541\n",
      "Epoch 28 Batch 100 Loss 0.0438\n",
      "Epoch 28 Batch 200 Loss 0.0501\n",
      "Epoch 28 Batch 300 Loss 0.0335\n",
      "Epoch 28 Batch 400 Loss 0.0583\n",
      "Epoch 28 Batch 500 Loss 0.0597\n",
      "Epoch 28 Batch 600 Loss 0.0566\n",
      "Epoch 28 Batch 700 Loss 0.0297\n",
      "Epoch 28 Batch 800 Loss 0.0393\n",
      "Epoch 28 Batch 900 Loss 0.0552\n",
      "Epoch 28 Batch 1000 Loss 0.0371\n",
      "Epoch 28 Batch 1100 Loss 0.0423\n",
      "Epoch 28 Batch 1200 Loss 0.0633\n",
      "Epoch 28 Loss 0.0473\n",
      "Time taken for 1 epoch 131.79869413375854 sec\n",
      "\n",
      "Epoch 29 Batch 0 Loss 0.0220\n",
      "Epoch 29 Batch 100 Loss 0.0373\n",
      "Epoch 29 Batch 200 Loss 0.0302\n",
      "Epoch 29 Batch 300 Loss 0.0421\n",
      "Epoch 29 Batch 400 Loss 0.0711\n",
      "Epoch 29 Batch 500 Loss 0.0602\n",
      "Epoch 29 Batch 600 Loss 0.0598\n",
      "Epoch 29 Batch 700 Loss 0.0416\n",
      "Epoch 29 Batch 800 Loss 0.0498\n",
      "Epoch 29 Batch 900 Loss 0.0521\n",
      "Epoch 29 Batch 1000 Loss 0.0774\n",
      "Epoch 29 Batch 1100 Loss 0.0686\n",
      "Epoch 29 Batch 1200 Loss 0.0329\n",
      "Epoch 29 Loss 0.0459\n",
      "Time taken for 1 epoch 128.46162676811218 sec\n",
      "\n",
      "Epoch 30 Batch 0 Loss 0.0628\n",
      "Epoch 30 Batch 100 Loss 0.0211\n",
      "Epoch 30 Batch 200 Loss 0.0316\n",
      "Epoch 30 Batch 300 Loss 0.0359\n",
      "Epoch 30 Batch 400 Loss 0.0387\n",
      "Epoch 30 Batch 500 Loss 0.0206\n",
      "Epoch 30 Batch 600 Loss 0.0419\n",
      "Epoch 30 Batch 700 Loss 0.0562\n",
      "Epoch 30 Batch 800 Loss 0.0479\n",
      "Epoch 30 Batch 900 Loss 0.0599\n",
      "Epoch 30 Batch 1000 Loss 0.0580\n",
      "Epoch 30 Batch 1100 Loss 0.0651\n",
      "Epoch 30 Batch 1200 Loss 0.0541\n",
      "Epoch 30 Loss 0.0451\n",
      "Time taken for 1 epoch 132.47085738182068 sec\n",
      "\n",
      "Epoch 31 Batch 0 Loss 0.0364\n",
      "Epoch 31 Batch 100 Loss 0.0177\n",
      "Epoch 31 Batch 200 Loss 0.0441\n",
      "Epoch 31 Batch 300 Loss 0.0249\n",
      "Epoch 31 Batch 400 Loss 0.0345\n",
      "Epoch 31 Batch 500 Loss 0.0419\n",
      "Epoch 31 Batch 600 Loss 0.0252\n",
      "Epoch 31 Batch 700 Loss 0.0715\n",
      "Epoch 31 Batch 800 Loss 0.0225\n",
      "Epoch 31 Batch 900 Loss 0.0301\n",
      "Epoch 31 Batch 1000 Loss 0.0706\n",
      "Epoch 31 Batch 1100 Loss 0.0554\n",
      "Epoch 31 Batch 1200 Loss 0.0380\n",
      "Epoch 31 Loss 0.0441\n",
      "Time taken for 1 epoch 127.20306873321533 sec\n",
      "\n",
      "Epoch 32 Batch 0 Loss 0.0235\n",
      "Epoch 32 Batch 100 Loss 0.0407\n",
      "Epoch 32 Batch 200 Loss 0.0426\n",
      "Epoch 32 Batch 300 Loss 0.0335\n",
      "Epoch 32 Batch 400 Loss 0.0187\n",
      "Epoch 32 Batch 500 Loss 0.0645\n",
      "Epoch 32 Batch 600 Loss 0.0443\n",
      "Epoch 32 Batch 700 Loss 0.0386\n",
      "Epoch 32 Batch 800 Loss 0.0496\n",
      "Epoch 32 Batch 900 Loss 0.0525\n",
      "Epoch 32 Batch 1000 Loss 0.0660\n",
      "Epoch 32 Batch 1100 Loss 0.0561\n",
      "Epoch 32 Batch 1200 Loss 0.0548\n",
      "Epoch 32 Loss 0.0439\n",
      "Time taken for 1 epoch 130.72851514816284 sec\n",
      "\n",
      "Epoch 33 Batch 0 Loss 0.0419\n",
      "Epoch 33 Batch 100 Loss 0.0367\n",
      "Epoch 33 Batch 200 Loss 0.0547\n",
      "Epoch 33 Batch 300 Loss 0.0313\n",
      "Epoch 33 Batch 400 Loss 0.0518\n",
      "Epoch 33 Batch 500 Loss 0.0410\n",
      "Epoch 33 Batch 600 Loss 0.0511\n",
      "Epoch 33 Batch 700 Loss 0.0458\n",
      "Epoch 33 Batch 800 Loss 0.0453\n",
      "Epoch 33 Batch 900 Loss 0.0383\n",
      "Epoch 33 Batch 1000 Loss 0.0854\n",
      "Epoch 33 Batch 1100 Loss 0.0519\n",
      "Epoch 33 Batch 1200 Loss 0.0893\n",
      "Epoch 33 Loss 0.0439\n",
      "Time taken for 1 epoch 126.1945333480835 sec\n",
      "\n",
      "Epoch 34 Batch 0 Loss 0.0315\n",
      "Epoch 34 Batch 100 Loss 0.0397\n",
      "Epoch 34 Batch 200 Loss 0.0528\n",
      "Epoch 34 Batch 300 Loss 0.0297\n",
      "Epoch 34 Batch 400 Loss 0.0538\n",
      "Epoch 34 Batch 500 Loss 0.0417\n",
      "Epoch 34 Batch 600 Loss 0.0460\n",
      "Epoch 34 Batch 700 Loss 0.0526\n",
      "Epoch 34 Batch 800 Loss 0.0651\n",
      "Epoch 34 Batch 900 Loss 0.0480\n",
      "Epoch 34 Batch 1000 Loss 0.0439\n",
      "Epoch 34 Batch 1100 Loss 0.0380\n",
      "Epoch 34 Batch 1200 Loss 0.0609\n",
      "Epoch 34 Loss 0.0430\n",
      "Time taken for 1 epoch 130.21416974067688 sec\n",
      "\n",
      "Epoch 35 Batch 0 Loss 0.0313\n",
      "Epoch 35 Batch 100 Loss 0.0367\n",
      "Epoch 35 Batch 200 Loss 0.0234\n",
      "Epoch 35 Batch 300 Loss 0.0328\n",
      "Epoch 35 Batch 400 Loss 0.0408\n",
      "Epoch 35 Batch 500 Loss 0.0336\n",
      "Epoch 35 Batch 600 Loss 0.0639\n",
      "Epoch 35 Batch 700 Loss 0.0494\n",
      "Epoch 35 Batch 800 Loss 0.0419\n",
      "Epoch 35 Batch 900 Loss 0.0448\n",
      "Epoch 35 Batch 1000 Loss 0.0544\n",
      "Epoch 35 Batch 1100 Loss 0.0442\n",
      "Epoch 35 Batch 1200 Loss 0.0556\n",
      "Epoch 35 Loss 0.0424\n",
      "Time taken for 1 epoch 131.33049964904785 sec\n",
      "\n",
      "Epoch 36 Batch 0 Loss 0.0391\n"
     ]
    },
    {
     "name": "stdout",
     "output_type": "stream",
     "text": [
      "Epoch 36 Batch 100 Loss 0.0276\n",
      "Epoch 36 Batch 200 Loss 0.0468\n",
      "Epoch 36 Batch 300 Loss 0.0540\n",
      "Epoch 36 Batch 400 Loss 0.0432\n",
      "Epoch 36 Batch 500 Loss 0.0244\n",
      "Epoch 36 Batch 600 Loss 0.0245\n",
      "Epoch 36 Batch 700 Loss 0.0379\n",
      "Epoch 36 Batch 800 Loss 0.0339\n",
      "Epoch 36 Batch 900 Loss 0.0505\n",
      "Epoch 36 Batch 1000 Loss 0.0597\n",
      "Epoch 36 Batch 1100 Loss 0.0467\n",
      "Epoch 36 Batch 1200 Loss 0.0516\n",
      "Epoch 36 Loss 0.0422\n",
      "Time taken for 1 epoch 136.63674902915955 sec\n",
      "\n",
      "Epoch 37 Batch 0 Loss 0.0321\n",
      "Epoch 37 Batch 100 Loss 0.0304\n",
      "Epoch 37 Batch 200 Loss 0.0353\n",
      "Epoch 37 Batch 300 Loss 0.0246\n",
      "Epoch 37 Batch 400 Loss 0.0409\n",
      "Epoch 37 Batch 500 Loss 0.0411\n",
      "Epoch 37 Batch 600 Loss 0.0364\n",
      "Epoch 37 Batch 700 Loss 0.0220\n",
      "Epoch 37 Batch 800 Loss 0.0658\n",
      "Epoch 37 Batch 900 Loss 0.0272\n",
      "Epoch 37 Batch 1000 Loss 0.0574\n",
      "Epoch 37 Batch 1100 Loss 0.0546\n",
      "Epoch 37 Batch 1200 Loss 0.0468\n",
      "Epoch 37 Loss 0.0430\n",
      "Time taken for 1 epoch 126.75643587112427 sec\n",
      "\n",
      "Epoch 38 Batch 0 Loss 0.0290\n",
      "Epoch 38 Batch 100 Loss 0.0446\n",
      "Epoch 38 Batch 200 Loss 0.0327\n",
      "Epoch 38 Batch 300 Loss 0.0434\n",
      "Epoch 38 Batch 400 Loss 0.0401\n",
      "Epoch 38 Batch 500 Loss 0.0476\n",
      "Epoch 38 Batch 600 Loss 0.0221\n",
      "Epoch 38 Batch 700 Loss 0.0373\n",
      "Epoch 38 Batch 800 Loss 0.0497\n",
      "Epoch 38 Batch 900 Loss 0.0615\n",
      "Epoch 38 Batch 1000 Loss 0.0591\n",
      "Epoch 38 Batch 1100 Loss 0.0422\n",
      "Epoch 38 Batch 1200 Loss 0.0565\n",
      "Epoch 38 Loss 0.0412\n",
      "Time taken for 1 epoch 131.21677255630493 sec\n",
      "\n",
      "Epoch 39 Batch 0 Loss 0.0213\n",
      "Epoch 39 Batch 100 Loss 0.0267\n",
      "Epoch 39 Batch 200 Loss 0.0299\n",
      "Epoch 39 Batch 300 Loss 0.0327\n",
      "Epoch 39 Batch 400 Loss 0.0337\n",
      "Epoch 39 Batch 500 Loss 0.0280\n",
      "Epoch 39 Batch 600 Loss 0.0431\n",
      "Epoch 39 Batch 700 Loss 0.0314\n",
      "Epoch 39 Batch 800 Loss 0.0391\n",
      "Epoch 39 Batch 900 Loss 0.0293\n",
      "Epoch 39 Batch 1000 Loss 0.0386\n",
      "Epoch 39 Batch 1100 Loss 0.0499\n",
      "Epoch 39 Batch 1200 Loss 0.0297\n",
      "Epoch 39 Loss 0.0399\n",
      "Time taken for 1 epoch 128.1324064731598 sec\n",
      "\n",
      "Epoch 40 Batch 0 Loss 0.0414\n",
      "Epoch 40 Batch 100 Loss 0.0347\n",
      "Epoch 40 Batch 200 Loss 0.0325\n",
      "Epoch 40 Batch 300 Loss 0.0573\n",
      "Epoch 40 Batch 400 Loss 0.0401\n",
      "Epoch 40 Batch 500 Loss 0.0420\n",
      "Epoch 40 Batch 600 Loss 0.0382\n",
      "Epoch 40 Batch 700 Loss 0.0379\n",
      "Epoch 40 Batch 800 Loss 0.0314\n",
      "Epoch 40 Batch 900 Loss 0.0460\n",
      "Epoch 40 Batch 1000 Loss 0.0379\n",
      "Epoch 40 Batch 1100 Loss 0.0377\n",
      "Epoch 40 Batch 1200 Loss 0.0658\n",
      "Epoch 40 Loss 0.0400\n",
      "Time taken for 1 epoch 132.50515508651733 sec\n",
      "\n",
      "Epoch 41 Batch 0 Loss 0.0219\n",
      "Epoch 41 Batch 100 Loss 0.0260\n",
      "Epoch 41 Batch 200 Loss 0.0303\n",
      "Epoch 41 Batch 300 Loss 0.0588\n",
      "Epoch 41 Batch 400 Loss 0.0306\n",
      "Epoch 41 Batch 500 Loss 0.0374\n",
      "Epoch 41 Batch 600 Loss 0.0314\n",
      "Epoch 41 Batch 700 Loss 0.0449\n",
      "Epoch 41 Batch 800 Loss 0.0283\n",
      "Epoch 41 Batch 900 Loss 0.0385\n",
      "Epoch 41 Batch 1000 Loss 0.0451\n",
      "Epoch 41 Batch 1100 Loss 0.0535\n",
      "Epoch 41 Batch 1200 Loss 0.0531\n",
      "Epoch 41 Loss 0.0412\n",
      "Time taken for 1 epoch 129.58179664611816 sec\n",
      "\n",
      "Epoch 42 Batch 0 Loss 0.0255\n",
      "Epoch 42 Batch 100 Loss 0.0376\n",
      "Epoch 42 Batch 200 Loss 0.0439\n",
      "Epoch 42 Batch 300 Loss 0.0580\n",
      "Epoch 42 Batch 400 Loss 0.0225\n",
      "Epoch 42 Batch 500 Loss 0.0283\n",
      "Epoch 42 Batch 600 Loss 0.0562\n",
      "Epoch 42 Batch 700 Loss 0.0356\n",
      "Epoch 42 Batch 800 Loss 0.0328\n",
      "Epoch 42 Batch 900 Loss 0.0430\n",
      "Epoch 42 Batch 1000 Loss 0.0386\n",
      "Epoch 42 Batch 1100 Loss 0.0452\n",
      "Epoch 42 Batch 1200 Loss 0.0478\n",
      "Epoch 42 Loss 0.0400\n",
      "Time taken for 1 epoch 135.38124704360962 sec\n",
      "\n",
      "Epoch 43 Batch 0 Loss 0.0297\n",
      "Epoch 43 Batch 100 Loss 0.0332\n",
      "Epoch 43 Batch 200 Loss 0.0328\n",
      "Epoch 43 Batch 300 Loss 0.0182\n",
      "Epoch 43 Batch 400 Loss 0.0368\n",
      "Epoch 43 Batch 500 Loss 0.0368\n",
      "Epoch 43 Batch 600 Loss 0.0349\n",
      "Epoch 43 Batch 700 Loss 0.0506\n",
      "Epoch 43 Batch 800 Loss 0.0325\n",
      "Epoch 43 Batch 900 Loss 0.0454\n",
      "Epoch 43 Batch 1000 Loss 0.0400\n",
      "Epoch 43 Batch 1100 Loss 0.0424\n",
      "Epoch 43 Batch 1200 Loss 0.0440\n",
      "Epoch 43 Loss 0.0395\n",
      "Time taken for 1 epoch 137.38900113105774 sec\n",
      "\n",
      "Epoch 44 Batch 0 Loss 0.0379\n",
      "Epoch 44 Batch 100 Loss 0.0295\n",
      "Epoch 44 Batch 200 Loss 0.0256\n",
      "Epoch 44 Batch 300 Loss 0.0368\n",
      "Epoch 44 Batch 400 Loss 0.0479\n",
      "Epoch 44 Batch 500 Loss 0.0362\n",
      "Epoch 44 Batch 600 Loss 0.0253\n",
      "Epoch 44 Batch 700 Loss 0.0478\n",
      "Epoch 44 Batch 800 Loss 0.0380\n",
      "Epoch 44 Batch 900 Loss 0.0619\n",
      "Epoch 44 Batch 1000 Loss 0.0322\n",
      "Epoch 44 Batch 1100 Loss 0.0461\n",
      "Epoch 44 Batch 1200 Loss 0.0423\n",
      "Epoch 44 Loss 0.0390\n",
      "Time taken for 1 epoch 137.38980793952942 sec\n",
      "\n",
      "Epoch 45 Batch 0 Loss 0.0275\n",
      "Epoch 45 Batch 100 Loss 0.0361\n",
      "Epoch 45 Batch 200 Loss 0.0278\n",
      "Epoch 45 Batch 300 Loss 0.0274\n",
      "Epoch 45 Batch 400 Loss 0.0351\n",
      "Epoch 45 Batch 500 Loss 0.0443\n",
      "Epoch 45 Batch 600 Loss 0.0321\n",
      "Epoch 45 Batch 700 Loss 0.0179\n",
      "Epoch 45 Batch 800 Loss 0.0470\n",
      "Epoch 45 Batch 900 Loss 0.0686\n",
      "Epoch 45 Batch 1000 Loss 0.0373\n",
      "Epoch 45 Batch 1100 Loss 0.0293\n",
      "Epoch 45 Batch 1200 Loss 0.0318\n",
      "Epoch 45 Loss 0.0389\n",
      "Time taken for 1 epoch 132.49507546424866 sec\n",
      "\n",
      "Epoch 46 Batch 0 Loss 0.0442\n",
      "Epoch 46 Batch 100 Loss 0.0278\n",
      "Epoch 46 Batch 200 Loss 0.0301\n",
      "Epoch 46 Batch 300 Loss 0.0329\n",
      "Epoch 46 Batch 400 Loss 0.0280\n",
      "Epoch 46 Batch 500 Loss 0.0253\n",
      "Epoch 46 Batch 600 Loss 0.0375\n",
      "Epoch 46 Batch 700 Loss 0.0299\n",
      "Epoch 46 Batch 800 Loss 0.0389\n",
      "Epoch 46 Batch 900 Loss 0.0325\n",
      "Epoch 46 Batch 1000 Loss 0.0540\n",
      "Epoch 46 Batch 1100 Loss 0.0456\n",
      "Epoch 46 Batch 1200 Loss 0.0374\n",
      "Epoch 46 Loss 0.0394\n",
      "Time taken for 1 epoch 135.83059191703796 sec\n",
      "\n",
      "Epoch 47 Batch 0 Loss 0.0319\n",
      "Epoch 47 Batch 100 Loss 0.0346\n",
      "Epoch 47 Batch 200 Loss 0.0197\n",
      "Epoch 47 Batch 300 Loss 0.0374\n",
      "Epoch 47 Batch 400 Loss 0.0221\n",
      "Epoch 47 Batch 500 Loss 0.0317\n",
      "Epoch 47 Batch 600 Loss 0.0364\n",
      "Epoch 47 Batch 700 Loss 0.0498\n",
      "Epoch 47 Batch 800 Loss 0.0452\n",
      "Epoch 47 Batch 900 Loss 0.0751\n",
      "Epoch 47 Batch 1000 Loss 0.0563\n",
      "Epoch 47 Batch 1100 Loss 0.0497\n",
      "Epoch 47 Batch 1200 Loss 0.0583\n",
      "Epoch 47 Loss 0.0388\n",
      "Time taken for 1 epoch 133.4399676322937 sec\n",
      "\n",
      "Epoch 48 Batch 0 Loss 0.0171\n",
      "Epoch 48 Batch 100 Loss 0.0620\n",
      "Epoch 48 Batch 200 Loss 0.0224\n",
      "Epoch 48 Batch 300 Loss 0.0516\n",
      "Epoch 48 Batch 400 Loss 0.0337\n",
      "Epoch 48 Batch 500 Loss 0.0324\n",
      "Epoch 48 Batch 600 Loss 0.0433\n",
      "Epoch 48 Batch 700 Loss 0.0499\n",
      "Epoch 48 Batch 800 Loss 0.0219\n",
      "Epoch 48 Batch 900 Loss 0.0228\n",
      "Epoch 48 Batch 1000 Loss 0.0688\n",
      "Epoch 48 Batch 1100 Loss 0.0274\n",
      "Epoch 48 Batch 1200 Loss 0.0271\n",
      "Epoch 48 Loss 0.0388\n",
      "Time taken for 1 epoch 137.0672092437744 sec\n",
      "\n",
      "Epoch 49 Batch 0 Loss 0.0395\n",
      "Epoch 49 Batch 100 Loss 0.0393\n",
      "Epoch 49 Batch 200 Loss 0.0345\n",
      "Epoch 49 Batch 300 Loss 0.0344\n",
      "Epoch 49 Batch 400 Loss 0.0263\n",
      "Epoch 49 Batch 500 Loss 0.0355\n",
      "Epoch 49 Batch 600 Loss 0.0306\n",
      "Epoch 49 Batch 700 Loss 0.0459\n",
      "Epoch 49 Batch 800 Loss 0.0535\n",
      "Epoch 49 Batch 900 Loss 0.0335\n",
      "Epoch 49 Batch 1000 Loss 0.0202\n",
      "Epoch 49 Batch 1100 Loss 0.0467\n",
      "Epoch 49 Batch 1200 Loss 0.0379\n",
      "Epoch 49 Loss 0.0384\n",
      "Time taken for 1 epoch 134.22708225250244 sec\n",
      "\n",
      "Epoch 50 Batch 0 Loss 0.0168\n",
      "Epoch 50 Batch 100 Loss 0.0308\n",
      "Epoch 50 Batch 200 Loss 0.0335\n",
      "Epoch 50 Batch 300 Loss 0.0670\n",
      "Epoch 50 Batch 400 Loss 0.0465\n",
      "Epoch 50 Batch 500 Loss 0.0238\n",
      "Epoch 50 Batch 600 Loss 0.0460\n",
      "Epoch 50 Batch 700 Loss 0.0233\n",
      "Epoch 50 Batch 800 Loss 0.0338\n",
      "Epoch 50 Batch 900 Loss 0.0498\n",
      "Epoch 50 Batch 1000 Loss 0.0470\n",
      "Epoch 50 Batch 1100 Loss 0.0472\n",
      "Epoch 50 Batch 1200 Loss 0.0431\n",
      "Epoch 50 Loss 0.0383\n",
      "Time taken for 1 epoch 137.35013842582703 sec\n",
      "\n"
     ]
    }
   ],
   "source": [
    "EPOCHS = 50\n",
    "loss_info_to_plot=[]\n",
    "\n",
    "for epoch in range(EPOCHS):\n",
    "    start = time.time()\n",
    "\n",
    "    enc_hidden = encoder.initialize_hidden_state()\n",
    "    total_loss = 0\n",
    "\n",
    "    for (batch, (inp, targ)) in enumerate(dataset.take(steps_per_epoch)):\n",
    "        batch_loss = train_step(inp, targ, enc_hidden)\n",
    "        total_loss += batch_loss\n",
    "\n",
    "        if batch % 100 == 0:\n",
    "            print('Epoch {} Batch {} Loss {:.4f}'.format(epoch + 1,\n",
    "                                                       batch,\n",
    "                                                       batch_loss.numpy()))\n",
    "            loss_info_to_plot.append(batch_loss.numpy())\n",
    "            \n",
    "    # saving (checkpoint) the model every 2 epochs\n",
    "    if (epoch + 1) % 2 == 0:\n",
    "        checkpoint.save(file_prefix = checkpoint_prefix)\n",
    "\n",
    "    print('Epoch {} Loss {:.4f}'.format(epoch + 1,\n",
    "                                      total_loss / steps_per_epoch))\n",
    "    print('Time taken for 1 epoch {} sec\\n'.format(time.time() - start))"
   ]
  },
  {
   "cell_type": "code",
   "execution_count": 27,
   "metadata": {},
   "outputs": [
    {
     "data": {
      "image/png": "[encoded data removed]",
      "text/plain": [
       "<Figure size 576x432 with 1 Axes>"
      ]
     },
     "metadata": {
      "needs_background": "light"
     },
     "output_type": "display_data"
    }
   ],
   "source": [
    "plt.figure(figsize=(8, 6))\n",
    "plt.plot(loss_info_to_plot)\n",
    "plt.grid(True)\n",
    "plt.show()"
   ]
  },
  {
   "cell_type": "markdown",
   "metadata": {
    "id": "mU3Ce8M6I3rz"
   },
   "source": [
    "## Translate\n",
    "\n",
    "* The evaluate function is similar to the training loop, except we don't use *teacher forcing* here. The input to the decoder at each time step is its previous predictions along with the hidden state and the encoder output.\n",
    "* Stop predicting when the model predicts the *end token*.\n",
    "* And store the *attention weights for every time step*.\n",
    "\n",
    "Note: The encoder output is calculated only once for one input."
   ]
  },
  {
   "cell_type": "code",
   "execution_count": 28,
   "metadata": {
    "id": "EbQpyYs13jF_"
   },
   "outputs": [],
   "source": [
    "def evaluate(sentence):\n",
    "    attention_plot = np.zeros((max_length_targ, max_length_inp))\n",
    "\n",
    "    sentence = preprocess_sentence(sentence)\n",
    "\n",
    "    inputs = [inp_lang.word_index[i] for i in sentence.split(' ')]\n",
    "    inputs = tf.keras.preprocessing.sequence.pad_sequences([inputs],\n",
    "                                                         maxlen=max_length_inp,\n",
    "                                                         padding='post')\n",
    "    inputs = tf.convert_to_tensor(inputs)\n",
    "\n",
    "    result = ''\n",
    "\n",
    "    hidden = [tf.zeros((1, units))]\n",
    "    enc_out, enc_hidden = encoder(inputs, hidden)\n",
    "\n",
    "    dec_hidden = enc_hidden\n",
    "    dec_input = tf.expand_dims([targ_lang.word_index['<start>']], 0)\n",
    "\n",
    "    for t in range(max_length_targ):\n",
    "        predictions, dec_hidden, attention_weights = decoder(dec_input,\n",
    "                                                             dec_hidden,\n",
    "                                                             enc_out)\n",
    "\n",
    "        # storing the attention weights to plot later on\n",
    "        attention_weights = tf.reshape(attention_weights, (-1, ))\n",
    "        attention_plot[t] = attention_weights.numpy()\n",
    "\n",
    "        predicted_id = tf.argmax(predictions[0]).numpy()\n",
    "\n",
    "        result += targ_lang.index_word[predicted_id] + ' '\n",
    "\n",
    "        if targ_lang.index_word[predicted_id] == '<end>':\n",
    "            return result, sentence, attention_plot\n",
    "\n",
    "        # the predicted ID is fed back into the model\n",
    "        dec_input = tf.expand_dims([predicted_id], 0)\n",
    "\n",
    "    return result, sentence, attention_plot"
   ]
  },
  {
   "cell_type": "code",
   "execution_count": 29,
   "metadata": {
    "id": "s5hQWlbN3jGF"
   },
   "outputs": [],
   "source": [
    "# function for plotting the attention weights\n",
    "def plot_attention(attention, sentence, predicted_sentence):\n",
    "    fig = plt.figure(figsize=(10,10))\n",
    "    ax = fig.add_subplot(1, 1, 1)\n",
    "    ax.matshow(attention, cmap='viridis')\n",
    "\n",
    "    fontdict = {'fontsize': 14}\n",
    "\n",
    "    ax.set_xticklabels([''] + sentence, fontdict=fontdict, rotation=90)\n",
    "    ax.set_yticklabels([''] + predicted_sentence, fontdict=fontdict)\n",
    "\n",
    "    ax.xaxis.set_major_locator(ticker.MultipleLocator(1))\n",
    "    ax.yaxis.set_major_locator(ticker.MultipleLocator(1))\n",
    "\n",
    "    plt.show()"
   ]
  },
  {
   "cell_type": "code",
   "execution_count": 30,
   "metadata": {
    "id": "sl9zUHzg3jGI"
   },
   "outputs": [],
   "source": [
    "def translate(sentence):\n",
    "    result, sentence, attention_plot = evaluate(sentence)\n",
    "\n",
    "    print('Input: %s' % (sentence))\n",
    "    print('Predicted translation: {}'.format(result))\n",
    "\n",
    "    attention_plot = attention_plot[:len(result.split(' ')), :len(sentence.split(' '))]\n",
    "    plot_attention(attention_plot, sentence.split(' '), result.split(' '))"
   ]
  },
  {
   "cell_type": "markdown",
   "metadata": {
    "id": "n250XbnjOaqP"
   },
   "source": [
    "## Restore the latest checkpoint and test"
   ]
  },
  {
   "cell_type": "code",
   "execution_count": 31,
   "metadata": {
    "id": "UJpT9D5_OgP6"
   },
   "outputs": [
    {
     "data": {
      "text/plain": [
       "<tensorflow.python.training.tracking.util.CheckpointLoadStatus at 0x16fc4b55df0>"
      ]
     },
     "execution_count": 31,
     "metadata": {},
     "output_type": "execute_result"
    }
   ],
   "source": [
    "# restoring the latest checkpoint in checkpoint_dir\n",
    "checkpoint.restore(tf.train.latest_checkpoint(checkpoint_dir))"
   ]
  },
  {
   "cell_type": "code",
   "execution_count": 32,
   "metadata": {
    "id": "WrAM0FDomq3E"
   },
   "outputs": [
    {
     "name": "stdout",
     "output_type": "stream",
     "text": [
      "Input: <start> здесь хорошо . <end>\n",
      "Predicted translation: it's good here . <end> \n"
     ]
    },
    {
     "name": "stderr",
     "output_type": "stream",
     "text": [
      "<ipython-input-29-71f02795d875>:9: UserWarning: FixedFormatter should only be used together with FixedLocator\n",
      "  ax.set_xticklabels([''] + sentence, fontdict=fontdict, rotation=90)\n",
      "<ipython-input-29-71f02795d875>:10: UserWarning: FixedFormatter should only be used together with FixedLocator\n",
      "  ax.set_yticklabels([''] + predicted_sentence, fontdict=fontdict)\n"
     ]
    },
    {
     "data": {
      "image/png": "[encoded data removed]",
      "text/plain": [
       "<Figure size 720x720 with 1 Axes>"
      ]
     },
     "metadata": {
      "needs_background": "light"
     },
     "output_type": "display_data"
    }
   ],
   "source": [
    "translate('Здесь хорошо.')"
   ]
  },
  {
   "cell_type": "code",
   "execution_count": 33,
   "metadata": {
    "id": "zSx2iM36EZQZ"
   },
   "outputs": [
    {
     "name": "stdout",
     "output_type": "stream",
     "text": [
      "Input: <start> я не смогу поехать . <end>\n",
      "Predicted translation: i can't go . <end> \n"
     ]
    },
    {
     "name": "stderr",
     "output_type": "stream",
     "text": [
      "<ipython-input-29-71f02795d875>:9: UserWarning: FixedFormatter should only be used together with FixedLocator\n",
      "  ax.set_xticklabels([''] + sentence, fontdict=fontdict, rotation=90)\n",
      "<ipython-input-29-71f02795d875>:10: UserWarning: FixedFormatter should only be used together with FixedLocator\n",
      "  ax.set_yticklabels([''] + predicted_sentence, fontdict=fontdict)\n"
     ]
    },
    {
     "data": {
      "image/png": "[encoded data removed]",
      "text/plain": [
       "<Figure size 720x720 with 1 Axes>"
      ]
     },
     "metadata": {
      "needs_background": "light"
     },
     "output_type": "display_data"
    }
   ],
   "source": [
    "translate('Я не смогу поехать.')"
   ]
  },
  {
   "cell_type": "code",
   "execution_count": 34,
   "metadata": {
    "id": "A3LLCx3ZE0Ls"
   },
   "outputs": [
    {
     "name": "stdout",
     "output_type": "stream",
     "text": [
      "Input: <start> вы еще дома ? <end>\n",
      "Predicted translation: are you still at home ? <end> \n"
     ]
    },
    {
     "name": "stderr",
     "output_type": "stream",
     "text": [
      "<ipython-input-29-71f02795d875>:9: UserWarning: FixedFormatter should only be used together with FixedLocator\n",
      "  ax.set_xticklabels([''] + sentence, fontdict=fontdict, rotation=90)\n",
      "<ipython-input-29-71f02795d875>:10: UserWarning: FixedFormatter should only be used together with FixedLocator\n",
      "  ax.set_yticklabels([''] + predicted_sentence, fontdict=fontdict)\n"
     ]
    },
    {
     "data": {
      "image/png": "[encoded data removed]",
      "text/plain": [
       "<Figure size 720x720 with 1 Axes>"
      ]
     },
     "metadata": {
      "needs_background": "light"
     },
     "output_type": "display_data"
    }
   ],
   "source": [
    "translate(u'Вы еще дома?')"
   ]
  },
  {
   "cell_type": "code",
   "execution_count": 35,
   "metadata": {
    "id": "DUQVLVqUE1YW"
   },
   "outputs": [
    {
     "name": "stdout",
     "output_type": "stream",
     "text": [
      "Input: <start> вы все еще дома ? <end>\n",
      "Predicted translation: are you still at home ? <end> \n"
     ]
    },
    {
     "name": "stderr",
     "output_type": "stream",
     "text": [
      "<ipython-input-29-71f02795d875>:9: UserWarning: FixedFormatter should only be used together with FixedLocator\n",
      "  ax.set_xticklabels([''] + sentence, fontdict=fontdict, rotation=90)\n",
      "<ipython-input-29-71f02795d875>:10: UserWarning: FixedFormatter should only be used together with FixedLocator\n",
      "  ax.set_yticklabels([''] + predicted_sentence, fontdict=fontdict)\n"
     ]
    },
    {
     "data": {
      "image/png": "[encoded data removed]",
      "text/plain": [
       "<Figure size 720x720 with 1 Axes>"
      ]
     },
     "metadata": {
      "needs_background": "light"
     },
     "output_type": "display_data"
    }
   ],
   "source": [
    "translate(u'Вы все еще дома?')"
   ]
  },
  {
   "cell_type": "code",
   "execution_count": 36,
   "metadata": {},
   "outputs": [
    {
     "name": "stdout",
     "output_type": "stream",
     "text": [
      "Input: <start> попробуй сделать это . <end>\n",
      "Predicted translation: try to do that . <end> \n"
     ]
    },
    {
     "name": "stderr",
     "output_type": "stream",
     "text": [
      "<ipython-input-29-71f02795d875>:9: UserWarning: FixedFormatter should only be used together with FixedLocator\n",
      "  ax.set_xticklabels([''] + sentence, fontdict=fontdict, rotation=90)\n",
      "<ipython-input-29-71f02795d875>:10: UserWarning: FixedFormatter should only be used together with FixedLocator\n",
      "  ax.set_yticklabels([''] + predicted_sentence, fontdict=fontdict)\n"
     ]
    },
    {
     "data": {
      "image/png": "[encoded data removed]",
      "text/plain": [
       "<Figure size 720x720 with 1 Axes>"
      ]
     },
     "metadata": {
      "needs_background": "light"
     },
     "output_type": "display_data"
    }
   ],
   "source": [
    "translate(u'Попробуй сделать это.')"
   ]
  },
  {
   "cell_type": "code",
   "execution_count": 37,
   "metadata": {},
   "outputs": [
    {
     "name": "stdout",
     "output_type": "stream",
     "text": [
      "Input: <start> я люблю , когда идет снег . <end>\n",
      "Predicted translation: i love when snow . <end> \n"
     ]
    },
    {
     "name": "stderr",
     "output_type": "stream",
     "text": [
      "<ipython-input-29-71f02795d875>:9: UserWarning: FixedFormatter should only be used together with FixedLocator\n",
      "  ax.set_xticklabels([''] + sentence, fontdict=fontdict, rotation=90)\n",
      "<ipython-input-29-71f02795d875>:10: UserWarning: FixedFormatter should only be used together with FixedLocator\n",
      "  ax.set_yticklabels([''] + predicted_sentence, fontdict=fontdict)\n"
     ]
    },
    {
     "data": {
      "image/png": "[encoded data removed]",
      "text/plain": [
       "<Figure size 720x720 with 1 Axes>"
      ]
     },
     "metadata": {
      "needs_background": "light"
     },
     "output_type": "display_data"
    }
   ],
   "source": [
    "translate(u'Я люблю, когда идет снег.')"
   ]
  },
  {
   "cell_type": "code",
   "execution_count": 38,
   "metadata": {},
   "outputs": [
    {
     "name": "stdout",
     "output_type": "stream",
     "text": [
      "Input: <start> я никогда такого не делаю . <end>\n",
      "Predicted translation: i never do that . <end> \n"
     ]
    },
    {
     "name": "stderr",
     "output_type": "stream",
     "text": [
      "<ipython-input-29-71f02795d875>:9: UserWarning: FixedFormatter should only be used together with FixedLocator\n",
      "  ax.set_xticklabels([''] + sentence, fontdict=fontdict, rotation=90)\n",
      "<ipython-input-29-71f02795d875>:10: UserWarning: FixedFormatter should only be used together with FixedLocator\n",
      "  ax.set_yticklabels([''] + predicted_sentence, fontdict=fontdict)\n"
     ]
    },
    {
     "data": {
      "image/png": "[encoded data removed]",
      "text/plain": [
       "<Figure size 720x720 with 1 Axes>"
      ]
     },
     "metadata": {
      "needs_background": "light"
     },
     "output_type": "display_data"
    }
   ],
   "source": [
    "translate(u'Я никогда такого не делаю.')"
   ]
  },
  {
   "cell_type": "code",
   "execution_count": null,
   "metadata": {},
   "outputs": [],
   "source": []
  },
  {
   "cell_type": "code",
   "execution_count": null,
   "metadata": {},
   "outputs": [],
   "source": []
  },
  {
   "cell_type": "markdown",
   "metadata": {
    "id": "RTe5P5ioMJwN"
   },
   "source": [
    "## Next steps\n",
    "\n",
    "* [Download a different dataset](http://www.manythings.org/anki/) to experiment with translations, for example, English to German, or English to French.\n",
    "* Experiment with training on a larger dataset, or using more epochs\n"
   ]
  }
 ],
 "metadata": {
  "accelerator": "GPU",
  "colab": {
   "collapsed_sections": [],
   "name": "nmt_with_attention.ipynb",
   "provenance": [],
   "toc_visible": true
  },
  "kernelspec": {
   "display_name": "Python 3",
   "language": "python",
   "name": "python3"
  },
  "language_info": {
   "codemirror_mode": {
    "name": "ipython",
    "version": 3
   },
   "file_extension": ".py",
   "mimetype": "text/x-python",
   "name": "python",
   "nbconvert_exporter": "python",
   "pygments_lexer": "ipython3",
   "version": "3.8.6"
  }
 },
 "nbformat": 4,
 "nbformat_minor": 1
}
