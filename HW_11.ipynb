{
 "cells": [
  {
   "cell_type": "markdown",
   "id": "958ee10b",
   "metadata": {},
   "source": [
    "# HW 11"
   ]
  },
  {
   "cell_type": "markdown",
   "id": "3c97b5dd",
   "metadata": {},
   "source": [
    "Варианты перевода разными моделями представленны в этом же депозитарии в файлах:\n",
    "\n",
    "hw_11_transformer_translate\n",
    "\n",
    "hw_11_gru_attention_translate\n",
    "\n",
    "hw_11_gru_translate\n",
    "\n",
    "Результаты работы всех трех моделей сопоставимы."
   ]
  }
 ],
 "metadata": {
  "kernelspec": {
   "display_name": "Python 3",
   "language": "python",
   "name": "python3"
  },
  "language_info": {
   "codemirror_mode": {
    "name": "ipython",
    "version": 3
   },
   "file_extension": ".py",
   "mimetype": "text/x-python",
   "name": "python",
   "nbconvert_exporter": "python",
   "pygments_lexer": "ipython3",
   "version": "3.8.6"
  }
 },
 "nbformat": 4,
 "nbformat_minor": 5
}
